{
 "cells": [
  {
   "cell_type": "markdown",
   "id": "03287f84",
   "metadata": {},
   "source": [
    "# 영단어 암기는 괴로워"
   ]
  },
  {
   "cell_type": "code",
   "execution_count": 5,
   "id": "6e9a312e",
   "metadata": {},
   "outputs": [
    {
     "name": "stdout",
     "output_type": "stream",
     "text": [
      "7 4\n",
      "apple\n",
      "ant\n",
      "sand\n",
      "apple\n",
      "append\n",
      "sand\n",
      "sand\n",
      "sand\n",
      "apple\n",
      "append\n"
     ]
    }
   ],
   "source": [
    "from collections import defaultdict\n",
    "import sys \n",
    "input = sys.stdin.readline\n",
    "\n",
    "n,m = map(int, input().split())\n",
    "words = {}\n",
    "\n",
    "for _ in range(n):\n",
    "    word = input().strip()  ## strip 너무너무 중요하다..!!!\n",
    "    # 길이가 기준이 되는 m 이상인가?\n",
    "    if len(word)>=m:\n",
    "        # word가 딕셔너리에 있을 경우\n",
    "        if words.get(word):\n",
    "            words[word][0]+=1\n",
    "\n",
    "        # word가 딕셔너리에 없을 경우\n",
    "        else:\n",
    "            words[word] = [1, len(word)]\n",
    "\n",
    "# word의 단어 순서를 부여함\n",
    "idx = 0\n",
    "for i in sorted(words.keys()):\n",
    "    words[i].append(idx)\n",
    "    idx+=1\n",
    "    \n",
    "for key in sorted(words, key = lambda x: (-words[x][0], -words[x][1], words[x][2])):\n",
    "    print(key)"
   ]
  },
  {
   "cell_type": "code",
   "execution_count": 8,
   "id": "8b7528d2",
   "metadata": {},
   "outputs": [
    {
     "data": {
      "text/plain": [
       "{'apple': [2, 5, 1], 'sand': [3, 4, 2], 'append': [1, 6, 0]}"
      ]
     },
     "execution_count": 8,
     "metadata": {},
     "output_type": "execute_result"
    }
   ],
   "source": [
    "words"
   ]
  },
  {
   "cell_type": "markdown",
   "id": "b7d06bca",
   "metadata": {},
   "source": [
    "# 단어 공부"
   ]
  },
  {
   "cell_type": "markdown",
   "id": "83783d7c",
   "metadata": {},
   "source": [
    "- 난이도 : 브론즈1\n",
    "- 시간 제한 : 2초\n",
    "- 메모리 제한 : 128MB"
   ]
  },
  {
   "cell_type": "code",
   "execution_count": 4,
   "id": "59d2d411",
   "metadata": {},
   "outputs": [
    {
     "name": "stdout",
     "output_type": "stream",
     "text": [
      "A\n"
     ]
    }
   ],
   "source": [
    "# 답!\n",
    "import sys\n",
    "input = sys.stdin.readline\n",
    "word = input().strip()\n",
    "\n",
    "word_cnt = {}\n",
    "for alphabet in word.upper():\n",
    "    # 만약 있다면?\n",
    "    if word_cnt.get(alphabet):\n",
    "        word_cnt[alphabet]+=1\n",
    "    \n",
    "    # 만약 딕셔너리에 없다면?\n",
    "    else:\n",
    "        word_cnt[alphabet] = 1\n",
    "\n",
    "sorted_word = sorted(word_cnt.items(), key = lambda x:-x[1])\n",
    "\n",
    "for idx in range(len(sorted_word)):\n",
    "    # 글자수가 1초과인 경우\n",
    "    if len(sorted_word)>1:     \n",
    "        # max값이 같은게 여러개인 경우\n",
    "        if sorted_word[idx][1]==sorted_word[idx+1][1]:\n",
    "            print(\"?\")\n",
    "            break\n",
    "        # max값이 유일할 경우\n",
    "        else:\n",
    "            print(sorted_word[idx][0])\n",
    "            break\n",
    "\n",
    "    # 글자수 1\n",
    "    elif len(sorted_word)==1:\n",
    "        print(sorted_word[0][0])\n",
    "        break"
   ]
  },
  {
   "cell_type": "markdown",
   "id": "adf90d4f",
   "metadata": {},
   "source": [
    "# 1446 : 지름길"
   ]
  },
  {
   "cell_type": "markdown",
   "id": "85443d39",
   "metadata": {},
   "source": [
    "- 난이도 : 실버1\n",
    "- 시간 제한 : 2초\n",
    "- 메모리 제한 : 128MB\n",
    "- 문제 유형 : dp"
   ]
  },
  {
   "cell_type": "code",
   "execution_count": 5,
   "id": "5b00dfd3",
   "metadata": {},
   "outputs": [
    {
     "name": "stdout",
     "output_type": "stream",
     "text": [
      "2 100\n",
      "10 60 40\n",
      "50 90 20\n",
      "80\n"
     ]
    }
   ],
   "source": [
    "# 답\n",
    "import sys\n",
    "input = sys.stdin.readline\n",
    "\n",
    "n, d = map(int, input().split())\n",
    "\n",
    "short = []\n",
    "for _ in range(n):\n",
    "    temp = list(map(int, input().split()))\n",
    "    short.append(temp)\n",
    "    \n",
    "d_list = [i for i in range(d+1)]\n",
    "sortedshort = sorted(short, key = lambda x: x[1])\n",
    "for i in sortedshort:\n",
    "    start = i[0]\n",
    "    end = i[1]\n",
    "    len_ = i[2]\n",
    "    \n",
    "    # 업뎃값이 이전 값보다 작을 경우!\n",
    "    if 0<=start and end<len(d_list):\n",
    "        if d_list[-1]>(d-end)+d_list[start]+len_:\n",
    "            d_list[end] = d_list[start]+len_\n",
    "            for j in range(end+1, len(d_list)):\n",
    "                d_list[j] = d_list[j-1]+1\n",
    "                \n",
    "print(d_list[-1])"
   ]
  }
 ],
 "metadata": {
  "kernelspec": {
   "display_name": "base",
   "language": "python",
   "name": "python3"
  },
  "language_info": {
   "codemirror_mode": {
    "name": "ipython",
    "version": 3
   },
   "file_extension": ".py",
   "mimetype": "text/x-python",
   "name": "python",
   "nbconvert_exporter": "python",
   "pygments_lexer": "ipython3",
   "version": "3.11.5"
  }
 },
 "nbformat": 4,
 "nbformat_minor": 5
}
