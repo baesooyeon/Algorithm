{
 "cells": [
  {
   "cell_type": "markdown",
   "id": "b96f81b0",
   "metadata": {},
   "source": [
    "# RGB 거리\n",
    "- 난이도 : 실버1\n",
    "- 시간 제한 : 0.5초\n",
    "- 메모리 제한 : 128MB\n",
    "- 문제 분류 : DP"
   ]
  },
  {
   "cell_type": "code",
   "execution_count": 31,
   "id": "34c86be3",
   "metadata": {},
   "outputs": [
    {
     "name": "stdout",
     "output_type": "stream",
     "text": [
      "6\n",
      "30 19 5\n",
      "64 77 64\n",
      "15 19 97\n",
      "4 71 57\n",
      "90 86 84\n",
      "93 32 91\n",
      "208\n"
     ]
    }
   ],
   "source": [
    "# 답 참고함 ㅠ\n",
    "import sys\n",
    "input = sys.stdin.readline\n",
    "\n",
    "n = int(input())\n",
    "house = [[int(i) for i in input().split()] for _ in range(n)]\n",
    "dp = [[0]*3 for _ in range(n)]\n",
    "\n",
    "for idx in range(n):\n",
    "    if idx ==0:\n",
    "        dp[idx] = house[idx]\n",
    "    else:\n",
    "        dp[idx][0] = min(dp[idx-1][1], dp[idx-1][2]) + house[idx][0]\n",
    "        dp[idx][1] = min(dp[idx-1][0], dp[idx-1][2]) + house[idx][1]\n",
    "        dp[idx][2] = min(dp[idx-1][0], dp[idx-1][1]) + house[idx][2]\n",
    "\n",
    "print(min(dp[-1]))"
   ]
  },
  {
   "cell_type": "markdown",
   "id": "d5332af8",
   "metadata": {},
   "source": [
    "# 볼 모으기\n",
    "- 난이도 : 실버1\n",
    "- 시간 제한 : 1초\n",
    "- 메모리 제한 : 512MB"
   ]
  },
  {
   "cell_type": "code",
   "execution_count": 84,
   "id": "d8da28bf",
   "metadata": {},
   "outputs": [
    {
     "name": "stdout",
     "output_type": "stream",
     "text": [
      "8\n",
      "BBRBBBBR\n",
      "1\n"
     ]
    }
   ],
   "source": [
    "# 정답!\n",
    "n = int(input())\n",
    "balls = input().strip()\n",
    "\n",
    "\n",
    "move_cnt = []\n",
    "\n",
    "# R 우측으로 보냄\n",
    "rrballs = balls.rstrip(\"R\")\n",
    "move_cnt.append(rrballs.count(\"R\"))\n",
    "\n",
    "# R 좌측으로 보냄\n",
    "rlballs = balls.lstrip(\"R\")\n",
    "move_cnt.append(rlballs.count(\"R\"))\n",
    "\n",
    "# B 우측으로 보냄\n",
    "brballs = balls.rstrip(\"B\")\n",
    "move_cnt.append(brballs.count(\"B\"))\n",
    "\n",
    "# B 좌측으로 보냄\n",
    "blballs = balls.lstrip(\"B\")\n",
    "move_cnt.append(blballs.count(\"B\"))\n",
    "\n",
    "print(min(move_cnt))"
   ]
  },
  {
   "cell_type": "code",
   "execution_count": 80,
   "id": "0749eb8d",
   "metadata": {},
   "outputs": [
    {
     "name": "stdout",
     "output_type": "stream",
     "text": [
      "9\n",
      "RBBBRBRRR\n",
      "2\n"
     ]
    }
   ],
   "source": [
    "# 37점 맞음..;\n",
    "# n이 500,000일 경우 시간초과가 발생한다.\n",
    "n = int(input())\n",
    "balls = [i for i in input()]\n",
    "\n",
    "def move_balls(balls, color):\n",
    "    idx = 1\n",
    "    cnt = 0\n",
    "\n",
    "    while idx!=len(balls):    \n",
    "        if balls[idx] == color:\n",
    "\n",
    "            # 만약 양 옆의 공의 색이 다르다면\n",
    "            if balls[idx]!= balls[idx-1]:\n",
    "                temp_idx = idx\n",
    "                while True:\n",
    "                    balls1 = balls[temp_idx-1]\n",
    "                    balls2 = balls[temp_idx]\n",
    "\n",
    "                    balls[temp_idx]=balls1\n",
    "                    balls[temp_idx-1] = balls2\n",
    "\n",
    "                    if temp_idx-1==0 or balls[temp_idx-1] == balls[temp_idx-2]:\n",
    "                        cnt+=1\n",
    "                        # print(balls, idx)\n",
    "                        break\n",
    "                    temp_idx-=1\n",
    "\n",
    "                idx+=1\n",
    "            # 만약 양 옆의 공의 색이 같다면\n",
    "            else:\n",
    "                idx+=1\n",
    "        else: idx+=1\n",
    "    return cnt\n",
    "\n",
    "\n",
    "newballs = balls[:]\n",
    "r_balls = move_balls(newballs, \"R\")\n",
    "\n",
    "newballs = balls[:]\n",
    "b_balls = move_balls(newballs, \"B\")\n",
    "\n",
    "newballs = balls[:]\n",
    "newballs.reverse()\n",
    "r_reverse_balls = move_balls(newballs, \"R\")\n",
    "\n",
    "newballs = balls[:]\n",
    "newballs.reverse()\n",
    "b_reverse_balls = move_balls(newballs, \"B\")\n",
    "\n",
    "min_move = min([r_balls, b_balls, r_reverse_balls, b_reverse_balls])\n",
    "\n",
    "print(min_move)"
   ]
  },
  {
   "cell_type": "code",
   "execution_count": 79,
   "id": "5892ed46",
   "metadata": {},
   "outputs": [
    {
     "data": {
      "text/plain": [
       "1"
      ]
     },
     "execution_count": 79,
     "metadata": {},
     "output_type": "execute_result"
    }
   ],
   "source": [
    "min_move"
   ]
  },
  {
   "cell_type": "markdown",
   "id": "95263e8d",
   "metadata": {},
   "source": [
    "# 14719 : 빗물\n",
    "- 난이도 : 골드5\n",
    "- 시간 제한 : 1초\n",
    "- 메모리 제한 : 256MB"
   ]
  },
  {
   "cell_type": "code",
   "execution_count": 131,
   "id": "97421e5a",
   "metadata": {},
   "outputs": [
    {
     "name": "stdout",
     "output_type": "stream",
     "text": [
      "5\n"
     ]
    }
   ],
   "source": [
    "# 답!\n",
    "x, y = map(int, input().split(\" \"))\n",
    "block = [int(i) for i in input().split(\" \")]\n",
    "max_index = block.index(max(block))\n",
    "\n",
    "\n",
    "l_all_width = 0\n",
    "temp_length=0\n",
    "l_block_width = 0\n",
    "for i in range(max_index):\n",
    "    temp_length = max(temp_length, block[i])\n",
    "    l_all_width+=temp_length\n",
    "    l_block_width+=block[i]\n",
    "\n",
    "    \n",
    "temp_length = 0\n",
    "r_all_width = 0\n",
    "r_block_width = 0\n",
    "for j in range(len(block)-1, max_index, -1):\n",
    "    temp_length = max(temp_length, block[j])\n",
    "    r_all_width+=temp_length\n",
    "    r_block_width +=block[j]\n",
    "    \n",
    "all_width = l_all_width+r_all_width\n",
    "block_width = l_block_width+r_block_width\n",
    "\n",
    "print(all_width - block_width)"
   ]
  }
 ],
 "metadata": {
  "kernelspec": {
   "display_name": "Python 3 (ipykernel)",
   "language": "python",
   "name": "python3"
  },
  "language_info": {
   "codemirror_mode": {
    "name": "ipython",
    "version": 3
   },
   "file_extension": ".py",
   "mimetype": "text/x-python",
   "name": "python",
   "nbconvert_exporter": "python",
   "pygments_lexer": "ipython3",
   "version": "3.11.5"
  }
 },
 "nbformat": 4,
 "nbformat_minor": 5
}
