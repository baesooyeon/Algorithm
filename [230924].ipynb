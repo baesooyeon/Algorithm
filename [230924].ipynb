{
 "cells": [
  {
   "cell_type": "markdown",
   "metadata": {},
   "source": [
    "# 14501 : 퇴사"
   ]
  },
  {
   "cell_type": "markdown",
   "metadata": {},
   "source": [
    "- 문제 링크 : https://www.acmicpc.net/problem/14501\n",
    "- 난이도 : 실버 3\n",
    "- 시간 제한 : 2초\n",
    "- 메모리 제한 : 512MB"
   ]
  },
  {
   "cell_type": "code",
   "execution_count": 7,
   "metadata": {},
   "outputs": [
    {
     "name": "stdout",
     "output_type": "stream",
     "text": [
      "55\n"
     ]
    }
   ],
   "source": [
    "# 답!\n",
    "import sys\n",
    "input = sys.stdin.readline\n",
    "\n",
    "n = int(input())\n",
    "schedule = [list(map(int, input().split())) for _ in range(n)]\n",
    "\n",
    "dp = [0]*(n+1)\n",
    "\n",
    "for i in range(n):\n",
    "    for j in range(i+schedule[i][0], n+1):\n",
    "        # j = i+schedule[i][0]과 같다!\n",
    "        if dp[j] < dp[i]+schedule[i][1]:\n",
    "            dp[j] = dp[i]+schedule[i][1]\n",
    "\n",
    "## 맨 끝까지 똑같이 전하므로 맨 끝값이 답\n",
    "print(dp[-1])"
   ]
  },
  {
   "cell_type": "markdown",
   "metadata": {},
   "source": [
    "# 프로그래머스 : k진수에서 소수 개수 구하기"
   ]
  },
  {
   "cell_type": "markdown",
   "metadata": {},
   "source": [
    "- 문제 링크 : https://school.programmers.co.kr/learn/courses/30/lessons/92335\n",
    "- 난이도 : Lv2"
   ]
  },
  {
   "cell_type": "markdown",
   "metadata": {},
   "source": [
    "1. k진수로 바꾼다.\n",
    "2. 소수를 찾는 함수를 만든다."
   ]
  },
  {
   "cell_type": "code",
   "execution_count": 11,
   "metadata": {
    "ExecuteTime": {
     "end_time": "2023-09-24T02:27:05.730571Z",
     "start_time": "2023-09-24T02:27:05.707956Z"
    }
   },
   "outputs": [],
   "source": [
    "## k 진수로 변환하는 함수\n",
    "def make_decimal(n, k):\n",
    "    answer = \"\"\n",
    "    while n>=k:\n",
    "        rest = str(n%k)\n",
    "        answer+=rest\n",
    "        n = n//k\n",
    "    answer+=str(n)\n",
    "    return answer[::-1]\n",
    "\n",
    "\n",
    "## 소수인지 판별하는 함수\n",
    "def isdecimal(n):\n",
    "    # 소수면 True, 소수가 아니면 False\n",
    "    if n ==1:\n",
    "        return False\n",
    "    else:\n",
    "        ## **이부분을 n까지로 하면 시간초과 오류가 발생!**\n",
    "        for i in range(2, int((n**0.5)+1)):\n",
    "            if n%i==0:\n",
    "                return False\n",
    "    return True\n",
    "\n",
    "\n",
    "# 정답 도출 함수\n",
    "def solution(n, k):\n",
    "    result = 0\n",
    "    x= make_decimal(n,k).split(\"0\")\n",
    "    for i in x:\n",
    "        if i:\n",
    "            if isdecimal(int(i)):\n",
    "                result+=1\n",
    "    return result"
   ]
  },
  {
   "cell_type": "code",
   "execution_count": 15,
   "metadata": {
    "ExecuteTime": {
     "end_time": "2023-09-24T02:28:43.494283Z",
     "start_time": "2023-09-24T02:28:43.485739Z"
    }
   },
   "outputs": [
    {
     "name": "stdout",
     "output_type": "stream",
     "text": [
      "3\n",
      "2\n"
     ]
    }
   ],
   "source": [
    "print(solution(437674, 3))\n",
    "print(solution(110011, 10))"
   ]
  },
  {
   "cell_type": "markdown",
   "metadata": {},
   "source": [
    "# 프로그래머스 : 양궁대회"
   ]
  },
  {
   "cell_type": "markdown",
   "metadata": {},
   "source": [
    "- 문제 링크 : https://school.programmers.co.kr/learn/courses/30/lessons/92342\n",
    "- 난이도 : Lv2\n",
    "- 문제 카테고리 : BFS"
   ]
  },
  {
   "cell_type": "code",
   "execution_count": 1,
   "metadata": {
    "ExecuteTime": {
     "end_time": "2023-09-24T08:32:00.468535Z",
     "start_time": "2023-09-24T08:32:00.452580Z"
    }
   },
   "outputs": [],
   "source": [
    "n = 5\n",
    "info =[2,1,1,1,0,0,0,0,0,0,0]"
   ]
  },
  {
   "cell_type": "code",
   "execution_count": 3,
   "metadata": {
    "ExecuteTime": {
     "end_time": "2023-09-24T08:32:12.039729Z",
     "start_time": "2023-09-24T08:32:12.005305Z"
    }
   },
   "outputs": [],
   "source": [
    "import copy\n",
    "from collections import deque\n",
    "def solution(n, info):\n",
    "    \n",
    "    q = deque([(0,[0,0,0,0,0,0,0,0,0,0,0])])\n",
    "    max_gap = 0\n",
    "    result = []\n",
    "    \n",
    "    while q:\n",
    "        focus, arrow = q.popleft()\n",
    "        if sum(arrow)<n and focus<10:\n",
    "            # 화살 쏘기\n",
    "            # 화살 쏘는 경우\n",
    "            ## apeach보다 +1\n",
    "            ## 걍 안쏘기\n",
    "            tmp1 = arrow.copy()\n",
    "            tmp1[focus]+=info[focus]+1\n",
    "            q.append((focus+1, tmp1))\n",
    "            tmp2 = arrow.copy()\n",
    "            tmp2[focus]+=0\n",
    "            q.append((focus+1, tmp2))\n",
    "\n",
    "\n",
    "        # 화살의 개수를 초과한 경우\n",
    "        elif sum(arrow)>n:\n",
    "            continue # 스킵한다.\n",
    "\n",
    "        # 끝까지 온 경우\n",
    "        elif focus==10 :\n",
    "            tmp = arrow.copy()\n",
    "            tmp[focus]=n-sum(tmp)\n",
    "            q.append((-1, tmp))\n",
    "\n",
    "        # 화살을 다 쏜 경우\n",
    "        elif sum(arrow)==n:\n",
    "            # 점수 산정\n",
    "            apeach, lion =0,0\n",
    "            for idx in range(11):\n",
    "                if not (info[idx]==0 and arrow[idx]==0):\n",
    "                    if info[idx]>=arrow[idx]:\n",
    "                        apeach+=(10-idx)\n",
    "                    else:\n",
    "                        lion +=(10-idx)\n",
    "\n",
    "            # 점수 비교(update)\n",
    "            if lion > apeach:\n",
    "                gap = lion - apeach\n",
    "                if gap>=max_gap:\n",
    "                    if result:\n",
    "                        # clean\n",
    "                        result = []\n",
    "                    max_gap = gap\n",
    "                    result.append(arrow)\n",
    "\n",
    "\n",
    "    result.sort()\n",
    "    if result:\n",
    "        return(result[0])\n",
    "    else:\n",
    "        return(-1)\n",
    "\n",
    "                    "
   ]
  },
  {
   "cell_type": "code",
   "execution_count": 7,
   "metadata": {
    "ExecuteTime": {
     "end_time": "2023-09-24T08:32:50.123614Z",
     "start_time": "2023-09-24T08:32:50.103147Z"
    }
   },
   "outputs": [
    {
     "data": {
      "text/plain": [
       "[1, 1, 1, 1, 1, 1, 1, 1, 0, 0, 2]"
      ]
     },
     "execution_count": 7,
     "metadata": {},
     "output_type": "execute_result"
    }
   ],
   "source": [
    "n = 10\n",
    "info = [0,0,0,0,0,0,0,0,3,4,3]\n",
    "solution(n, info)"
   ]
  },
  {
   "cell_type": "code",
   "execution_count": null,
   "metadata": {},
   "outputs": [],
   "source": []
  },
  {
   "cell_type": "code",
   "execution_count": null,
   "metadata": {},
   "outputs": [],
   "source": []
  },
  {
   "cell_type": "code",
   "execution_count": null,
   "metadata": {},
   "outputs": [],
   "source": []
  },
  {
   "cell_type": "code",
   "execution_count": null,
   "metadata": {},
   "outputs": [],
   "source": []
  },
  {
   "cell_type": "code",
   "execution_count": null,
   "metadata": {},
   "outputs": [],
   "source": []
  },
  {
   "cell_type": "code",
   "execution_count": null,
   "metadata": {},
   "outputs": [],
   "source": []
  },
  {
   "cell_type": "code",
   "execution_count": null,
   "metadata": {},
   "outputs": [],
   "source": []
  },
  {
   "cell_type": "code",
   "execution_count": null,
   "metadata": {},
   "outputs": [],
   "source": []
  }
 ],
 "metadata": {
  "kernelspec": {
   "display_name": "Python 3",
   "language": "python",
   "name": "python3"
  },
  "language_info": {
   "codemirror_mode": {
    "name": "ipython",
    "version": 3
   },
   "file_extension": ".py",
   "mimetype": "text/x-python",
   "name": "python",
   "nbconvert_exporter": "python",
   "pygments_lexer": "ipython3",
   "version": "3.8.3"
  },
  "toc": {
   "base_numbering": 1,
   "nav_menu": {},
   "number_sections": true,
   "sideBar": true,
   "skip_h1_title": false,
   "title_cell": "Table of Contents",
   "title_sidebar": "Contents",
   "toc_cell": false,
   "toc_position": {},
   "toc_section_display": true,
   "toc_window_display": false
  }
 },
 "nbformat": 4,
 "nbformat_minor": 2
}
