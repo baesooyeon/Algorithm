{
 "cells": [
  {
   "cell_type": "markdown",
   "id": "b293f2e0",
   "metadata": {},
   "source": [
    "# 프로그래머스 : 후보키"
   ]
  },
  {
   "cell_type": "markdown",
   "id": "8ff8582b",
   "metadata": {},
   "source": [
    "- 문제 링크 : https://school.programmers.co.kr/learn/courses/30/lessons/42890?language=python3\n",
    "- 난이도 : 40%"
   ]
  },
  {
   "cell_type": "markdown",
   "id": "7c057177",
   "metadata": {},
   "source": [
    "# 프렌즈4블록"
   ]
  },
  {
   "cell_type": "markdown",
   "id": "64068742",
   "metadata": {},
   "source": [
    "- 문제 링크 : https://school.programmers.co.kr/learn/courses/30/lessons/17679\n",
    "- 난이도 : 56%"
   ]
  },
  {
   "cell_type": "code",
   "execution_count": 1,
   "id": "a397f406",
   "metadata": {},
   "outputs": [],
   "source": [
    "# 답\n",
    "def solution(m, n, board):\n",
    "    board = [[i for i in j] for j in board]\n",
    "\n",
    "    # 지운 블록 \n",
    "    erase_block = 0\n",
    "    while True:\n",
    "        # 한번 둘러보는 걸로 보자\n",
    "        erase = set()\n",
    "        for row in range(m):\n",
    "            for col in range(n):\n",
    "                if 0<=row+1<m and 0<=col+1<n:\n",
    "                    if board[row][col]==board[row+1][col]==board[row][col+1]==board[row+1][col+1] and board[row][col]!=0:\n",
    "                        erase.add((row,col))\n",
    "                        erase.add((row+1,col))\n",
    "                        erase.add((row,col+1))\n",
    "                        erase.add((row+1,col+1))\n",
    "\n",
    "        erase_block += len(erase)\n",
    "\n",
    "        if len(erase)==0:\n",
    "            break\n",
    "\n",
    "        # 지우기\n",
    "        for idx in erase:\n",
    "            idx_row = idx[0]\n",
    "            idx_col = idx[1]\n",
    "            \n",
    "            board[idx_row][idx_col] = 0\n",
    "\n",
    "        erase = set()\n",
    "\n",
    "        # 끌어내리기\n",
    "        for row in range(m-1,-1,-1):\n",
    "            for col in range(n-1,-1,-1):\n",
    "                if board[row][col]==0:\n",
    "                    origin_row = row\n",
    "                    new_row = row\n",
    "\n",
    "                    while new_row>0:\n",
    "                        new_row -=1\n",
    "                        if board[new_row][col]!=0:\n",
    "\n",
    "                            board[origin_row][col] = board[new_row][col]\n",
    "                            board[new_row][col] = 0\n",
    "\n",
    "                            break\n",
    "    return erase_block\n",
    "                        "
   ]
  },
  {
   "cell_type": "code",
   "execution_count": null,
   "id": "5b6d5ca1",
   "metadata": {},
   "outputs": [],
   "source": []
  },
  {
   "cell_type": "code",
   "execution_count": null,
   "id": "c4150fcc",
   "metadata": {},
   "outputs": [],
   "source": []
  },
  {
   "cell_type": "code",
   "execution_count": null,
   "id": "2160d6fe",
   "metadata": {},
   "outputs": [],
   "source": []
  }
 ],
 "metadata": {
  "kernelspec": {
   "display_name": "Python 3 (ipykernel)",
   "language": "python",
   "name": "python3"
  },
  "language_info": {
   "codemirror_mode": {
    "name": "ipython",
    "version": 3
   },
   "file_extension": ".py",
   "mimetype": "text/x-python",
   "name": "python",
   "nbconvert_exporter": "python",
   "pygments_lexer": "ipython3",
   "version": "3.11.4"
  }
 },
 "nbformat": 4,
 "nbformat_minor": 5
}
