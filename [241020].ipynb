{
 "cells": [
  {
   "cell_type": "markdown",
   "id": "f54c6e97",
   "metadata": {},
   "source": [
    "# 랭킹전 대기열\n",
    "- 난이도 : 실버2\n",
    "- 시간 제한 : 1초\n",
    "- 메모리 제한 : 256MB\n",
    "- 문제 분류 : 구현"
   ]
  },
  {
   "cell_type": "code",
   "execution_count": 2,
   "id": "667774b9",
   "metadata": {},
   "outputs": [
    {
     "name": "stdout",
     "output_type": "stream",
     "text": [
      "10 5\n",
      "10 a\n",
      "15 b\n",
      "20 c\n",
      "25 d\n",
      "30 e\n",
      "17 f\n",
      "18 g\n",
      "26 h\n",
      "24 i\n",
      "28 j\n",
      "Started!\n",
      "10 a\n",
      "15 b\n",
      "20 c\n",
      "17 f\n",
      "18 g\n",
      "Started!\n",
      "25 d\n",
      "30 e\n",
      "26 h\n",
      "24 i\n",
      "28 j\n"
     ]
    }
   ],
   "source": [
    "# import sys \n",
    "# input = sys.stdin.readline\n",
    "p, m = map(int, input().split())\n",
    "players = []\n",
    "for _ in range(p):\n",
    "    player, level = input().split()\n",
    "    players.append([int(player),level])\n",
    "\n",
    "room_min_max = []\n",
    "rooms = []\n",
    "\n",
    "for idx in range(len(players)):\n",
    "    flags = False\n",
    "    levels = players[idx][0]\n",
    "    player = players[idx][1]\n",
    "    # 첫번째일 경우\n",
    "    if idx == 0:\n",
    "        rooms.append([players[idx]])\n",
    "        room_min_max.append([levels-10, levels+10])\n",
    "        \n",
    "    else:\n",
    "        for room_idx in range(len(rooms)):\n",
    "            min_ = room_min_max[room_idx][0]\n",
    "            max_ = room_min_max[room_idx][1]\n",
    "            \n",
    "            # 만약 해당 방의 조건을 만족한다면?\n",
    "            if len(rooms[room_idx])<m and (min_ <=levels and levels<=max_):\n",
    "                rooms[room_idx].append([levels, player])\n",
    "                flags = False\n",
    "                break\n",
    "            else:\n",
    "                flags = True\n",
    "                continue\n",
    "        \n",
    "        # 다 돌았는데 만족을 못했다면?\n",
    "        if flags:\n",
    "            rooms.append([players[idx]])\n",
    "            room_min_max.append([levels-10, levels+10])\n",
    "                \n",
    "# 출력\n",
    "for room in rooms:\n",
    "    flag = True\n",
    "    for i in sorted(room, key = lambda x: x[1]):\n",
    "        if flag and len(room) == m:\n",
    "            print(\"Started!\")\n",
    "            flag = False\n",
    "        elif flag and len(room)!=m:\n",
    "            print(\"Waiting!\")\n",
    "            flag = False\n",
    "        print(\" \".join(list(map(str, i))))"
   ]
  },
  {
   "cell_type": "markdown",
   "id": "c7f69c72",
   "metadata": {},
   "source": [
    "# 13549 : 숨바꼭질3\n",
    "- 난이도 : 골드5\n",
    "- 시간 제한 : 2초\n",
    "- 메모리 제한 : 512MB\n",
    "- 문제 분류 : BFS"
   ]
  },
  {
   "cell_type": "code",
   "execution_count": 10,
   "id": "8bf0d85f",
   "metadata": {},
   "outputs": [
    {
     "name": "stdout",
     "output_type": "stream",
     "text": [
      "5 17\n",
      "2\n"
     ]
    }
   ],
   "source": [
    "# 답!\n",
    "from collections import deque\n",
    "import sys\n",
    "\n",
    "# input = sys.stdin.readline\n",
    "\n",
    "n, k = map(int, input().split())\n",
    "\n",
    "q = deque()\n",
    "if n==0:\n",
    "    q.append([1,0])\n",
    "else:\n",
    "    q.append([n, 0])\n",
    "mintime = [0]*100001\n",
    "\n",
    "while q:\n",
    "    x = q.popleft()\n",
    "    point = x[0]\n",
    "    time = x[1]\n",
    "    \n",
    "    if point ==k:\n",
    "        break\n",
    "    \n",
    "    # point*2, point-1, point+1의 순서가 매우 민감하다(왜그런진 모름;)\n",
    "    for newpoint in [point*2, point-1, point+1]:\n",
    "        \n",
    "        if newpoint == point*2:\n",
    "            newtime =  time\n",
    "            if 0<=newpoint and newpoint<=100000 and mintime[newpoint]==0:\n",
    "                q.appendleft([newpoint, newtime])\n",
    "                mintime[newpoint] = newtime\n",
    "        else:\n",
    "            newtime = time+1\n",
    "            if 0<=newpoint and newpoint<=100000 and mintime[newpoint]==0:\n",
    "                q.append([newpoint, newtime])\n",
    "                mintime[newpoint] = newtime\n",
    "                \n",
    "if n==0 and k!=0:\n",
    "    print(mintime[k]+1)\n",
    "else:\n",
    "    print(mintime[k])"
   ]
  },
  {
   "cell_type": "markdown",
   "id": "c73b4b5d",
   "metadata": {},
   "source": [
    "# 17484 : 진우의 달 여행(small)\n",
    "- 난이도 : 실버3\n",
    "- 시간 제한 : 1초\n",
    "- 메모리 제한 : 256MB\n",
    "- 문제 분류 : BFS(X)/DFS(O)"
   ]
  },
  {
   "cell_type": "markdown",
   "id": "43bdd7c4",
   "metadata": {},
   "source": [
    "### BFS"
   ]
  },
  {
   "cell_type": "code",
   "execution_count": 1,
   "id": "78997d41",
   "metadata": {},
   "outputs": [
    {
     "name": "stdout",
     "output_type": "stream",
     "text": [
      "6 4\n",
      "5 8 5 1\n",
      "3 5 8 4\n",
      "9 77 65 5\n",
      "2 1 5 2\n",
      "5 98 1 5\n",
      "4 95 67 58\n",
      "29\n"
     ]
    }
   ],
   "source": [
    "# BFS 틀림 > 문제 접근이 잘못된 거 같음!\n",
    "from collections import deque\n",
    "import sys\n",
    "\n",
    "# input = sys.stdin.readline\n",
    "\n",
    "n, m = map(int, input().split())\n",
    "space = [[int(i) for i in input().split()] for _ in range(n)]\n",
    "\n",
    "minlen = 1000\n",
    "x = 0\n",
    "\n",
    "# x : 행, y : 열\n",
    "dy = [-1,0,1]\n",
    "dx = [1,1, 1 ]\n",
    "\n",
    "for y in range(m):\n",
    "    q = deque([[x,y,-1]])\n",
    "    visited = [[1000 for i in range(m)] for _ in range(n)]\n",
    "    visited[x][y] = space[x][y]\n",
    "\n",
    "    while q:\n",
    "        temp = q.popleft()\n",
    "        x = temp[0]\n",
    "        y = temp[1]\n",
    "        z = temp[2]\n",
    "        \n",
    "        for idx in range(3):\n",
    "            if z != idx:\n",
    "                ny = y+dy[idx]\n",
    "                nx = x+dx[idx]\n",
    "                if 0<=ny<m and 0<=nx<n:\n",
    "                    # 만약 아무도 방문 안했다면\n",
    "                    if visited[nx][ny]==1000:\n",
    "                        q.append([nx,ny,idx])\n",
    "                        visited[nx][ny]=visited[x][y]+space[nx][ny]\n",
    "\n",
    "                    # 만약 방문한 적이 있다면\n",
    "                    else:\n",
    "                        if visited[nx][ny]>visited[x][y]+space[nx][ny]:\n",
    "                            q.append([nx, ny, idx])\n",
    "                            visited[nx][ny]=visited[x][y]+space[nx][ny]\n",
    "    minlen = min(minlen, min(visited[-1]))\n",
    "print(minlen)"
   ]
  },
  {
   "cell_type": "markdown",
   "id": "7527a159",
   "metadata": {},
   "source": [
    "### DFS로 풀어보자!"
   ]
  },
  {
   "cell_type": "code",
   "execution_count": 1,
   "id": "bfe2bc23",
   "metadata": {},
   "outputs": [
    {
     "name": "stdout",
     "output_type": "stream",
     "text": [
      "6 4\n",
      "5 8 5 1\n",
      "3 5 8 4\n",
      "9 77 65 5\n",
      "2 1 5 2\n",
      "5 98 1 5\n",
      "4 95 67 58\n",
      "29\n"
     ]
    }
   ],
   "source": [
    "# 답!\n",
    "from pprint import pprint\n",
    "import sys\n",
    "\n",
    "# input = sys.stdin.readline\n",
    "minlen = 601\n",
    "\n",
    "row, col = map(int, input().split())\n",
    "space = [[int(i) for i in input().split()] for _ in range(row)]\n",
    "\n",
    "def dfs(start, direction, space, visit):\n",
    "    global minlen\n",
    "    \n",
    "    x = start[0]\n",
    "    y = start[1]\n",
    "    \n",
    "    row = len(space)\n",
    "    col = len(space[0])\n",
    "    \n",
    "    if x==0:\n",
    "        visit[x][y]=space[x][y]\n",
    "        \n",
    "    if x==row-1:\n",
    "        minlen = min(minlen, visit[x][y])\n",
    "        return minlen\n",
    "        \n",
    "    \n",
    "    # 방향키 설정\n",
    "    dy = [-1,0,1]\n",
    "    dx = [1, 1, 1]\n",
    "                \n",
    "    if direction!=0:\n",
    "        newvisited_1=visit[:]\n",
    "        nx = x+dx[0]\n",
    "        ny = y+dy[0]\n",
    "        \n",
    "        if 0<=ny<col and 0<=nx<row:\n",
    "            newvisited_1[nx][ny] = space[nx][ny]+newvisited_1[x][y]\n",
    "            dfs([nx, ny], 0, space, newvisited_1)\n",
    "            \n",
    "    if direction!=1:\n",
    "        newvisited_2=visit[:]\n",
    "        nx = x+dx[1]\n",
    "        ny = y+dy[1]\n",
    "        \n",
    "        if 0<=ny<col and 0<=nx<row:\n",
    "            newvisited_2[nx][ny] = space[nx][ny]+newvisited_2[x][y]\n",
    "            dfs([nx, ny], 1, space, newvisited_2)\n",
    "            \n",
    "    if direction!=2:\n",
    "        newvisited_3=visit[:]\n",
    "        nx = x+dx[2]\n",
    "        ny = y+dy[2]\n",
    "        \n",
    "        if 0<=ny<col and 0<=nx<row:\n",
    "            newvisited_3[nx][ny] = space[nx][ny]+newvisited_3[x][y]\n",
    "            dfs([nx, ny], 2, space, newvisited_3)\n",
    "            \n",
    "# 출력\n",
    "minlen = 601\n",
    "for i in range(col):\n",
    "    visited = [[0 for _ in range(col)] for _ in range(row)]\n",
    "    dfs([0,i], -1, space, visited)\n",
    "print(minlen)"
   ]
  },
  {
   "cell_type": "markdown",
   "id": "0d428387",
   "metadata": {},
   "source": [
    "# 22233 : 가희와 키워드\n",
    "- 난이도 : 실버3\n",
    "- 시간 제한 : 1.5초\n",
    "- 메모리 제한 : 512MB\n",
    "- 문제 분류 : 구현, 해쉬"
   ]
  },
  {
   "cell_type": "code",
   "execution_count": null,
   "id": "2add44c0",
   "metadata": {},
   "outputs": [],
   "source": [
    "# 답!\n",
    "import sys\n",
    "\n",
    "# input = sys.stdin.readline\n",
    "\n",
    "n,m = map(int,input().split())\n",
    "\n",
    "keywords = {}\n",
    "for _ in range(n):\n",
    "    keyword = input().strip()\n",
    "    keywords[keyword] = True\n",
    "\n",
    "for _ in range(m):\n",
    "    writing = input()\n",
    "    for i in writing.split(\",\"):\n",
    "        if keywords.get(i.strip()):\n",
    "            \n",
    "            # 아직 삭제되기 전이라면?\n",
    "            if keywords[i.strip()]:\n",
    "                \n",
    "                # keyword를 False로 바꾸고 전체 키워드 개수 n에서 한개씩 뺀다\n",
    "                # 이렇게 간접적으로 개수를 산정해야 시간초과를 방지함\n",
    "                keywords[i.strip()]=False\n",
    "                n -=1 \n",
    "    print(n)"
   ]
  },
  {
   "cell_type": "code",
   "execution_count": 3,
   "id": "45bbfd05",
   "metadata": {},
   "outputs": [
    {
     "name": "stdout",
     "output_type": "stream",
     "text": [
      "5 2\n",
      "map\n",
      "set\n",
      "dijkstra\n",
      "floyd\n",
      "os\n",
      "map,dijkstra\n",
      "3\n",
      "map,floyd\n",
      "2\n"
     ]
    }
   ],
   "source": [
    "# 시간초과\n",
    "import sys\n",
    "#input = sys.stdin.readline\n",
    "\n",
    "n, m = map(int, input().split())\n",
    "keywords = set()\n",
    "for _ in range(n):\n",
    "    keywords.add(input())\n",
    "    \n",
    "writing = set()\n",
    "for _ in range(m):\n",
    "    writing = set(i.strip() for i in input().split(','))\n",
    "    keywords = keywords - writing # 얘가 문제였음 (이렇게 되면 최대10^5*10^5가 돼서 시간 초과가 남)\n",
    "    print(len(list(keywords)))"
   ]
  },
  {
   "cell_type": "markdown",
   "id": "f13ac8c6",
   "metadata": {},
   "source": [
    "# 2304 : 창고 다각형\n",
    "- 난이도 : 실버2\n",
    "- 시간 제한 : 2초\n",
    "- 메모리 제한 : 128MB\n",
    "- 분류 : 구현"
   ]
  },
  {
   "cell_type": "code",
   "execution_count": 2,
   "id": "d83ec3d4",
   "metadata": {},
   "outputs": [
    {
     "name": "stdout",
     "output_type": "stream",
     "text": [
      "7\n"
     ]
    }
   ],
   "source": [
    "# 답 참고 : https://recordofwonseok.tistory.com/409\n",
    "import sys\n",
    "input = sys.stdin.readline\n",
    "\n",
    "m = 0\n",
    "m_idx = 0\n",
    "pli = [0 for _ in range(1001)] # 기둥\n",
    "for _ in range(int(input())):\n",
    "    L,H = map(int,input().split())\n",
    "    pli[L] = H\n",
    "    if m < H: # 가장 높은 기둥과 그 기둥의 인덱스를 찾음\n",
    "        m_idx = L\n",
    "        m = H\n",
    "curr = 0\n",
    "answer = 0\n",
    "for i in range(m_idx+1): # 왼쪽 그룹\n",
    "    curr = max(curr,pli[i])\n",
    "    answer += curr\n",
    "curr = 0\n",
    "for i in range(1000,m_idx,-1): # 오른쪽 그룹\n",
    "    curr = max(curr,pli[i])\n",
    "    answer += curr\n",
    "print(answer)"
   ]
  },
  {
   "cell_type": "code",
   "execution_count": 24,
   "id": "f810e107",
   "metadata": {},
   "outputs": [
    {
     "name": "stdout",
     "output_type": "stream",
     "text": [
      "6\n",
      "10\n"
     ]
    }
   ],
   "source": [
    "# 답 안나옴\n",
    "maxlen = 0\n",
    "extent_ = 0\n",
    "for idx in range(len(pillars)):\n",
    "    horizon = pillars[idx][0]\n",
    "    vertical = pillars[idx][1]\n",
    "    \n",
    "    if idx ==0:\n",
    "        maxlen = vertical\n",
    "        old_horizon = horizon\n",
    "    \n",
    "    elif idx!=0 and idx !=len(pillars)-1:\n",
    "        if maxlen<vertical:\n",
    "            print(vertical)\n",
    "            horizon_len = horizon-old_horizon\n",
    "            new_extent = horizon_len*maxlen\n",
    "            maxlen = vertical\n",
    "            extent_+=new_extent\n",
    "            \n",
    "    elif idx == len(pillars)-1:\n",
    "        extent_+=vertical"
   ]
  },
  {
   "cell_type": "code",
   "execution_count": 25,
   "id": "d411c195",
   "metadata": {},
   "outputs": [
    {
     "data": {
      "text/plain": [
       "52"
      ]
     },
     "execution_count": 25,
     "metadata": {},
     "output_type": "execute_result"
    }
   ],
   "source": [
    "extent_"
   ]
  },
  {
   "cell_type": "markdown",
   "id": "1e63ae36",
   "metadata": {},
   "source": [
    "# 20055 : 컨베이어 벨트 위의 로봇\n",
    "- 난이도 : 골드5\n",
    "- 시간 제한 : 1초\n",
    "- 메모리 제한 : 512MB\n",
    "- 분류 : 구현"
   ]
  },
  {
   "cell_type": "code",
   "execution_count": 59,
   "id": "b84e3ab9",
   "metadata": {},
   "outputs": [
    {
     "name": "stdout",
     "output_type": "stream",
     "text": [
      "3 2\n",
      "1 2 1 2 1 2\n",
      "Step : 1 & 1단계\n",
      "Deque : deque([2, 1, 2, 1, 2, 1])\n",
      "Robot : deque([0, 0, 0, 0, 0, 0])\n",
      "\n",
      "Step : 1 & 2단계\n",
      "Deque : deque([2, 1, 2, 1, 2, 1])\n",
      "Robot : deque([0, 0, 0, 0, 0, 0])\n",
      "\n",
      "Step : 1 & 3단계\n",
      "Deque : deque([1, 1, 2, 1, 2, 1])\n",
      "Robot : deque([1, 0, 0, 0, 0, 0])\n",
      "\n",
      "\n",
      "\n",
      "\n",
      "Step : 2 & 1단계\n",
      "Deque : deque([1, 1, 1, 2, 1, 2])\n",
      "Robot : deque([0, 1, 0, 0, 0, 0])\n",
      "\n",
      "Step : 2 & 2단계\n",
      "Deque : deque([1, 1, 0, 2, 1, 2])\n",
      "Robot : deque([0, 0, 0, 0, 0, 0])\n",
      "\n",
      "Step : 2 & 3단계\n",
      "Deque : deque([0, 1, 0, 2, 1, 2])\n",
      "Robot : deque([1, 0, 0, 0, 0, 0])\n",
      "\n",
      "Step : 2 & 4단계\n",
      "Deque : deque([0, 1, 0, 2, 1, 2])\n",
      "Robot : deque([1, 0, 0, 0, 0, 0])\n",
      "2\n"
     ]
    }
   ],
   "source": [
    "# 답!\n",
    "\n",
    "from collections import deque\n",
    "import sys\n",
    "\n",
    "# input = sys.stdin.readline\n",
    "\n",
    "# 출력\n",
    "n, k = map(int, input().split())\n",
    "\n",
    "# 내구성 관련\n",
    "conveyor = deque(list(map(int,input().split())))\n",
    "robot = deque([0 for _ in range(2*n)])\n",
    "\n",
    "cnt = 0\n",
    "while True:\n",
    "    cnt+=1\n",
    "    # step1. 벨트 회전\n",
    "    conveyor.appendleft(conveyor.pop())\n",
    "    robot.appendleft(robot.pop())\n",
    "    \n",
    "    # 바로 내려버리기\n",
    "    if robot[n-1]==1:\n",
    "        robot[n-1]=0\n",
    "    print(f\"Step : {cnt} & 1단계\\nDeque : {conveyor}\\nRobot : {robot}\\n\")\n",
    "    \n",
    "    # step2. 로봇 이동\n",
    "    for idx in range(len(conveyor)-2, -1, -1):\n",
    "        if conveyor[idx+1]>=1 and robot[idx]==1 and robot[idx+1]!=1:\n",
    "            # 내구성 수정\n",
    "            conveyor[idx+1]-=1\n",
    "            \n",
    "            # 로봇 위치 변경\n",
    "            robot[idx] = 0\n",
    "            robot[idx+1]=1\n",
    "            # 만약 옮겨진 위치가 로봇이 내리는 위치라면\n",
    "            if idx+1 == n-1:\n",
    "                robot[idx+1]=0\n",
    "    print(f\"Step : {cnt} & 2단계\\nDeque : {conveyor}\\nRobot : {robot}\\n\")\n",
    "            \n",
    "    # step3. 올리는 위치에 로봇 올리기\n",
    "    if conveyor[0]>0:\n",
    "        conveyor[0]-=1\n",
    "        robot[0] =1\n",
    "    print(f\"Step : {cnt} & 3단계\\nDeque : {conveyor}\\nRobot : {robot}\\n\")\n",
    "\n",
    "    # step4. 내구도가 0인 칸의 개수가 K이상이라면 멈추기\n",
    "    if conveyor.count(0)>=k:\n",
    "        print(f\"Step : {cnt} & 4단계\\nDeque : {conveyor}\\nRobot : {robot}\")\n",
    "        break\n",
    "    print(\"\\n\\n\")\n",
    "print(cnt)"
   ]
  }
 ],
 "metadata": {
  "kernelspec": {
   "display_name": "Python 3 (ipykernel)",
   "language": "python",
   "name": "python3"
  },
  "language_info": {
   "codemirror_mode": {
    "name": "ipython",
    "version": 3
   },
   "file_extension": ".py",
   "mimetype": "text/x-python",
   "name": "python",
   "nbconvert_exporter": "python",
   "pygments_lexer": "ipython3",
   "version": "3.11.5"
  }
 },
 "nbformat": 4,
 "nbformat_minor": 5
}
