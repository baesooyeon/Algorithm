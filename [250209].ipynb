{
 "cells": [
  {
   "cell_type": "markdown",
   "id": "6fa22789",
   "metadata": {},
   "source": [
    "# 프로그래머스 : 연속 부분 수열 합의 개수\n",
    "- 난이도 : Lv.2\n",
    "- 문제 분류 : 구현?"
   ]
  },
  {
   "cell_type": "code",
   "execution_count": 2,
   "id": "dc81303e",
   "metadata": {},
   "outputs": [],
   "source": [
    "elements = [7, 9, 1, 1, 4]"
   ]
  },
  {
   "cell_type": "code",
   "execution_count": 11,
   "id": "00cd54f6",
   "metadata": {},
   "outputs": [],
   "source": [
    "# 시간 초과 발생\n",
    "def solution(elements):\n",
    "    new_elements = 2*elements\n",
    "    l = len(elements)\n",
    "    \n",
    "    answers = []\n",
    "    for i in range(1, l+1):\n",
    "        for j in range(l):\n",
    "            x = sum(new_elements[j:j+i])\n",
    "            if x not in answers:\n",
    "                answers.append(x)\n",
    "    return len(answers)"
   ]
  },
  {
   "cell_type": "code",
   "execution_count": 3,
   "id": "1a307bac",
   "metadata": {},
   "outputs": [],
   "source": [
    "# 정답!\n",
    "def solution(elements):\n",
    "    new_elements = 2*elements\n",
    "    l = len(elements)\n",
    "\n",
    "    history = [0]*1000001\n",
    "    answers = 0\n",
    "    for i in range(1, l+1):\n",
    "        for j in range(l):\n",
    "            x = sum(new_elements[j:j+i])\n",
    "            if history[x]==0:\n",
    "                history[x]=1\n",
    "                answers+=1\n",
    "    return answers"
   ]
  },
  {
   "cell_type": "code",
   "execution_count": 4,
   "id": "6173c97b",
   "metadata": {},
   "outputs": [
    {
     "data": {
      "text/plain": [
       "18"
      ]
     },
     "execution_count": 4,
     "metadata": {},
     "output_type": "execute_result"
    }
   ],
   "source": [
    "solution(elements)"
   ]
  },
  {
   "cell_type": "markdown",
   "id": "b5d7e4e8",
   "metadata": {},
   "source": [
    "# 프로그래머스 : 마법의 엘리베이터\n",
    "- 난이도 : Lv.2\n",
    "- 문제 분류 : 이진분류인가..? > 구현이었음!"
   ]
  },
  {
   "cell_type": "code",
   "execution_count": 3,
   "id": "370487d0",
   "metadata": {},
   "outputs": [],
   "source": [
    "# 정답\n",
    "def solution(storey):\n",
    "    storey = str(storey)\n",
    "\n",
    "    answer = 0\n",
    "    flag = False\n",
    "    for idx in range(len(storey)-1, -1, -1):\n",
    "        x = int(storey[idx])\n",
    "        # 만약 +1이 된다면\n",
    "        if flag:\n",
    "            x +=1\n",
    "\n",
    "        # 만약 x가 5가 넘는다면?\n",
    "        if x>5:\n",
    "            temp = 10-x\n",
    "            flag = True\n",
    "        elif x<5:\n",
    "            temp = x\n",
    "            flag = False\n",
    "        elif x==5:\n",
    "            temp = x\n",
    "            if idx!=0:\n",
    "                # 이전 값이 4이하라면? > 올림을 하지 않는게 좋다!\n",
    "                if int(storey[idx-1])<=4:\n",
    "                    flag = False\n",
    "                # 이전 값이 5이상이라면? > 올림을 하는게 좋다!\n",
    "                else:\n",
    "                    flag = True\n",
    "            else:\n",
    "                flag = False\n",
    "        answer += temp\n",
    "       \n",
    "    # 이거 넣으니까 정답률 46>77로 올라감\n",
    "    if flag:\n",
    "        answer+=1\n",
    "    return answer"
   ]
  },
  {
   "cell_type": "code",
   "execution_count": 13,
   "id": "b68d1926",
   "metadata": {},
   "outputs": [],
   "source": [
    "# 틀림 ㅠ\n",
    "def solution(storey):\n",
    "    storey = str(storey)\n",
    "\n",
    "    answer = 0\n",
    "    flag = False\n",
    "    for idx in range(len(storey)-1, -1, -1):\n",
    "        x = int(storey[idx])\n",
    "        # 만약 +1이 된다면\n",
    "        if flag:\n",
    "            x +=1\n",
    "\n",
    "        # 만약 x가 5가 넘는다면?\n",
    "        if x>5:\n",
    "            temp = 10-x\n",
    "            flag = True\n",
    "        else:\n",
    "            temp = x\n",
    "            flag = False\n",
    "            \n",
    "        answer += temp\n",
    "       \n",
    "    # 이거 넣으니까 정답률 46>77로 올라감\n",
    "    if flag:\n",
    "        answer+=1\n",
    "    return answer"
   ]
  },
  {
   "cell_type": "code",
   "execution_count": 4,
   "id": "8c7af7ff",
   "metadata": {},
   "outputs": [
    {
     "data": {
      "text/plain": [
       "6"
      ]
     },
     "execution_count": 4,
     "metadata": {},
     "output_type": "execute_result"
    }
   ],
   "source": [
    "solution(16)"
   ]
  },
  {
   "cell_type": "markdown",
   "id": "bb5df766",
   "metadata": {},
   "source": [
    "# 프로그래머스 : 택배 배달과 수거하기\n",
    "- 난이도 : Lv.2\n",
    "- 문제 분류 : 구현"
   ]
  },
  {
   "cell_type": "code",
   "execution_count": 6,
   "id": "78eff148",
   "metadata": {},
   "outputs": [],
   "source": [
    "cap = 2\n",
    "n = 7\n",
    "deliveries = [1, 0, 2, 0, 1, 0, 2]\n",
    "pickups = [0, 2, 0, 1, 0, 2, 0]"
   ]
  },
  {
   "cell_type": "code",
   "execution_count": null,
   "id": "a622ad1f",
   "metadata": {},
   "outputs": [],
   "source": [
    "# 답\n",
    "def solution(cap, n, deliveries, pickups):\n",
    "    deliveries = deliveries[::-1]\n",
    "    pickups = pickups[::-1]\n",
    "    answer = 0\n",
    "\n",
    "    have_to_deli = 0\n",
    "    have_to_pick = 0\n",
    "\n",
    "    for i in range(n):\n",
    "        have_to_deli += deliveries[i]\n",
    "        have_to_pick += pickups[i]\n",
    "\n",
    "        while have_to_deli > 0 or have_to_pick > 0:\n",
    "            have_to_deli -= cap\n",
    "            have_to_pick -= cap\n",
    "            answer += (n - i) * 2\n",
    "\n",
    "    return answer"
   ]
  }
 ],
 "metadata": {
  "kernelspec": {
   "display_name": "Python 3 (ipykernel)",
   "language": "python",
   "name": "python3"
  },
  "language_info": {
   "codemirror_mode": {
    "name": "ipython",
    "version": 3
   },
   "file_extension": ".py",
   "mimetype": "text/x-python",
   "name": "python",
   "nbconvert_exporter": "python",
   "pygments_lexer": "ipython3",
   "version": "3.11.5"
  }
 },
 "nbformat": 4,
 "nbformat_minor": 5
}
