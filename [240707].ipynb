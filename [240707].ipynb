{
 "cells": [
  {
   "cell_type": "markdown",
   "id": "1b60f828",
   "metadata": {},
   "source": [
    "# 23971 : ZOAC4\n",
    "- 문제 유형 : 단순계산, 구현"
   ]
  },
  {
   "cell_type": "code",
   "execution_count": 1,
   "id": "4b138536",
   "metadata": {},
   "outputs": [
    {
     "name": "stdout",
     "output_type": "stream",
     "text": [
      "5 4 1 1\n",
      "6\n"
     ]
    }
   ],
   "source": [
    "# 답...\n",
    "import math\n",
    "w, h, n, m = map(int, input().split())\n",
    "\n",
    "a = math.ceil(w/(n+1))\n",
    "b = math.ceil(h/(m+1))\n",
    "answer = a*b\n",
    "print(answer)"
   ]
  },
  {
   "cell_type": "code",
   "execution_count": 4,
   "id": "15033d2d",
   "metadata": {},
   "outputs": [
    {
     "name": "stdout",
     "output_type": "stream",
     "text": [
      "5 4 1 1\n",
      "6\n"
     ]
    }
   ],
   "source": [
    "# 틀린 답 : 메모리 초과\n",
    "h, w, n, m = map(int, input().split())\n",
    "lecture = [[0 for _ in range(w)] for _ in range(h)]\n",
    "visited = []\n",
    "def backtracking(x, y):\n",
    "    global visited, answer\n",
    "    if 0>y or y>=h or 0>x or x>=w:\n",
    "        return\n",
    "    \n",
    "    elif 0<=y<h and 0<=x<w:\n",
    "        if lecture[y][x]!=1:\n",
    "            lecture[y][x] = 1\n",
    "            answer+=1\n",
    "            backtracking(x+m+1, y+n+1)\n",
    "            backtracking(x+m+1, y)\n",
    "            backtracking(x, y+n+1)\n",
    "            \n",
    "answer= 0\n",
    "lecture = [[0 for _ in range(w)] for _ in range(h)]\n",
    "\n",
    "backtracking(0,0)\n",
    "print(answer)"
   ]
  },
  {
   "cell_type": "code",
   "execution_count": 12,
   "id": "d01cdb7c",
   "metadata": {},
   "outputs": [],
   "source": [
    "answer= 0\n",
    "lecture = [[0 for _ in range(w)] for _ in range(h)]\n",
    "\n",
    "backtracking(0,0)"
   ]
  },
  {
   "cell_type": "code",
   "execution_count": 13,
   "id": "13184125",
   "metadata": {},
   "outputs": [],
   "source": [
    "# 이걸론 안됨...\n",
    "from collections import deque\n",
    "\n",
    "start = [0,0]\n",
    "q = deque([start])\n",
    "dx = [1,-1,0,0]\n",
    "dy = [0,0,-1,1]\n",
    "visited = []\n",
    "\n",
    "while q:\n",
    "    x = q.popleft()\n",
    "    for idx in range(4):\n",
    "        newx = x[1]+dx[idx]+m\n",
    "        newy = x[0]+dy[idx]+n\n",
    "        if 0<=newx<w and 0<=newy<h:\n",
    "            if [newy, newx] not in visited:\n",
    "                visited.append([newy, newx])\n",
    "                q.append([newy, newx])"
   ]
  },
  {
   "cell_type": "code",
   "execution_count": 14,
   "id": "73a12f6f",
   "metadata": {},
   "outputs": [
    {
     "data": {
      "text/plain": [
       "[[1, 2],\n",
       " [1, 0],\n",
       " [0, 1],\n",
       " [2, 1],\n",
       " [2, 2],\n",
       " [1, 3],\n",
       " [3, 3],\n",
       " [2, 0],\n",
       " [1, 1],\n",
       " [3, 1],\n",
       " [0, 2],\n",
       " [4, 2],\n",
       " [3, 2],\n",
       " [2, 3],\n",
       " [4, 3],\n",
       " [3, 0],\n",
       " [4, 1],\n",
       " [0, 3],\n",
       " [4, 0]]"
      ]
     },
     "execution_count": 14,
     "metadata": {},
     "output_type": "execute_result"
    }
   ],
   "source": [
    "visited"
   ]
  },
  {
   "cell_type": "markdown",
   "id": "76e61f70",
   "metadata": {},
   "source": [
    "# 1260 : DFS와 BFS\n",
    "- 문제 유형 : DFS/BFS"
   ]
  },
  {
   "cell_type": "code",
   "execution_count": 1,
   "id": "6d3aeb68",
   "metadata": {},
   "outputs": [
    {
     "name": "stdout",
     "output_type": "stream",
     "text": [
      "4 5 1\n",
      "1 2\n",
      "1 3\n",
      "1 4\n",
      "2 4\n",
      "3 4\n",
      "1 2 4 3 \n",
      "1 2 3 4 "
     ]
    }
   ],
   "source": [
    "# 답\n",
    "# import sys\n",
    "# input = sys.stdin.readline()\n",
    "\n",
    "def dfs(graph, start, visited):\n",
    "    if graph[start] in visited:\n",
    "        return visited\n",
    "    else:\n",
    "        for i in graph[start]:\n",
    "            if i not in visited:\n",
    "                visited.append(i)\n",
    "                dfs(graph, i, visited)\n",
    "    return visited\n",
    "\n",
    "\n",
    "\n",
    "# bfs\n",
    "from collections import deque, defaultdict\n",
    "\n",
    "def bfs(graph, start, visited):\n",
    "    q = deque([start])\n",
    "    while q:\n",
    "        x = q.popleft()\n",
    "        for i in graph[x]:\n",
    "            if i not in visited:\n",
    "                visited.append(i)\n",
    "                q.append(i)\n",
    "    return visited\n",
    "\n",
    "\n",
    "n, l, s = map(int, input().split(\" \"))\n",
    "\n",
    "# 연결 그래프 만들기 > 이 그래프코드에서 오류가 발생함\n",
    "#graph = {}\n",
    "\n",
    "#for _ in range(l):\n",
    "#    a, b = map(int, input().split(\" \"))\n",
    "#    if a not in graph:\n",
    "#        graph[a] = [b]\n",
    "#    else:\n",
    "#         if b not in graph[a]:\n",
    "#        graph[a].append(b)\n",
    "            \n",
    "#    if b not in graph:\n",
    "#        graph[b] = [a]\n",
    "#    else:\n",
    "#         if a not in graph[b]:\n",
    "#        graph[b].append(a)\n",
    "    \n",
    "    \n",
    "#for key in graph.keys():\n",
    "#    graph[key].sort()\n",
    "\n",
    "\n",
    "graph = defaultdict(list)\n",
    "for _ in range(l):\n",
    "    x,y = map(int, input().split(\" \"))\n",
    "    graph[x].append(y)\n",
    "    graph[y].append(x)\n",
    "\n",
    "    graph[x] = sorted(graph[x])\n",
    "    graph[y] = sorted(graph[y])\n",
    "            \n",
    "dfs_ = dfs(graph, s, [s])\n",
    "bfs_ = bfs(graph, s, [s])\n",
    "for i in dfs_:\n",
    "    print(i, end = \" \")\n",
    "print()\n",
    "for j in bfs_:\n",
    "    print(j, end = \" \")"
   ]
  },
  {
   "cell_type": "markdown",
   "id": "50618f3a",
   "metadata": {},
   "source": [
    "# 14940 : 쉬운 최단거리\n",
    "- 문제 유형 : BFS"
   ]
  },
  {
   "cell_type": "code",
   "execution_count": 1,
   "id": "8dc39297",
   "metadata": {},
   "outputs": [
    {
     "name": "stdout",
     "output_type": "stream",
     "text": [
      "15 15\n",
      "2 1 1 1 1 1 1 1 1 1 1 1 1 1 1\n",
      "1 1 1 1 1 1 1 1 1 1 1 1 1 1 1\n",
      "1 1 1 1 1 1 1 1 1 1 1 1 1 1 1\n",
      "1 1 1 1 1 1 1 1 1 1 1 1 1 1 1\n",
      "1 1 1 1 1 1 1 1 1 1 1 1 1 1 1\n",
      "1 1 1 1 1 1 1 1 1 1 1 1 1 1 1\n",
      "1 1 1 1 1 1 1 1 1 1 1 1 1 1 1\n",
      "1 1 1 1 1 1 1 1 1 1 1 1 1 1 1\n",
      "1 1 1 1 1 1 1 1 1 1 1 1 1 1 1\n",
      "1 1 1 1 1 1 1 1 1 1 1 1 1 1 1\n",
      "1 1 1 1 1 1 1 1 1 1 1 1 1 1 1\n",
      "1 1 1 1 1 1 1 1 1 1 0 0 0 0 1\n",
      "1 1 1 1 1 1 1 1 1 1 0 1 1 1 1\n",
      "1 1 1 1 1 1 1 1 1 1 0 1 0 0 0\n",
      "1 1 1 1 1 1 1 1 1 1 0 1 1 1 1\n",
      "0 1 2 3 4 5 6 7 8 9 10 11 12 13 14\n",
      "1 2 3 4 5 6 7 8 9 10 11 12 13 14 15\n",
      "2 3 4 5 6 7 8 9 10 11 12 13 14 15 16\n",
      "3 4 5 6 7 8 9 10 11 12 13 14 15 16 17\n",
      "4 5 6 7 8 9 10 11 12 13 14 15 16 17 18\n",
      "5 6 7 8 9 10 11 12 13 14 15 16 17 18 19\n",
      "6 7 8 9 10 11 12 13 14 15 16 17 18 19 20\n",
      "7 8 9 10 11 12 13 14 15 16 17 18 19 20 21\n",
      "8 9 10 11 12 13 14 15 16 17 18 19 20 21 22\n",
      "9 10 11 12 13 14 15 16 17 18 19 20 21 22 23\n",
      "10 11 12 13 14 15 16 17 18 19 20 21 22 23 24\n",
      "11 12 13 14 15 16 17 18 19 20 0 0 0 0 25\n",
      "12 13 14 15 16 17 18 19 20 21 0 29 28 27 26\n",
      "13 14 15 16 17 18 19 20 21 22 0 30 0 0 0\n",
      "14 15 16 17 18 19 20 21 22 23 0 31 32 33 34\n"
     ]
    }
   ],
   "source": [
    "# 답\n",
    "from collections import deque\n",
    "\n",
    "# 입력 받기\n",
    "n, m = map(int, input().split(\" \"))\n",
    "ground = [[int(i) for i in input().split(\" \")] for _ in range(n)]\n",
    "visited = ground[:]\n",
    "answer = [[0 for _ in range(m)] for _ in range(n)]\n",
    "\n",
    "# 목표 점 찾기\n",
    "for row in range(n):\n",
    "    for col in range(m):\n",
    "        if ground[row][col] == 2:\n",
    "            target = [row, col]\n",
    "            \n",
    "            \n",
    "q = deque([target])\n",
    "\n",
    "# 방향키\n",
    "dx = [-1, 1, 0, 0]\n",
    "dy = [0, 0, -1, 1]\n",
    "\n",
    "while q:\n",
    "    x = q.popleft()\n",
    "    for idx in range(4):\n",
    "        newx = x[1] + dx[idx]\n",
    "        newy = x[0] + dy[idx]\n",
    "        \n",
    "        if 0<=newx<m and 0<=newy<n:\n",
    "            if visited[newy][newx]==1:\n",
    "                answer[newy][newx]=answer[x[0]][x[1]]+1\n",
    "                visited[newy][newx]=0\n",
    "                q.append([newy, newx])\n",
    "        \n",
    "# 못 간 땅 탐색\n",
    "for row in range(n):\n",
    "    for col in range(m):\n",
    "        if visited[row][col] ==1:\n",
    "            answer[row][col]=-1\n",
    "            \n",
    "for row in range(n):\n",
    "    print(\" \".join(map(str, answer[row])))"
   ]
  },
  {
   "cell_type": "code",
   "execution_count": 2,
   "id": "e28c215b",
   "metadata": {},
   "outputs": [
    {
     "name": "stdout",
     "output_type": "stream",
     "text": [
      " C 드라이브의 볼륨에는 이름이 없습니다.\n",
      " 볼륨 일련 번호: 4095-D5A0\n",
      "\n",
      " C:\\Users\\qotnd 디렉터리\n",
      "\n",
      "2024-07-06  오후 03:33    <DIR>          .\n",
      "2024-01-02  오후 09:11    <DIR>          ..\n",
      "2024-01-04  오후 09:55    <DIR>          .anaconda\n",
      "2024-07-06  오후 03:44             3,803 .bash_history\n",
      "2024-01-04  오후 11:27    <DIR>          .conda\n",
      "2024-01-04  오후 09:55                25 .condarc\n",
      "2024-01-04  오후 09:55    <DIR>          .continuum\n",
      "2024-03-31  오후 07:04                56 .gitconfig\n",
      "2024-07-01  오후 11:14    <DIR>          .ipynb_checkpoints\n",
      "2024-01-04  오후 09:59    <DIR>          .ipython\n",
      "2024-01-04  오후 09:56    <DIR>          .jupyter\n",
      "2024-04-06  오후 10:57    <DIR>          .matplotlib\n",
      "2024-01-03  오후 10:27    <DIR>          .ms-ad\n",
      "2024-07-06  오후 03:33             9,539 [240707].ipynb\n",
      "2024-01-04  오후 09:53    <DIR>          anaconda3\n",
      "2024-01-07  오전 12:50    <DIR>          Coding Test\n",
      "2024-01-01  오후 04:37    <DIR>          Contacts\n",
      "2024-06-13  오후 03:41    <DIR>          Desktop\n",
      "2024-04-30  오후 09:00    <DIR>          Documents\n",
      "2024-06-17  오후 02:28    <DIR>          Downloads\n",
      "2024-04-08  오후 11:36            17,768 Embedding finetuning.ipynb\n",
      "2024-01-01  오후 04:37    <DIR>          Favorites\n",
      "2024-01-01  오후 04:37    <DIR>          Links\n",
      "2024-01-01  오후 04:37    <DIR>          Music\n",
      "2024-05-01  오후 11:44    <DIR>          OneDrive\n",
      "2024-01-17  오후 10:06    <DIR>          Pictures\n",
      "2024-01-01  오후 04:37    <DIR>          Saved Games\n",
      "2024-01-02  오후 09:11    <DIR>          Searches\n",
      "2024-03-03  오후 06:35            14,749 train 키워드별 요약.ipynb\n",
      "2024-03-31  오후 03:29            17,588 Untitled.ipynb\n",
      "2024-04-19  오후 01:02            16,691 Untitled1.ipynb\n",
      "2024-05-07  오후 10:16             9,128 Untitled2.ipynb\n",
      "2024-02-23  오후 08:39    <DIR>          Videos\n",
      "               9개 파일              89,347 바이트\n",
      "              24개 디렉터리  147,400,749,056 바이트 남음\n"
     ]
    }
   ],
   "source": [
    "ls"
   ]
  },
  {
   "cell_type": "code",
   "execution_count": 3,
   "id": "f0c633a0",
   "metadata": {},
   "outputs": [
    {
     "name": "stdout",
     "output_type": "stream",
     "text": [
      "C:\\Users\\qotnd\\Desktop\\수연 폴더\\공부\\알고리즘 스터디\n"
     ]
    }
   ],
   "source": [
    "cd Desktop/수연 폴더/공부/알고리즘 스터디"
   ]
  },
  {
   "cell_type": "code",
   "execution_count": 5,
   "id": "8692eb2b",
   "metadata": {},
   "outputs": [
    {
     "name": "stderr",
     "output_type": "stream",
     "text": [
      "Cloning into 'Algorithm'...\n"
     ]
    }
   ],
   "source": [
    "!git clone https://github.com/baesooyeon/Algorithm.git"
   ]
  },
  {
   "cell_type": "code",
   "execution_count": null,
   "id": "2eb0d0e6",
   "metadata": {},
   "outputs": [],
   "source": []
  }
 ],
 "metadata": {
  "kernelspec": {
   "display_name": "Python 3 (ipykernel)",
   "language": "python",
   "name": "python3"
  },
  "language_info": {
   "codemirror_mode": {
    "name": "ipython",
    "version": 3
   },
   "file_extension": ".py",
   "mimetype": "text/x-python",
   "name": "python",
   "nbconvert_exporter": "python",
   "pygments_lexer": "ipython3",
   "version": "3.11.5"
  }
 },
 "nbformat": 4,
 "nbformat_minor": 5
}
