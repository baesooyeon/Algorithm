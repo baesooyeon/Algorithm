{
 "cells": [
  {
   "cell_type": "code",
   "execution_count": 1,
   "metadata": {
    "ExecuteTime": {
     "end_time": "2023-11-11T07:13:23.072012Z",
     "start_time": "2023-11-11T07:13:23.037581Z"
    }
   },
   "outputs": [
    {
     "data": {
      "text/html": [
       "<style>.container {width:95% !important ; }</style>"
      ],
      "text/plain": [
       "<IPython.core.display.HTML object>"
      ]
     },
     "metadata": {},
     "output_type": "display_data"
    }
   ],
   "source": [
    "from IPython.display import display,HTML\n",
    "display(HTML(\"<style>.container {width:95% !important ; }</style>\"))"
   ]
  },
  {
   "cell_type": "markdown",
   "metadata": {},
   "source": [
    "# 방문 길이"
   ]
  },
  {
   "cell_type": "markdown",
   "metadata": {},
   "source": [
    "- 문제 링크 : https://school.programmers.co.kr/learn/courses/30/lessons/49994\n",
    "- 난이도(정답률) : Lv.2(57%)"
   ]
  },
  {
   "cell_type": "code",
   "execution_count": 8,
   "metadata": {
    "ExecuteTime": {
     "end_time": "2023-11-11T07:53:52.867965Z",
     "start_time": "2023-11-11T07:53:52.855001Z"
    }
   },
   "outputs": [],
   "source": [
    "dirs = \"LULLLLLLU\""
   ]
  },
  {
   "cell_type": "code",
   "execution_count": 9,
   "metadata": {
    "ExecuteTime": {
     "end_time": "2023-11-11T07:53:53.335819Z",
     "start_time": "2023-11-11T07:53:53.312880Z"
    }
   },
   "outputs": [],
   "source": [
    "# 답!\n",
    "def solution(dirs):\n",
    "    shift = {\"U\" : (0,1),\n",
    "        \"D\" : (0,-1),\n",
    "        \"L\" : (-1,0),\n",
    "        \"R\" : (1,0)\n",
    "        }\n",
    "    \n",
    "    start = (0,0)\n",
    "    load = []\n",
    "    answer = 0\n",
    "\n",
    "    for i in dirs:\n",
    "        x = shift[i][0]\n",
    "        y = shift[i][1]\n",
    "\n",
    "        new_x =  start[0]+x\n",
    "        new_y =  start[1]+y\n",
    "\n",
    "        new = [start, (new_x, new_y)]\n",
    "        # 매번 sort하는게 시간 많이 들면 set을 쓰기도 함!\n",
    "        new.sort()\n",
    "\n",
    "        if -5<=new_x<=5 and -5<=new_y<=5:\n",
    "            start = (new_x, new_y)\n",
    "            if new not in load:\n",
    "                load.append(new)\n",
    "\n",
    "                answer+=1\n",
    "    return answer"
   ]
  },
  {
   "cell_type": "code",
   "execution_count": 10,
   "metadata": {
    "ExecuteTime": {
     "end_time": "2023-11-11T07:53:53.726876Z",
     "start_time": "2023-11-11T07:53:53.709922Z"
    }
   },
   "outputs": [
    {
     "data": {
      "text/plain": [
       "7"
      ]
     },
     "execution_count": 10,
     "metadata": {},
     "output_type": "execute_result"
    }
   ],
   "source": [
    "solution(dirss)"
   ]
  },
  {
   "cell_type": "markdown",
   "metadata": {},
   "source": [
    "# N-Queen"
   ]
  },
  {
   "cell_type": "markdown",
   "metadata": {},
   "source": [
    "- 문제 링크 : https://school.programmers.co.kr/learn/courses/30/lessons/12952\n",
    "- 난이도 : Lv.2(36%)"
   ]
  },
  {
   "cell_type": "code",
   "execution_count": 78,
   "metadata": {
    "ExecuteTime": {
     "end_time": "2023-11-11T13:26:25.498666Z",
     "start_time": "2023-11-11T13:26:25.491692Z"
    }
   },
   "outputs": [],
   "source": [
    "n = 6"
   ]
  },
  {
   "cell_type": "code",
   "execution_count": 112,
   "metadata": {
    "ExecuteTime": {
     "end_time": "2023-11-11T13:32:49.701934Z",
     "start_time": "2023-11-11T13:32:49.688969Z"
    }
   },
   "outputs": [],
   "source": [
    "# 내가 푼 답!\n",
    "answer = 0\n",
    "answers = []\n",
    "def dfs(k, chess, n):\n",
    "    global answer\n",
    "    if k ==n:\n",
    "        answer+=1\n",
    "        answers.append(chess)\n",
    "    elif k == 0:\n",
    "        for i in range(n):\n",
    "            chess =[]\n",
    "            chess.append(i)\n",
    "            dfs(k+1, chess, n)\n",
    "    else:\n",
    "        for i in range(n):\n",
    "            new_chess = chess[::]\n",
    "            stop = False\n",
    "            # 같은 행 위치에 있는 경우 스킵\n",
    "            if i in chess:\n",
    "                continue\n",
    "            \n",
    "            # 대각선 스킵\n",
    "            for idx in range(k):\n",
    "                if abs(chess[idx]-i)==abs(k-idx):\n",
    "                    stop = True\n",
    "                    break\n",
    "            if stop:\n",
    "                continue\n",
    "            \n",
    "            # 다 통과 된 경우\n",
    "            new_chess.append(i)\n",
    "            dfs(k+1, new_chess, n)\n",
    "            \n",
    "def solution(n):\n",
    "    chess = []\n",
    "    \n",
    "    dfs(0,chess,n)\n",
    "    return answer, answers"
   ]
  },
  {
   "cell_type": "code",
   "execution_count": 108,
   "metadata": {
    "ExecuteTime": {
     "end_time": "2023-11-11T13:32:35.744397Z",
     "start_time": "2023-11-11T13:32:35.719461Z"
    }
   },
   "outputs": [
    {
     "data": {
      "text/plain": [
       "(2,\n",
       " [[1, 3, 0, 2],\n",
       "  [2, 0, 3, 1],\n",
       "  [0, 2, 4, 1, 3],\n",
       "  [0, 3, 1, 4, 2],\n",
       "  [1, 3, 0, 2, 4],\n",
       "  [1, 4, 2, 0, 3],\n",
       "  [2, 0, 3, 1, 4],\n",
       "  [2, 4, 1, 3, 0],\n",
       "  [3, 0, 2, 4, 1],\n",
       "  [3, 1, 4, 2, 0],\n",
       "  [4, 1, 3, 0, 2],\n",
       "  [4, 2, 0, 3, 1],\n",
       "  [1, 3, 0, 2],\n",
       "  [2, 0, 3, 1]])"
      ]
     },
     "execution_count": 108,
     "metadata": {},
     "output_type": "execute_result"
    }
   ],
   "source": [
    "solution(4)"
   ]
  },
  {
   "cell_type": "code",
   "execution_count": 113,
   "metadata": {
    "ExecuteTime": {
     "end_time": "2023-11-11T13:32:51.689325Z",
     "start_time": "2023-11-11T13:32:51.672371Z"
    }
   },
   "outputs": [
    {
     "data": {
      "text/plain": [
       "(10,\n",
       " [[0, 2, 4, 1, 3],\n",
       "  [0, 3, 1, 4, 2],\n",
       "  [1, 3, 0, 2, 4],\n",
       "  [1, 4, 2, 0, 3],\n",
       "  [2, 0, 3, 1, 4],\n",
       "  [2, 4, 1, 3, 0],\n",
       "  [3, 0, 2, 4, 1],\n",
       "  [3, 1, 4, 2, 0],\n",
       "  [4, 1, 3, 0, 2],\n",
       "  [4, 2, 0, 3, 1]])"
      ]
     },
     "execution_count": 113,
     "metadata": {},
     "output_type": "execute_result"
    }
   ],
   "source": [
    "solution(5)"
   ]
  },
  {
   "cell_type": "markdown",
   "metadata": {},
   "source": [
    "# 14891 : 톱니바퀴"
   ]
  },
  {
   "cell_type": "markdown",
   "metadata": {},
   "source": [
    "- 문제 링크 : https://www.acmicpc.net/problem/14891\n",
    "- 난이도 : 골드5\n",
    "- 시간 제한 : 2초\n",
    "- 메모리 제한 : 512MB"
   ]
  },
  {
   "cell_type": "code",
   "execution_count": 118,
   "metadata": {
    "ExecuteTime": {
     "end_time": "2023-11-11T13:55:01.144117Z",
     "start_time": "2023-11-11T13:54:47.073685Z"
    }
   },
   "outputs": [
    {
     "name": "stdout",
     "output_type": "stream",
     "text": [
      "10101111\n",
      "01111101\n",
      "11001110\n",
      "00000010\n"
     ]
    }
   ],
   "source": [
    "gear = [[int(i) for i in input()] for _ in range(4)]"
   ]
  },
  {
   "cell_type": "code",
   "execution_count": 122,
   "metadata": {
    "ExecuteTime": {
     "end_time": "2023-11-11T14:10:04.303080Z",
     "start_time": "2023-11-11T14:10:04.289079Z"
    }
   },
   "outputs": [
    {
     "data": {
      "text/plain": [
       "[[1, 0, 1, 0, 1, 1, 1, 1],\n",
       " [0, 1, 1, 1, 1, 1, 0, 1],\n",
       " [1, 1, 0, 0, 1, 1, 1, 0],\n",
       " [0, 0, 0, 0, 0, 0, 1, 0]]"
      ]
     },
     "execution_count": 122,
     "metadata": {},
     "output_type": "execute_result"
    }
   ],
   "source": [
    "gear"
   ]
  },
  {
   "cell_type": "code",
   "execution_count": null,
   "metadata": {},
   "outputs": [],
   "source": [
    "points = [[0,2],[0,2,6], [0,2,6], [0,6]]"
   ]
  },
  {
   "cell_type": "code",
   "execution_count": 135,
   "metadata": {
    "ExecuteTime": {
     "end_time": "2023-11-11T14:40:22.161439Z",
     "start_time": "2023-11-11T14:40:22.145004Z"
    }
   },
   "outputs": [],
   "source": [
    "turn_ = [False]*4"
   ]
  },
  {
   "cell_type": "code",
   "execution_count": 136,
   "metadata": {
    "ExecuteTime": {
     "end_time": "2023-11-11T14:40:28.547574Z",
     "start_time": "2023-11-11T14:40:28.530619Z"
    }
   },
   "outputs": [
    {
     "data": {
      "text/plain": [
       "[False, False, False, False]"
      ]
     },
     "execution_count": 136,
     "metadata": {},
     "output_type": "execute_result"
    }
   ],
   "source": [
    "turn_"
   ]
  },
  {
   "cell_type": "code",
   "execution_count": null,
   "metadata": {},
   "outputs": [],
   "source": []
  },
  {
   "cell_type": "code",
   "execution_count": 133,
   "metadata": {
    "ExecuteTime": {
     "end_time": "2023-11-11T14:40:09.231548Z",
     "start_time": "2023-11-11T14:40:09.214075Z"
    }
   },
   "outputs": [
    {
     "ename": "SyntaxError",
     "evalue": "invalid syntax (<ipython-input-133-a633daa37e12>, line 16)",
     "output_type": "error",
     "traceback": [
      "\u001b[1;36m  File \u001b[1;32m\"<ipython-input-133-a633daa37e12>\"\u001b[1;36m, line \u001b[1;32m16\u001b[0m\n\u001b[1;33m    if poin\u001b[0m\n\u001b[1;37m           ^\u001b[0m\n\u001b[1;31mSyntaxError\u001b[0m\u001b[1;31m:\u001b[0m invalid syntax\n"
     ]
    }
   ],
   "source": [
    "n = int(input())\n",
    "turn_ = [False]*4\n",
    "for _ in range(n):\n",
    "    gear_num , shift = map(int, input().split(\" \"))\n",
    "    shifts = [0]*4\n",
    "    for gear_idx in range(gear_num-1, gear_num-1+4):\n",
    "        gear_idx=gear_idx%4\n",
    "        shifts[gear_idx] = shift\n",
    "        if shift ==1:\n",
    "            shift = -1\n",
    "        else:\n",
    "            shift = 1\n",
    "    \n",
    "    \n",
    "    \n",
    "    if poin\n",
    "    # 1번 톱니바퀴인 경우\n",
    "    if gear_num ==1:\n",
    "        for idx in range(4):\n",
    "            if \n",
    "                \n",
    "            \n",
    "                \n",
    "                \n",
    "    "
   ]
  },
  {
   "cell_type": "code",
   "execution_count": 124,
   "metadata": {
    "ExecuteTime": {
     "end_time": "2023-11-11T14:22:55.581615Z",
     "start_time": "2023-11-11T14:22:55.565642Z"
    }
   },
   "outputs": [
    {
     "name": "stdout",
     "output_type": "stream",
     "text": [
      "2\n",
      "3\n",
      "0\n",
      "1\n"
     ]
    }
   ],
   "source": [
    "for i in range(3-1, 3-1+4):\n",
    "    print(i%4)"
   ]
  },
  {
   "cell_type": "code",
   "execution_count": 131,
   "metadata": {
    "ExecuteTime": {
     "end_time": "2023-11-11T14:31:35.476938Z",
     "start_time": "2023-11-11T14:31:35.463971Z"
    }
   },
   "outputs": [],
   "source": [
    "gear_num = 3\n",
    "shifts = [0]*4\n",
    "shift = 1\n",
    "for gear_idx in range(gear_num-1, gear_num-1+4):\n",
    "    gear_idx=gear_idx%4\n",
    "    shifts[gear_idx] = shift\n",
    "    if shift ==1:\n",
    "        shift = -1\n",
    "    else:\n",
    "        shift = 1"
   ]
  },
  {
   "cell_type": "code",
   "execution_count": 132,
   "metadata": {
    "ExecuteTime": {
     "end_time": "2023-11-11T14:31:36.080490Z",
     "start_time": "2023-11-11T14:31:36.062537Z"
    }
   },
   "outputs": [
    {
     "data": {
      "text/plain": [
       "[1, -1, 1, -1]"
      ]
     },
     "execution_count": 132,
     "metadata": {},
     "output_type": "execute_result"
    }
   ],
   "source": [
    "shifts"
   ]
  },
  {
   "cell_type": "code",
   "execution_count": 121,
   "metadata": {
    "ExecuteTime": {
     "end_time": "2023-11-11T14:01:25.230607Z",
     "start_time": "2023-11-11T14:01:25.212653Z"
    }
   },
   "outputs": [],
   "source": [
    "points = [[0,2],[0,2,6], [0,2,6], [0,6]]"
   ]
  },
  {
   "cell_type": "code",
   "execution_count": null,
   "metadata": {},
   "outputs": [],
   "source": [
    "n = "
   ]
  },
  {
   "cell_type": "code",
   "execution_count": null,
   "metadata": {},
   "outputs": [],
   "source": []
  },
  {
   "cell_type": "code",
   "execution_count": null,
   "metadata": {},
   "outputs": [],
   "source": []
  },
  {
   "cell_type": "code",
   "execution_count": null,
   "metadata": {},
   "outputs": [],
   "source": []
  },
  {
   "cell_type": "code",
   "execution_count": null,
   "metadata": {},
   "outputs": [],
   "source": []
  },
  {
   "cell_type": "code",
   "execution_count": null,
   "metadata": {},
   "outputs": [],
   "source": []
  },
  {
   "cell_type": "code",
   "execution_count": null,
   "metadata": {},
   "outputs": [],
   "source": []
  },
  {
   "cell_type": "code",
   "execution_count": null,
   "metadata": {},
   "outputs": [],
   "source": []
  },
  {
   "cell_type": "code",
   "execution_count": null,
   "metadata": {},
   "outputs": [],
   "source": []
  },
  {
   "cell_type": "code",
   "execution_count": null,
   "metadata": {},
   "outputs": [],
   "source": []
  },
  {
   "cell_type": "code",
   "execution_count": null,
   "metadata": {},
   "outputs": [],
   "source": []
  }
 ],
 "metadata": {
  "kernelspec": {
   "display_name": "Python 3",
   "language": "python",
   "name": "python3"
  },
  "language_info": {
   "codemirror_mode": {
    "name": "ipython",
    "version": 3
   },
   "file_extension": ".py",
   "mimetype": "text/x-python",
   "name": "python",
   "nbconvert_exporter": "python",
   "pygments_lexer": "ipython3",
   "version": "3.8.3"
  },
  "toc": {
   "base_numbering": 1,
   "nav_menu": {},
   "number_sections": true,
   "sideBar": true,
   "skip_h1_title": false,
   "title_cell": "Table of Contents",
   "title_sidebar": "Contents",
   "toc_cell": false,
   "toc_position": {},
   "toc_section_display": true,
   "toc_window_display": false
  }
 },
 "nbformat": 4,
 "nbformat_minor": 4
}
