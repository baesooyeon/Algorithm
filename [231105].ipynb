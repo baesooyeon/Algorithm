{
 "cells": [
  {
   "cell_type": "markdown",
   "metadata": {},
   "source": [
    "# 프로그래머스"
   ]
  },
  {
   "cell_type": "markdown",
   "metadata": {},
   "source": [
    "- 문제 링크 : https://school.programmers.co.kr/learn/courses/30/lessons/12923\n",
    "- 난이도(정답률) : Lv.2(35%)"
   ]
  },
  {
   "cell_type": "code",
   "execution_count": 10,
   "metadata": {
    "ExecuteTime": {
     "end_time": "2023-11-05T05:31:51.994531Z",
     "start_time": "2023-11-05T05:31:51.980567Z"
    }
   },
   "outputs": [],
   "source": [
    "begin = 1\n",
    "end =10"
   ]
  },
  {
   "cell_type": "code",
   "execution_count": 11,
   "metadata": {
    "ExecuteTime": {
     "end_time": "2023-11-05T05:31:52.419742Z",
     "start_time": "2023-11-05T05:31:52.408768Z"
    }
   },
   "outputs": [],
   "source": [
    "# 답\n",
    "def solution(begin, end):\n",
    "    dp = [1]*(end-begin+1)\n",
    "    for idx, i in enumerate(range(begin, end+1)):\n",
    "        if i==1:\n",
    "            dp[idx]=0\n",
    "        for j in range(2, int((i**0.5))+1):\n",
    "            if i%j==0:\n",
    "                answer = i//j\n",
    "                if answer>10000000: \n",
    "                    ###이 부분이 중요!!!(타일이 10000000까지 제한된 부분 코드화)\n",
    "                    dp[idx]=j\n",
    "                else:\n",
    "                    dp[idx]=answer\n",
    "                    break\n",
    "    return dp"
   ]
  },
  {
   "cell_type": "code",
   "execution_count": 33,
   "metadata": {
    "ExecuteTime": {
     "end_time": "2023-11-05T01:00:16.653340Z",
     "start_time": "2023-11-05T01:00:16.644337Z"
    }
   },
   "outputs": [],
   "source": [
    "# 참고 답안\n",
    "def solution2(begin, end):\n",
    "    answer = []\n",
    "    \n",
    "    for i in range(begin, end + 1):\n",
    "        min_num = 1\n",
    "        max_num = 1\n",
    "        for j in range(2, int(i ** 0.5) + 1):\n",
    "            if i % j == 0:\n",
    "                if i // j <= 10000000:\n",
    "                    min_num = j\n",
    "                    answer.append(i // j)\n",
    "                    break\n",
    "                else:\n",
    "                    max_num = j\n",
    "        if i == 1:\n",
    "            answer.append(0)\n",
    "        elif min_num == 1:\n",
    "            answer.append(max_num)\n",
    "    return answer"
   ]
  },
  {
   "cell_type": "code",
   "execution_count": 12,
   "metadata": {
    "ExecuteTime": {
     "end_time": "2023-11-05T05:31:54.369515Z",
     "start_time": "2023-11-05T05:31:54.357536Z"
    }
   },
   "outputs": [
    {
     "data": {
      "text/plain": [
       "[0, 1, 1, 2, 1, 3, 1, 4, 3, 5]"
      ]
     },
     "execution_count": 12,
     "metadata": {},
     "output_type": "execute_result"
    }
   ],
   "source": [
    "solution(begin, end)"
   ]
  },
  {
   "cell_type": "markdown",
   "metadata": {},
   "source": [
    "# 14890 : 경사로"
   ]
  },
  {
   "cell_type": "markdown",
   "metadata": {},
   "source": [
    "- 문제 링크 : https://www.acmicpc.net/problem/14890\n",
    "- 난이도 : 골드3\n",
    "- 시간 제한 : 2초\n",
    "- 메모리 제한 : 512MB"
   ]
  },
  {
   "cell_type": "code",
   "execution_count": null,
   "metadata": {},
   "outputs": [],
   "source": [
    "# 답(내가 풂!)\n",
    "import sys\n",
    "input = sys.stdin.readline\n",
    "\n",
    "# 입력 받기\n",
    "n ,l = map(int, input().split(\" \"))\n",
    "map_ = [[int(i) for i in input().split(\" \")] for _ in range(n)]\n",
    "new_map = []\n",
    "for i in range(n):\n",
    "    temp = []\n",
    "    for j in range(n):\n",
    "        temp.append(map_[j][i])\n",
    "    new_map.append(temp)\n",
    "all_map = map_+new_map\n",
    "\n",
    "\n",
    "result = 0\n",
    "for map_idx in range(len(all_map)):\n",
    "    test = all_map[map_idx]\n",
    "    idx = 1\n",
    "    before_num = test[0]\n",
    "    \n",
    "    # 건널 수 있는지 여부 변수\n",
    "    ispass=True\n",
    "    \n",
    "    # 사다리 겹치기 금지\n",
    "    isladder =[True]*n\n",
    "    \n",
    "    while idx<len(test):\n",
    "        # 만약 높이가 2이상 차이날 경우> 멈춤\n",
    "        if abs(test[idx]-before_num)>1:\n",
    "            ispass=False\n",
    "            break\n",
    "\n",
    "        # 만약 높이 차이가 1인 경우\n",
    "        elif abs(test[idx]-before_num)==1:\n",
    "            \n",
    "            # 올라가야 하는 경우\n",
    "            if before_num<test[idx]:\n",
    "                if (test[idx-l:idx] == [before_num]*l) and (False not in isladder[idx-l:idx]):\n",
    "                    before_num = test[idx]\n",
    "                    isladder[idx-l:idx]=[False]*l\n",
    "                else:\n",
    "                    ispass=False\n",
    "                    break\n",
    "\n",
    "            # 내려가야 하는 경우\n",
    "            else:\n",
    "                if (test[idx:idx+l] == [test[idx]]*l) :\n",
    "                    before_num=test[idx]\n",
    "                    \n",
    "                    isladder[idx:idx+l]=[False]*l\n",
    "                    idx+=l\n",
    "                else:\n",
    "                    ispass=False\n",
    "                    break\n",
    "                    \n",
    "        # 만약 높이가 같다면?\n",
    "        elif abs(test[idx]-before_num)==0:\n",
    "            idx+=1\n",
    "            \n",
    "    # result값 산정하기!\n",
    "    if ispass:\n",
    "        result+=1\n",
    "\n",
    "print(result)"
   ]
  },
  {
   "cell_type": "markdown",
   "metadata": {},
   "source": [
    "# 프로그래머스 : 땅따먹기"
   ]
  },
  {
   "cell_type": "markdown",
   "metadata": {},
   "source": [
    "- 문제 링크 : https://school.programmers.co.kr/learn/courses/30/lessons/12913\n",
    "- 난이도(정담률):Lv.2(57%)"
   ]
  },
  {
   "cell_type": "code",
   "execution_count": 4,
   "metadata": {
    "ExecuteTime": {
     "end_time": "2023-11-05T05:31:21.544484Z",
     "start_time": "2023-11-05T05:31:21.517047Z"
    }
   },
   "outputs": [],
   "source": [
    "### 답!!\n",
    "def solution(land):\n",
    "    dp = [[0 for _ in range(len(land[0]))] for _ in range(len(land))]\n",
    "    dp[0] = land[0]\n",
    "    for i in range(1, len(dp)):\n",
    "        dp[i][0] = max((dp[i-1][1]+land[i][0]),(dp[i-1][2]+land[i][0]),(dp[i-1][3]+land[i][0]))\n",
    "        dp[i][1] = max((dp[i-1][0]+land[i][1]),(dp[i-1][2]+land[i][1]),(dp[i-1][3]+land[i][1]))\n",
    "        dp[i][2] = max((dp[i-1][0]+land[i][2]),(dp[i-1][1]+land[i][2]),(dp[i-1][3]+land[i][2]))\n",
    "        dp[i][3] = max((dp[i-1][0]+land[i][3]),(dp[i-1][2]+land[i][3]),(dp[i-1][1]+land[i][3]))\n",
    "\n",
    "    return max(dp[-1])"
   ]
  },
  {
   "cell_type": "code",
   "execution_count": 5,
   "metadata": {
    "ExecuteTime": {
     "end_time": "2023-11-05T05:31:21.770275Z",
     "start_time": "2023-11-05T05:31:21.757309Z"
    }
   },
   "outputs": [],
   "source": [
    "### dfs로 풀어보기\n",
    "land = [[1,2,3,5],[5,6,7,8],[4,3,2,1]]"
   ]
  },
  {
   "cell_type": "code",
   "execution_count": 4,
   "metadata": {
    "ExecuteTime": {
     "end_time": "2023-11-05T05:16:51.312541Z",
     "start_time": "2023-11-05T05:16:51.287607Z"
    }
   },
   "outputs": [],
   "source": [
    "# 재귀로 풀어보기 > 시간오류\n",
    "answers = []\n",
    "def dfs(row, col, answer, land):\n",
    "    global answers\n",
    "    if row==len(land):\n",
    "        answers.append(answer)\n",
    "    else:\n",
    "        if col!=0:\n",
    "            dfs(row+1,0, answer+land[row][0], land)\n",
    "        if col!=1:\n",
    "            dfs(row+1,1, answer+land[row][1], land)\n",
    "        if col!=2:\n",
    "            dfs(row+1,2, answer+land[row][2], land)\n",
    "        if col!=3:\n",
    "            dfs(row+1,3,answer+land[row][3], land)\n",
    "            \n",
    "def solution(land):\n",
    "    for i in range(4):\n",
    "        dfs(0,i,0, land)\n",
    "    return max(answers)\n"
   ]
  },
  {
   "cell_type": "code",
   "execution_count": 6,
   "metadata": {
    "ExecuteTime": {
     "end_time": "2023-11-05T05:31:26.581457Z",
     "start_time": "2023-11-05T05:31:26.563505Z"
    }
   },
   "outputs": [
    {
     "data": {
      "text/plain": [
       "16"
      ]
     },
     "execution_count": 6,
     "metadata": {},
     "output_type": "execute_result"
    }
   ],
   "source": [
    "solution(land)"
   ]
  }
 ],
 "metadata": {
  "kernelspec": {
   "display_name": "Python 3",
   "language": "python",
   "name": "python3"
  },
  "language_info": {
   "codemirror_mode": {
    "name": "ipython",
    "version": 3
   },
   "file_extension": ".py",
   "mimetype": "text/x-python",
   "name": "python",
   "nbconvert_exporter": "python",
   "pygments_lexer": "ipython3",
   "version": "3.8.3"
  },
  "toc": {
   "base_numbering": 1,
   "nav_menu": {},
   "number_sections": true,
   "sideBar": true,
   "skip_h1_title": false,
   "title_cell": "Table of Contents",
   "title_sidebar": "Contents",
   "toc_cell": false,
   "toc_position": {},
   "toc_section_display": true,
   "toc_window_display": false
  }
 },
 "nbformat": 4,
 "nbformat_minor": 2
}
