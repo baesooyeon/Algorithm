{
 "cells": [
  {
   "cell_type": "markdown",
   "id": "aeb1a395",
   "metadata": {},
   "source": [
    "# 15686 : 치킨 배달"
   ]
  },
  {
   "cell_type": "markdown",
   "id": "f72521a2",
   "metadata": {},
   "source": [
    "- 문제 링크 : https://www.acmicpc.net/problem/15686\n",
    "- 난이도 : 골드5\n",
    "- 시간 제한 : 1초\n",
    "- 메모리 제한 : 512MB"
   ]
  },
  {
   "cell_type": "code",
   "execution_count": 1,
   "id": "57dca30a",
   "metadata": {},
   "outputs": [
    {
     "name": "stdout",
     "output_type": "stream",
     "text": [
      "5 3\n"
     ]
    }
   ],
   "source": [
    "n,m = map(int, input().split(\" \"))\n",
    "chicken = [[int(i) for i in input().split(\" \")] for _ in range(n)]"
   ]
  },
  {
   "cell_type": "code",
   "execution_count": 2,
   "id": "ef6ff16d",
   "metadata": {},
   "outputs": [
    {
     "data": {
      "text/plain": [
       "(5, 3)"
      ]
     },
     "execution_count": 2,
     "metadata": {},
     "output_type": "execute_result"
    }
   ],
   "source": [
    "n,m"
   ]
  },
  {
   "cell_type": "code",
   "execution_count": 5,
   "id": "2c905b0f",
   "metadata": {},
   "outputs": [
    {
     "name": "stdout",
     "output_type": "stream",
     "text": [
      "0 0 1 0 0\n",
      "0 0 2 0 1\n",
      "0 1 2 0 0\n",
      "0 0 1 0 0\n",
      "0 0 0 0 2\n"
     ]
    }
   ],
   "source": [
    "chicken = [[int(i) for i in input().split(\" \")] for _ in range(n)]"
   ]
  },
  {
   "cell_type": "code",
   "execution_count": 6,
   "id": "206c94e2",
   "metadata": {},
   "outputs": [
    {
     "data": {
      "text/plain": [
       "[[0, 0, 1, 0, 0],\n",
       " [0, 0, 2, 0, 1],\n",
       " [0, 1, 2, 0, 0],\n",
       " [0, 0, 1, 0, 0],\n",
       " [0, 0, 0, 0, 2]]"
      ]
     },
     "execution_count": 6,
     "metadata": {},
     "output_type": "execute_result"
    }
   ],
   "source": [
    "chicken"
   ]
  },
  {
   "cell_type": "code",
   "execution_count": 7,
   "id": "18cfff7b",
   "metadata": {},
   "outputs": [],
   "source": [
    "two = []\n",
    "one = []\n",
    "\n",
    "for row in range(n):\n",
    "    for col in range(n):\n",
    "        if chicken[row][col] ==1:\n",
    "            one.append((row, col))\n",
    "        elif  chicken[row][col] == 2:\n",
    "            two.append((row, col))"
   ]
  },
  {
   "cell_type": "code",
   "execution_count": 8,
   "id": "0970a020",
   "metadata": {},
   "outputs": [
    {
     "data": {
      "text/plain": [
       "[(0, 2), (1, 4), (2, 1), (3, 2)]"
      ]
     },
     "execution_count": 8,
     "metadata": {},
     "output_type": "execute_result"
    }
   ],
   "source": [
    "one"
   ]
  },
  {
   "cell_type": "code",
   "execution_count": 10,
   "id": "89bc9d15",
   "metadata": {},
   "outputs": [
    {
     "data": {
      "text/plain": [
       "[(1, 2), (2, 2), (4, 4)]"
      ]
     },
     "execution_count": 10,
     "metadata": {},
     "output_type": "execute_result"
    }
   ],
   "source": [
    "two"
   ]
  },
  {
   "cell_type": "code",
   "execution_count": 42,
   "id": "cb88fb21",
   "metadata": {},
   "outputs": [],
   "source": [
    "visited = []\n",
    "all_visited = []\n",
    "def dfs(visited):\n",
    "    global all_visited\n",
    "    for idx in range(len(two)):\n",
    "        new_visited = visited[:]\n",
    "        if two[idx] not in new_visited and len(new_visited)<2*n:\n",
    "            new_visited.append(two[idx])\n",
    "            new_visited.sort()\n",
    "        if new_visited not in all_visited:\n",
    "            all_visited.append(new_visited)\n",
    "            dfs(new_visited)"
   ]
  },
  {
   "cell_type": "code",
   "execution_count": 57,
   "id": "417ea468",
   "metadata": {},
   "outputs": [
    {
     "name": "stdout",
     "output_type": "stream",
     "text": [
      "5 2\n",
      "0 2 0 1 0\n",
      "1 0 1 0 0\n",
      "0 0 0 0 0\n",
      "2 0 0 1 1\n",
      "2 2 0 1 2\n",
      "10\n"
     ]
    }
   ],
   "source": [
    "# 시간 초과\n",
    "import sys\n",
    "input = sys.stdin.readline\n",
    "n,m = map(int, input().split(\" \"))\n",
    "chicken = [[int(i) for i in input().split(\" \")] for _ in range(n)]\n",
    "\n",
    "two = []\n",
    "one = []\n",
    "\n",
    "for row in range(n):\n",
    "    for col in range(n):\n",
    "        if chicken[row][col] ==1:\n",
    "            one.append((row, col))\n",
    "        elif  chicken[row][col] == 2:\n",
    "            two.append((row, col))\n",
    "\n",
    "visited = []\n",
    "all_visited = []\n",
    "\n",
    "def dfs(visited):\n",
    "    global all_visited\n",
    "    for idx in range(len(two)):\n",
    "        new_visited = visited[:]\n",
    "        if two[idx] not in new_visited and len(new_visited)<m:\n",
    "            new_visited.append(two[idx])\n",
    "            new_visited.sort()\n",
    "        if new_visited not in all_visited:\n",
    "            all_visited.append(new_visited)\n",
    "            dfs(new_visited)\n",
    "            \n",
    "dfs(visited)\n",
    "\n",
    "answers = []\n",
    "for visit in all_visited:\n",
    "    answer = 0\n",
    "    for home in one:\n",
    "        update_len = 9999999999\n",
    "        for chicken in visit:\n",
    "            length = abs(home[0] - chicken[0]) + abs(home[1] - chicken[1])\n",
    "            update_len = min(length, update_len)\n",
    "        answer+=update_len\n",
    "    answers.append(answer)\n",
    "        \n",
    "print(min(answers))"
   ]
  },
  {
   "cell_type": "code",
   "execution_count": 53,
   "id": "af3df259",
   "metadata": {},
   "outputs": [
    {
     "data": {
      "text/plain": [
       "1"
      ]
     },
     "execution_count": 53,
     "metadata": {},
     "output_type": "execute_result"
    }
   ],
   "source": [
    "m"
   ]
  },
  {
   "cell_type": "code",
   "execution_count": 52,
   "id": "eef9760d",
   "metadata": {},
   "outputs": [
    {
     "data": {
      "text/plain": [
       "[[(0, 1)],\n",
       " [(0, 1), (1, 1)],\n",
       " [(0, 1), (2, 1)],\n",
       " [(0, 1), (3, 1)],\n",
       " [(0, 1), (4, 1)],\n",
       " [(1, 1)],\n",
       " [(1, 1), (2, 1)],\n",
       " [(1, 1), (3, 1)],\n",
       " [(1, 1), (4, 1)],\n",
       " [(2, 1)],\n",
       " [(2, 1), (3, 1)],\n",
       " [(2, 1), (4, 1)],\n",
       " [(3, 1)],\n",
       " [(3, 1), (4, 1)],\n",
       " [(4, 1)]]"
      ]
     },
     "execution_count": 52,
     "metadata": {},
     "output_type": "execute_result"
    }
   ],
   "source": [
    "all_visited"
   ]
  },
  {
   "cell_type": "code",
   "execution_count": 49,
   "id": "2a6c0f2e",
   "metadata": {},
   "outputs": [
    {
     "data": {
      "text/plain": [
       "10"
      ]
     },
     "execution_count": 49,
     "metadata": {},
     "output_type": "execute_result"
    }
   ],
   "source": [
    "min(answers)"
   ]
  },
  {
   "cell_type": "code",
   "execution_count": 20,
   "id": "58e99aec",
   "metadata": {},
   "outputs": [],
   "source": [
    "all_ = 0\n",
    "for i in range(14):\n",
    "    all_+=math.comb(13,i)"
   ]
  },
  {
   "cell_type": "code",
   "execution_count": 22,
   "id": "786bb12d",
   "metadata": {},
   "outputs": [
    {
     "data": {
      "text/plain": [
       "266240000"
      ]
     },
     "execution_count": 22,
     "metadata": {},
     "output_type": "execute_result"
    }
   ],
   "source": [
    "all_*32500"
   ]
  },
  {
   "cell_type": "code",
   "execution_count": 18,
   "id": "272c07f9",
   "metadata": {},
   "outputs": [],
   "source": [
    "import math"
   ]
  },
  {
   "cell_type": "code",
   "execution_count": 19,
   "id": "6f6f8e74",
   "metadata": {},
   "outputs": [
    {
     "data": {
      "text/plain": [
       "13"
      ]
     },
     "execution_count": 19,
     "metadata": {},
     "output_type": "execute_result"
    }
   ],
   "source": [
    "math.comb(13,1)"
   ]
  },
  {
   "cell_type": "code",
   "execution_count": null,
   "id": "d72badb7",
   "metadata": {},
   "outputs": [],
   "source": []
  }
 ],
 "metadata": {
  "kernelspec": {
   "display_name": "Python 3 (ipykernel)",
   "language": "python",
   "name": "python3"
  },
  "language_info": {
   "codemirror_mode": {
    "name": "ipython",
    "version": 3
   },
   "file_extension": ".py",
   "mimetype": "text/x-python",
   "name": "python",
   "nbconvert_exporter": "python",
   "pygments_lexer": "ipython3",
   "version": "3.11.4"
  }
 },
 "nbformat": 4,
 "nbformat_minor": 5
}
