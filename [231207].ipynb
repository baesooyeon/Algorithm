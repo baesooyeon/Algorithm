{
 "cells": [
  {
   "cell_type": "code",
   "execution_count": 1,
   "metadata": {
    "ExecuteTime": {
     "end_time": "2023-12-06T11:22:01.623107Z",
     "start_time": "2023-12-06T11:22:01.602642Z"
    }
   },
   "outputs": [
    {
     "data": {
      "text/html": [
       "<style>.container {width:95% !important ; }</style>"
      ],
      "text/plain": [
       "<IPython.core.display.HTML object>"
      ]
     },
     "metadata": {},
     "output_type": "display_data"
    }
   ],
   "source": [
    "from IPython.display import display,HTML\n",
    "display(HTML(\"<style>.container {width:95% !important ; }</style>\"))"
   ]
  },
  {
   "cell_type": "markdown",
   "metadata": {},
   "source": [
    "# 프로그래머스 : [3차] 파일명 정렬"
   ]
  },
  {
   "cell_type": "markdown",
   "metadata": {},
   "source": [
    "- 문제 링크 : https://school.programmers.co.kr/learn/courses/30/lessons/17686\n",
    "- 난이도 : Lv.2(56%)"
   ]
  },
  {
   "cell_type": "code",
   "execution_count": 67,
   "metadata": {
    "ExecuteTime": {
     "end_time": "2023-12-03T02:02:25.015449Z",
     "start_time": "2023-12-03T02:02:24.996500Z"
    }
   },
   "outputs": [],
   "source": [
    "files = [\"img12.png\", \"img10.png\", \"img02.png\", \"img1.png\", \"IMG01.GIF\", \"img2.JPG\"]\n",
    "files = [\"F-5 Freedom Fighter\", \"B-50 Superfortress\", \"A-10 Thunderbolt II\", \"F-14 Tomcat\"]"
   ]
  },
  {
   "cell_type": "code",
   "execution_count": 68,
   "metadata": {
    "ExecuteTime": {
     "end_time": "2023-12-03T02:02:25.544009Z",
     "start_time": "2023-12-03T02:02:25.529075Z"
    }
   },
   "outputs": [],
   "source": [
    "# 답\n",
    "def solution(files):\n",
    "    answer = []\n",
    "    for file in files:\n",
    "        temp = \"\"\n",
    "        temps = []\n",
    "\n",
    "        for idx in range(len(file)):\n",
    "            # head, number가 없을 때\n",
    "            if len(temps)<2:\n",
    "                \n",
    "                # head 부분\n",
    "                if not file[idx].isdigit():\n",
    "                    temp+=file[idx]\n",
    "                    if file[idx+1].isdigit():\n",
    "                        temps.append(temp)\n",
    "                        temp = \"\"\n",
    "                        \n",
    "                # number 부분 > 길이가 5 이상, 다음 문자가 숫자가 아닐경우 그만\n",
    "                elif file[idx].isdigit() :\n",
    "                    if len(temp)<=5:\n",
    "                        temp+=file[idx]\n",
    "                    if idx!= len(file)-1:\n",
    "                        # 길이가 5를 넘거나 다음문자가 숫자가 아닐 경우 스탑\n",
    "                        if file[idx+1].isdigit()==False or len(temp)>5:\n",
    "                            temps.append(temp)\n",
    "                            temp = \"\"\n",
    "                    # 다음 문자가 없을 때도 스탑\n",
    "                    elif idx==len(file)-1:\n",
    "                        temps.append(temp)\n",
    "                        temp = \"\"\n",
    "            # tail\n",
    "            else:\n",
    "                temps.append(file[idx:])\n",
    "                break\n",
    "        answer.append(temps)\n",
    "\n",
    "    # 중요한 부분 > 정렬할 기준 설정 및 정렬 기준 변환을 key를 통해 할 수 있다.\n",
    "    answer = sorted(answer, key = lambda x:[x[0].lower(),int(x[1])])\n",
    "    for idx2 in range(len(answer)):\n",
    "        answer[idx2] = \"\".join(answer[idx2])    \n",
    "    return answer"
   ]
  },
  {
   "cell_type": "code",
   "execution_count": 69,
   "metadata": {
    "ExecuteTime": {
     "end_time": "2023-12-03T02:02:26.766104Z",
     "start_time": "2023-12-03T02:02:26.757598Z"
    }
   },
   "outputs": [
    {
     "data": {
      "text/plain": [
       "['A-10 Thunderbolt II',\n",
       " 'B-50 Superfortress',\n",
       " 'F-5 Freedom Fighter',\n",
       " 'F-14 Tomcat']"
      ]
     },
     "execution_count": 69,
     "metadata": {},
     "output_type": "execute_result"
    }
   ],
   "source": [
    "solution(files)"
   ]
  },
  {
   "cell_type": "markdown",
   "metadata": {},
   "source": [
    "# 프로그래머스 : 혼자 놀기의 달인"
   ]
  },
  {
   "cell_type": "markdown",
   "metadata": {},
   "source": [
    "- 문제 링크 : https://school.programmers.co.kr/learn/courses/30/lessons/131130\n",
    "- 난이도 : Lv.2(39%)"
   ]
  },
  {
   "cell_type": "code",
   "execution_count": 134,
   "metadata": {
    "ExecuteTime": {
     "end_time": "2023-12-03T12:03:10.403428Z",
     "start_time": "2023-12-03T12:03:10.387473Z"
    }
   },
   "outputs": [],
   "source": [
    "cards = [8,6,3,7,2,5,1,4]\n",
    "open_ = [False]*len(cards)"
   ]
  },
  {
   "cell_type": "code",
   "execution_count": 135,
   "metadata": {
    "ExecuteTime": {
     "end_time": "2023-12-03T12:03:10.783886Z",
     "start_time": "2023-12-03T12:03:10.767893Z"
    }
   },
   "outputs": [],
   "source": [
    "# 답!!(답 참고함)\n",
    "# dfs/bfs..? >> dfs로 푼 것 같음\n",
    "def solution(cards):\n",
    "    visited = [False]*len(cards)\n",
    "    answer = []\n",
    "    for v in cards:\n",
    "        if not visited[v-1]:\n",
    "            temp = []\n",
    "            idx_ = cards[v-1]-1\n",
    "            while idx_ not in temp:\n",
    "                temp.append(idx_)\n",
    "                visited[idx_]=True\n",
    "                idx_ = cards[idx_]-1\n",
    "\n",
    "            answer.append(len(temp))\n",
    "\n",
    "    if answer[0] == len(cards):\n",
    "        return 0\n",
    "    else:\n",
    "        answer = sorted(answer, reverse=True)\n",
    "        return answer[0]*answer[1]\n",
    "\n",
    "    "
   ]
  },
  {
   "cell_type": "code",
   "execution_count": 136,
   "metadata": {
    "ExecuteTime": {
     "end_time": "2023-12-03T12:03:23.050827Z",
     "start_time": "2023-12-03T12:03:23.034871Z"
    }
   },
   "outputs": [
    {
     "data": {
      "text/plain": [
       "12"
      ]
     },
     "execution_count": 136,
     "metadata": {},
     "output_type": "execute_result"
    }
   ],
   "source": [
    "solution(cards)"
   ]
  },
  {
   "cell_type": "code",
   "execution_count": 90,
   "metadata": {
    "ExecuteTime": {
     "end_time": "2023-12-03T11:49:53.773668Z",
     "start_time": "2023-12-03T11:49:53.765663Z"
    }
   },
   "outputs": [],
   "source": [
    "# 재귀로 풀어볼까...\n",
    "# 실패\n",
    "\n",
    "answer = []\n",
    "def dfs(cards, open_, answer):\n",
    "    if not False in open_:\n",
    "        answer = sorted(answer, reverse = True)\n",
    "        print(answer[0]*answer[1])\n",
    "        return answer[0]*answer[1], answer\n",
    "            \n",
    "            \n",
    "    for idx in range(len(cards)):\n",
    "#         print(idx)\n",
    "        new_open_ = open_[:]\n",
    "        new_answer = answer[:]\n",
    "        if new_open_[idx]==True:\n",
    "            continue\n",
    "            \n",
    "        else: \n",
    "            temp =0\n",
    "            while True:\n",
    "                # 아직 안열어봄\n",
    "                new_idx = cards[idx]-1\n",
    "                if new_open_[new_idx]==False:\n",
    "                    new_open_[new_idx]=True\n",
    "#                     print(new_open_)\n",
    "                    idx = new_idx\n",
    "                    temp+=1\n",
    "                else:\n",
    "                    break\n",
    "            if temp == len(cards):\n",
    "                return 0\n",
    "            else:\n",
    "                new_answer.append(temp)\n",
    "                dfs(cards, new_open_, new_answer)\n",
    "                    \n",
    "def solution(cards):\n",
    "    open_ = [False]*len(cards)\n",
    "    answer = []\n",
    "    dfs(cards, open_, answer)\n",
    "    return update_"
   ]
  },
  {
   "cell_type": "markdown",
   "metadata": {},
   "source": [
    "# 15686 : 치킨 배달"
   ]
  },
  {
   "cell_type": "markdown",
   "metadata": {},
   "source": [
    "- 문제 링크 : https://www.acmicpc.net/problem/15686\n",
    "- 난이도 : 골드5\n",
    "- 시간 제한 : 1초\n",
    "- 메모리 제한 : 512MB"
   ]
  },
  {
   "cell_type": "code",
   "execution_count": 4,
   "metadata": {
    "ExecuteTime": {
     "end_time": "2023-12-06T12:39:29.368680Z",
     "start_time": "2023-12-06T12:39:01.504166Z"
    }
   },
   "outputs": [
    {
     "name": "stdout",
     "output_type": "stream",
     "text": [
      "5 3\n",
      "0 0 1 0 0\n",
      "0 0 2 0 1\n",
      "0 1 2 0 0\n",
      "0 0 1 0 0\n",
      "0 0 0 0 2\n",
      "5\n"
     ]
    }
   ],
   "source": [
    "# 시간 초과>>답!\n",
    "# dfs로 풀기!\n",
    "import sys\n",
    "input = sys.stdin.readline\n",
    "n,m = map(int, input().split(\" \"))\n",
    "chicken = [[int(i) for i in input().split(\" \")] for _ in range(n)]\n",
    "\n",
    "two = []\n",
    "one = []\n",
    "\n",
    "# 치킨집과 집 선별 코드\n",
    "for row in range(n):\n",
    "    for col in range(n):\n",
    "        if chicken[row][col] ==1:\n",
    "            one.append((row, col))\n",
    "        elif  chicken[row][col] == 2:\n",
    "            two.append((row, col))\n",
    "\n",
    "visited = []\n",
    "result = 99999999\n",
    "\n",
    "def dfs(i, visited):\n",
    "    global result\n",
    "    if len(visited)==m:\n",
    "        answer = 0\n",
    "        for home in one:\n",
    "            update_len = 99999999\n",
    "            for chi in visited:\n",
    "                length = abs(home[0] - chi[0]) + abs(home[1] - chi[1])\n",
    "                update_len = min(length, update_len)\n",
    "            answer+=update_len\n",
    "        result = min(result, answer)\n",
    "        return\n",
    "    \n",
    "    else: \n",
    "        for idx in range(i,len(two)):\n",
    "            new_visited = visited[:]\n",
    "            if two[idx] not in new_visited and len(new_visited)<m:\n",
    "                new_visited.append(two[idx])\n",
    "                ## idx+1이 가장 중요한 부분! > 안그러면 시간초과 남!\n",
    "                dfs(idx+1, new_visited)\n",
    "dfs(0, visited)\n",
    "print(result)"
   ]
  },
  {
   "cell_type": "code",
   "execution_count": 3,
   "metadata": {
    "ExecuteTime": {
     "end_time": "2023-12-06T12:32:41.129127Z",
     "start_time": "2023-12-06T12:32:22.536318Z"
    }
   },
   "outputs": [
    {
     "name": "stdout",
     "output_type": "stream",
     "text": [
      "5 3\n",
      "0 0 1 0 0\n",
      "0 0 2 0 1\n",
      "0 1 2 0 0\n",
      "0 0 1 0 0\n",
      "0 0 0 0 2\n",
      "5\n"
     ]
    }
   ],
   "source": [
    "# 조합으로 풀기(답...)\n",
    "from itertools import combinations\n",
    "import sys\n",
    "\n",
    "input = sys.stdin.readline\n",
    "n,m = map(int, input().split(\" \"))\n",
    "chicken = [[int(i) for i in input().split(\" \")] for _ in range(n)]\n",
    "result = 99999999\n",
    "two = []\n",
    "one = []\n",
    "\n",
    "# 치킨집과 집 선별 코드\n",
    "for row in range(n):\n",
    "    for col in range(n):\n",
    "        if chicken[row][col] ==1:\n",
    "            one.append((row, col))\n",
    "        elif  chicken[row][col] == 2:\n",
    "            two.append((row, col))\n",
    "\n",
    "for visited in combinations(two,m):\n",
    "    answer = 0\n",
    "    for home in one:\n",
    "        update_len = 99999999\n",
    "        for chi in visited:\n",
    "            length = abs(home[0] - chi[0]) + abs(home[1] - chi[1])\n",
    "            update_len = min(length, update_len)\n",
    "        answer+=update_len\n",
    "    result = min(result, answer)\n",
    "print(result)"
   ]
  },
  {
   "cell_type": "code",
   "execution_count": null,
   "metadata": {},
   "outputs": [],
   "source": []
  },
  {
   "cell_type": "code",
   "execution_count": null,
   "metadata": {},
   "outputs": [],
   "source": []
  },
  {
   "cell_type": "code",
   "execution_count": null,
   "metadata": {},
   "outputs": [],
   "source": []
  },
  {
   "cell_type": "code",
   "execution_count": null,
   "metadata": {},
   "outputs": [],
   "source": []
  },
  {
   "cell_type": "code",
   "execution_count": null,
   "metadata": {},
   "outputs": [],
   "source": []
  },
  {
   "cell_type": "code",
   "execution_count": null,
   "metadata": {},
   "outputs": [],
   "source": []
  },
  {
   "cell_type": "code",
   "execution_count": null,
   "metadata": {},
   "outputs": [],
   "source": []
  },
  {
   "cell_type": "code",
   "execution_count": null,
   "metadata": {},
   "outputs": [],
   "source": []
  }
 ],
 "metadata": {
  "kernelspec": {
   "display_name": "Python 3",
   "language": "python",
   "name": "python3"
  },
  "language_info": {
   "codemirror_mode": {
    "name": "ipython",
    "version": 3
   },
   "file_extension": ".py",
   "mimetype": "text/x-python",
   "name": "python",
   "nbconvert_exporter": "python",
   "pygments_lexer": "ipython3",
   "version": "3.8.3"
  },
  "toc": {
   "base_numbering": 1,
   "nav_menu": {},
   "number_sections": true,
   "sideBar": true,
   "skip_h1_title": false,
   "title_cell": "Table of Contents",
   "title_sidebar": "Contents",
   "toc_cell": false,
   "toc_position": {},
   "toc_section_display": true,
   "toc_window_display": false
  }
 },
 "nbformat": 4,
 "nbformat_minor": 4
}
