{
 "cells": [
  {
   "cell_type": "markdown",
   "id": "e0a89bbb",
   "metadata": {},
   "source": [
    "# 15903 : 카드 합체 놀이"
   ]
  },
  {
   "cell_type": "markdown",
   "id": "2d85703f",
   "metadata": {},
   "source": [
    "- 문제 링크 : https://www.acmicpc.net/problem/15903\n",
    "- 난이도 : 실버1\n",
    "- 시간 제한 : 1초\n",
    "- 메모리 제한 : 512MB"
   ]
  },
  {
   "cell_type": "code",
   "execution_count": null,
   "id": "73b8ae0a",
   "metadata": {},
   "outputs": [],
   "source": [
    "# 힙으로 풀기\n",
    "from collections import deque\n",
    "from heapq import heapify, heappop, heappush\n",
    "import sys\n",
    "\n",
    "input = sys.stdin.readline\n",
    "\n",
    "n, m = map(int, input().split(\" \"))\n",
    "lst = [int(i) for i in input().split(\" \")]\n",
    "\n",
    "\n",
    "heapify(lst)\n",
    "\n",
    "min_lst = []\n",
    "stack = []\n",
    "\n",
    "for _ in range(m):\n",
    "    # 두 카드를 합체\n",
    "    while len(min_lst)<2:\n",
    "        min_lst.append(heappop(lst))\n",
    "    sum_min_lst = sum(min_lst)\n",
    "    min_lst[0] = sum_min_lst\n",
    "    min_lst[1] = sum_min_lst\n",
    "\n",
    "    heappush(lst, min_lst.pop())\n",
    "    heappush(lst, min_lst.pop())\n",
    "            # print(lst)\n",
    "    \n",
    "print(sum(lst))"
   ]
  },
  {
   "cell_type": "code",
   "execution_count": null,
   "id": "51dc6d30",
   "metadata": {},
   "outputs": [],
   "source": [
    "# 다른 풀이\n",
    "import sys\n",
    "\n",
    "input  = sys.stdin.readline\n",
    "n, m = map(int, input().split(\" \"))\n",
    "lst = [int(i) for i in input().split(\" \")]\n",
    "\n",
    "for _ in range(m):\n",
    "    lst.sort()\n",
    "    min_lst_sum = lst[0] + lst[1]\n",
    "    lst[1] = min_lst_sum\n",
    "    lst[0] = min_lst_sum\n",
    "\n",
    "print(sum(lst))"
   ]
  },
  {
   "cell_type": "markdown",
   "id": "c8d4504b",
   "metadata": {},
   "source": [
    "# 1874 : 스택 수열"
   ]
  },
  {
   "cell_type": "markdown",
   "id": "e1d1f639",
   "metadata": {},
   "source": [
    "- 문제 링크 : https://www.acmicpc.net/problem/1874\n",
    "- 난이도 : 실버2\n",
    "- 시간제한 : 2초\n",
    "- 메모리 제한 : 128MB"
   ]
  },
  {
   "cell_type": "code",
   "execution_count": null,
   "id": "de3a537f",
   "metadata": {},
   "outputs": [],
   "source": [
    "from collections import deque\n",
    "import sys \n",
    "\n",
    "input = sys.stdin.readline\n",
    "\n",
    "# 입력\n",
    "n = int(input())\n",
    "answer = [int(input()) for _ in range(n)]\n",
    "\n",
    "# sequence\n",
    "seq = deque(list(range(1,n+1)))\n",
    "\n",
    "stack = [seq.popleft()]\n",
    "ispossible = True\n",
    "real_answer = [\"+\"]\n",
    "for idx in range(len(answer)):\n",
    "    while True:\n",
    "        if stack and stack[-1] == answer[idx]:\n",
    "            stack.pop()\n",
    "            real_answer.append(\"-\")\n",
    "            # print(\"pop\")\n",
    "            # print(stack)\n",
    "            break\n",
    "        elif len(seq)==0 and stack[-1] != answer[idx]:\n",
    "            ispossible = False\n",
    "            # print(\"NO\")\n",
    "            real_answer=[\"NO\"]\n",
    "            break\n",
    "\n",
    "        elif not stack or stack[-1]!=answer[idx]:\n",
    "            stack.append(seq.popleft())\n",
    "            real_answer.append(\"+\")\n",
    "            # print(\"push\")\n",
    "            # print(stack)\n",
    "        \n",
    "    if not ispossible :\n",
    "        break\n",
    "    \n",
    "# 답 출력\n",
    "for i in real_answer:\n",
    "    print(i)\n"
   ]
  },
  {
   "cell_type": "code",
   "execution_count": 1,
   "id": "ff1224aa",
   "metadata": {},
   "outputs": [
    {
     "data": {
      "text/plain": [
       "1500000000"
      ]
     },
     "execution_count": 1,
     "metadata": {},
     "output_type": "execute_result"
    }
   ],
   "source": [
    "15000*100000"
   ]
  },
  {
   "cell_type": "markdown",
   "id": "93edcd3c",
   "metadata": {},
   "source": [
    "# 17073 : 나무 위의 빗물"
   ]
  },
  {
   "cell_type": "markdown",
   "id": "8abaeec9",
   "metadata": {},
   "source": [
    "- 문제 링크 : https://www.acmicpc.net/problem/17073\n",
    "- 난이도 : 골드5\n",
    "- 시간 제한 : 1초\n",
    "- 메모리 제한 : 512MB"
   ]
  },
  {
   "cell_type": "code",
   "execution_count": 31,
   "id": "306a8c25",
   "metadata": {},
   "outputs": [
    {
     "name": "stdout",
     "output_type": "stream",
     "text": [
      "5 20\n",
      "5 3\n",
      "3 4\n",
      "2 1\n",
      "1 3\n",
      "6.6666666667\n"
     ]
    }
   ],
   "source": [
    "# 답!\n",
    "from collections import deque, defaultdict\n",
    "import sys\n",
    "\n",
    "# input = sys.stdin.readline.split()\n",
    "\n",
    "\n",
    "node = defaultdict(list)\n",
    "n, water = map(int, input().split(\" \"))\n",
    "\n",
    "for _ in range(n-1):\n",
    "    x,y = map(int, input().split(\" \"))\n",
    "    # if x not in y를 해버리면 시간 복잡도에 의해서(O(N)) 시간초과가 발생함\n",
    "    node[x].append(y)\n",
    "    node[y].append(x)\n",
    "        \n",
    "# noderk \n",
    "answer = 0\n",
    "for i in range(1, n+1):\n",
    "    if i!=1 and len(node[i])==1:\n",
    "        answer+=1\n",
    "        \n",
    "print(round(water/answer, 10))"
   ]
  },
  {
   "cell_type": "code",
   "execution_count": 15,
   "id": "a3ea31b7",
   "metadata": {},
   "outputs": [],
   "source": [
    "node = defaultdict(list)"
   ]
  },
  {
   "cell_type": "code",
   "execution_count": 16,
   "id": "ca21ed83",
   "metadata": {},
   "outputs": [
    {
     "name": "stdout",
     "output_type": "stream",
     "text": [
      "5 20\n"
     ]
    }
   ],
   "source": [
    "n, water = map(int, input().split(\" \"))"
   ]
  },
  {
   "cell_type": "code",
   "execution_count": 17,
   "id": "74cebf70",
   "metadata": {},
   "outputs": [
    {
     "data": {
      "text/plain": [
       "5"
      ]
     },
     "execution_count": 17,
     "metadata": {},
     "output_type": "execute_result"
    }
   ],
   "source": [
    "n"
   ]
  },
  {
   "cell_type": "code",
   "execution_count": 18,
   "id": "2b28857d",
   "metadata": {},
   "outputs": [
    {
     "name": "stdout",
     "output_type": "stream",
     "text": [
      "5 3\n",
      "3 4\n",
      "2 1\n",
      "1 3\n"
     ]
    }
   ],
   "source": [
    "for _ in range(n-1):\n",
    "    x,y = map(int, input().split(\" \"))\n",
    "    if not y in node[x]:\n",
    "        node[x].append(y)\n",
    "    if not x in node[y]:\n",
    "        node[y].append(x)"
   ]
  },
  {
   "cell_type": "code",
   "execution_count": 19,
   "id": "4f4dd6a6",
   "metadata": {},
   "outputs": [
    {
     "data": {
      "text/plain": [
       "defaultdict(list, {5: [3], 3: [5, 4, 1], 4: [3], 2: [1], 1: [2, 3]})"
      ]
     },
     "execution_count": 19,
     "metadata": {},
     "output_type": "execute_result"
    }
   ],
   "source": [
    "node"
   ]
  },
  {
   "cell_type": "code",
   "execution_count": 27,
   "id": "c60fb5e7",
   "metadata": {},
   "outputs": [],
   "source": [
    "answer = 0\n",
    "for i in range(1, n+1):\n",
    "    if len(node[i])==1:\n",
    "        answer+=1"
   ]
  },
  {
   "cell_type": "code",
   "execution_count": 28,
   "id": "c4cb2e34",
   "metadata": {},
   "outputs": [
    {
     "data": {
      "text/plain": [
       "3"
      ]
     },
     "execution_count": 28,
     "metadata": {},
     "output_type": "execute_result"
    }
   ],
   "source": [
    "answer"
   ]
  },
  {
   "cell_type": "code",
   "execution_count": 29,
   "id": "baa87ee4",
   "metadata": {},
   "outputs": [
    {
     "data": {
      "text/plain": [
       "6.666666666666667"
      ]
     },
     "execution_count": 29,
     "metadata": {},
     "output_type": "execute_result"
    }
   ],
   "source": [
    "water/answer"
   ]
  },
  {
   "cell_type": "code",
   "execution_count": 21,
   "id": "b88d6e91",
   "metadata": {},
   "outputs": [],
   "source": [
    "q = deque([1])\n",
    "visited = []\n",
    "answer = []"
   ]
  },
  {
   "cell_type": "code",
   "execution_count": null,
   "id": "6c28c522",
   "metadata": {},
   "outputs": [],
   "source": [
    "while q:\n",
    "    x = q.popleft()\n",
    "    for i in node[x]:\n",
    "        if i in visited:\n",
    "            answer.append(i)\n",
    "        else:\n",
    "            visited.append(i)"
   ]
  },
  {
   "cell_type": "code",
   "execution_count": null,
   "id": "d3c2fcc2",
   "metadata": {},
   "outputs": [],
   "source": []
  },
  {
   "cell_type": "code",
   "execution_count": null,
   "id": "048ad958",
   "metadata": {},
   "outputs": [],
   "source": []
  },
  {
   "cell_type": "code",
   "execution_count": null,
   "id": "18f660fa",
   "metadata": {},
   "outputs": [],
   "source": []
  },
  {
   "cell_type": "code",
   "execution_count": null,
   "id": "c4fb97a4",
   "metadata": {},
   "outputs": [],
   "source": []
  },
  {
   "cell_type": "code",
   "execution_count": null,
   "id": "34d34b7c",
   "metadata": {},
   "outputs": [],
   "source": []
  },
  {
   "cell_type": "code",
   "execution_count": null,
   "id": "09e389f1",
   "metadata": {},
   "outputs": [],
   "source": []
  },
  {
   "cell_type": "code",
   "execution_count": null,
   "id": "87955cb4",
   "metadata": {},
   "outputs": [],
   "source": []
  },
  {
   "cell_type": "code",
   "execution_count": null,
   "id": "368fd393",
   "metadata": {},
   "outputs": [],
   "source": []
  },
  {
   "cell_type": "code",
   "execution_count": null,
   "id": "6a34e054",
   "metadata": {},
   "outputs": [],
   "source": []
  },
  {
   "cell_type": "code",
   "execution_count": null,
   "id": "48270786",
   "metadata": {},
   "outputs": [],
   "source": []
  },
  {
   "cell_type": "code",
   "execution_count": null,
   "id": "90b2bbb0",
   "metadata": {},
   "outputs": [],
   "source": []
  },
  {
   "cell_type": "code",
   "execution_count": null,
   "id": "539f37d2",
   "metadata": {},
   "outputs": [],
   "source": []
  }
 ],
 "metadata": {
  "kernelspec": {
   "display_name": "Python 3 (ipykernel)",
   "language": "python",
   "name": "python3"
  },
  "language_info": {
   "codemirror_mode": {
    "name": "ipython",
    "version": 3
   },
   "file_extension": ".py",
   "mimetype": "text/x-python",
   "name": "python",
   "nbconvert_exporter": "python",
   "pygments_lexer": "ipython3",
   "version": "3.11.5"
  }
 },
 "nbformat": 4,
 "nbformat_minor": 5
}
