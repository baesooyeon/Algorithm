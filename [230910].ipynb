{
 "cells": [
  {
   "cell_type": "markdown",
   "metadata": {},
   "source": [
    "# 코딩테스트 : 피로도"
   ]
  },
  {
   "cell_type": "markdown",
   "metadata": {},
   "source": [
    "- 문제 링크 : https://school.programmers.co.kr/learn/courses/30/lessons/87946\n",
    "- 난이도 : Level2\n",
    "- 문제 분류 : 완전탐색"
   ]
  },
  {
   "cell_type": "code",
   "execution_count": 19,
   "metadata": {},
   "outputs": [
    {
     "data": {
      "text/plain": [
       "40320"
      ]
     },
     "execution_count": 19,
     "metadata": {},
     "output_type": "execute_result"
    }
   ],
   "source": [
    "8*7*6*5*4*3*2*1"
   ]
  },
  {
   "cell_type": "code",
   "execution_count": 20,
   "metadata": {},
   "outputs": [],
   "source": [
    "from itertools import permutations\n",
    "def solution(k, dungeons):\n",
    "    update = 0\n",
    "    for i in permutations(dungeons, len(dungeons)):\n",
    "        tired = k\n",
    "        result = 0\n",
    "        for j in i:\n",
    "            if tired>=j[0]:\n",
    "                tired -= j[1]\n",
    "                result +=1\n",
    "        update = max(result, update)\n",
    "    return update"
   ]
  },
  {
   "cell_type": "code",
   "execution_count": 21,
   "metadata": {},
   "outputs": [
    {
     "ename": "NameError",
     "evalue": "name 'k' is not defined",
     "output_type": "error",
     "traceback": [
      "\u001b[1;31m---------------------------------------------------------------------------\u001b[0m",
      "\u001b[1;31mNameError\u001b[0m                                 Traceback (most recent call last)",
      "\u001b[1;32m<ipython-input-21-a9bde46b5d9f>\u001b[0m in \u001b[0;36m<module>\u001b[1;34m\u001b[0m\n\u001b[1;32m----> 1\u001b[1;33m \u001b[0msolution\u001b[0m\u001b[1;33m(\u001b[0m\u001b[0mk\u001b[0m\u001b[1;33m,\u001b[0m \u001b[0mdungeons\u001b[0m\u001b[1;33m)\u001b[0m\u001b[1;33m\u001b[0m\u001b[1;33m\u001b[0m\u001b[0m\n\u001b[0m",
      "\u001b[1;31mNameError\u001b[0m: name 'k' is not defined"
     ]
    }
   ],
   "source": [
    "solution(k, dungeons)"
   ]
  },
  {
   "cell_type": "markdown",
   "metadata": {},
   "source": [
    "# 프로그래머스 : 교점에 별 만들기"
   ]
  },
  {
   "cell_type": "code",
   "execution_count": null,
   "metadata": {},
   "outputs": [],
   "source": [
    "### 해야하는 것\n",
    "# x,y 좌표 추출\n",
    "# 점 찍기"
   ]
  },
  {
   "cell_type": "code",
   "execution_count": null,
   "metadata": {},
   "outputs": [],
   "source": [
    "## 답\n",
    "def solution(line):\n",
    "    coord = []\n",
    "\n",
    "    for idx1 in range(len(line)):\n",
    "        for idx2 in range(idx1+1, len(line)):\n",
    "            a, b, e = line[idx1][0], line[idx1][1], line[idx1][2]\n",
    "            c, d, f = line[idx2][0], line[idx2][1], line[idx2][2]\n",
    "            if (a*d-b*c!=0) and (b*f - e*d)%(a*d-b*c)==0 and (e*c - a*f)%(a*d - b*c)==0:\n",
    "                x= (b*f - e*d)//(a*d-b*c)\n",
    "                y = (e*c - a*f)//(a*d - b*c)\n",
    "                \n",
    "                coord.append([x,y])\n",
    "\n",
    "\n",
    "                # 좌표의 최대 최소값을 구하는게 문제였음(idx1 = 0. idx2=1에 좌표에 들어가는 값이 없을 수도 있음!!)\n",
    "                coord_x = [i[0] for i in coord]\n",
    "                coord_y = [i[1] for i in coord]\n",
    "               \n",
    "                \n",
    "                x_update_max = max(coord_x)\n",
    "                x_update_min = min(coord_x)\n",
    "                y_update_max = max(coord_y)\n",
    "                y_update_min = min(coord_y)\n",
    "\n",
    "    # 좌표 고치기\n",
    "    new_point = []\n",
    "    for point in coord:\n",
    "        x = point[0]\n",
    "        y = point[1]\n",
    "\n",
    "        # x-x_update_min중요!\n",
    "        newx = abs(x-x_update_min)\n",
    "        newy = abs(y-y_update_max)\n",
    "        new_point.append([newy, newx])\n",
    "\n",
    "    answer = []\n",
    "    for row in range(abs(y_update_max - y_update_min)+1):\n",
    "        a = \"\"\n",
    "        for col in range(abs(x_update_max - x_update_min)+1):\n",
    "            if [row,col] in new_point:\n",
    "                a+=\"*\"\n",
    "            else:\n",
    "                a+=\".\"\n",
    "        answer.append(a)\n",
    "    return answer"
   ]
  },
  {
   "cell_type": "markdown",
   "metadata": {},
   "source": [
    "# 프로그래머스 : 타겟 넘버"
   ]
  },
  {
   "cell_type": "markdown",
   "metadata": {},
   "source": [
    "- 문제 링크 : https://school.programmers.co.kr/learn/courses/30/lessons/43165\n",
    "- 난이도 : Lv2"
   ]
  },
  {
   "cell_type": "code",
   "execution_count": 7,
   "metadata": {},
   "outputs": [
    {
     "data": {
      "text/plain": [
       "2"
      ]
     },
     "execution_count": 7,
     "metadata": {},
     "output_type": "execute_result"
    }
   ],
   "source": [
    "def solution(numbers, target):\n",
    "    answer = 0\n",
    "    leaves = [0]\n",
    "\n",
    "    for i in numbers:\n",
    "        tmp = []\n",
    "        for j in leaves:\n",
    "            tmp.append(j+i)\n",
    "            tmp.append(j-i)\n",
    "        leaves = tmp\n",
    "\n",
    "    # target 찾기\n",
    "    for x in leaves:   \n",
    "        if x==target:\n",
    "            answer+=1\n",
    "    return answer\n",
    "\n",
    "numbers = [4,1,2,1]\n",
    "target = 4\n",
    "\n",
    "solution(numbers, target)"
   ]
  },
  {
   "cell_type": "code",
   "execution_count": 2,
   "metadata": {},
   "outputs": [],
   "source": [
    "# 시간 초과\n",
    "from collections import deque\n",
    "\n",
    "\n",
    "def solution(numbers, target):\n",
    "    anwer = 0\n",
    "    numbers= deque(numbers)\n",
    "\n",
    "    num_dict = {}\n",
    "    for i in range(len(numbers)):\n",
    "        num_dict[i] = deque()\n",
    "\n",
    "    num_dict[0].append(-numbers[0])\n",
    "    num_dict[0].append(numbers[0])\n",
    "\n",
    "    for i in range(len(numbers)-1):\n",
    "        if i == len(numbers)-2:\n",
    "\n",
    "            while num_dict[i]:\n",
    "                x = num_dict[i].popleft()\n",
    "                for j in [\"+\",\"-\"]:\n",
    "                    nx = int(eval(str(x)+j+str(numbers[i+1])))\n",
    "                    if nx == target:\n",
    "                        num_dict[i+1].append(nx)\n",
    "            \n",
    "        else:\n",
    "            while num_dict[i]:\n",
    "                x = num_dict[i].popleft()\n",
    "                for j in [\"+\",\"-\"]:\n",
    "                    nx = int(eval(str(x)+j+str(numbers[i+1])))\n",
    "                    num_dict[i+1].append(nx)\n",
    "\n",
    "    return len(num_dict[len(numbers)-1])"
   ]
  },
  {
   "cell_type": "markdown",
   "metadata": {},
   "source": [
    "# 프로그래머스 : 3XN 타일링"
   ]
  },
  {
   "cell_type": "markdown",
   "metadata": {},
   "source": [
    "- 문제 링크 : https://school.programmers.co.kr/learn/courses/30/lessons/12902"
   ]
  },
  {
   "cell_type": "code",
   "execution_count": 29,
   "metadata": {},
   "outputs": [],
   "source": [
    "# 답\n",
    "def solution(n):\n",
    "    dp = [0]*5001\n",
    "    dp[2] = 3\n",
    "    for i in range(4,5002,2):\n",
    "        answer = 3*dp[i-2]+sum(2*dp[:i-3])+2\n",
    "        dp[i] = answer\n",
    "    \n",
    "    return dp[n]%1000000007\n"
   ]
  },
  {
   "cell_type": "markdown",
   "metadata": {},
   "source": [
    "# 3190 : 뱀"
   ]
  },
  {
   "cell_type": "markdown",
   "metadata": {},
   "source": [
    "- 문제 링크 : https://www.acmicpc.net/problem/3190\n",
    "- 난이도 : 골드 4\n",
    "- 시간 제한 : 1초\n",
    "- 메모리 제한 : 128MB"
   ]
  },
  {
   "cell_type": "code",
   "execution_count": 97,
   "metadata": {},
   "outputs": [
    {
     "name": "stdout",
     "output_type": "stream",
     "text": [
      "deque([[0, 0], [0, 1]])\n",
      "deque([[0, 0], [0, 1], [0, 2]])\n",
      "deque([[0, 0], [0, 1], [0, 2], [0, 3]])\n",
      "deque([[0, 0], [0, 1], [0, 2], [0, 3], [0, 4]])\n",
      "deque([[0, 1], [0, 2], [0, 3], [0, 4], [0, 5]])\n",
      "deque([[0, 2], [0, 3], [0, 4], [0, 5], [0, 6]])\n",
      "deque([[0, 3], [0, 4], [0, 5], [0, 6], [0, 7]])\n",
      "deque([[0, 4], [0, 5], [0, 6], [0, 7], [0, 8]])\n",
      "deque([[0, 5], [0, 6], [0, 7], [0, 8], [1, 8]])\n",
      "deque([[0, 6], [0, 7], [0, 8], [1, 8], [2, 8]])\n",
      "deque([[0, 7], [0, 8], [1, 8], [2, 8], [2, 7]])\n",
      "deque([[0, 8], [1, 8], [2, 8], [2, 7], [1, 7]])\n",
      "deque([[1, 8], [2, 8], [2, 7], [1, 7], [0, 7]])\n",
      "deque([[2, 8], [2, 7], [1, 7], [0, 7], [0, 6]])\n",
      "deque([[2, 7], [1, 7], [0, 7], [0, 6], [0, 5]])\n",
      "deque([[1, 7], [0, 7], [0, 6], [0, 5], [0, 4]])\n",
      "deque([[0, 7], [0, 6], [0, 5], [0, 4], [0, 3]])\n",
      "deque([[0, 6], [0, 5], [0, 4], [0, 3], [0, 2]])\n",
      "deque([[0, 5], [0, 4], [0, 3], [0, 2], [0, 1]])\n",
      "deque([[0, 4], [0, 3], [0, 2], [0, 1], [0, 0]])\n",
      "21\n"
     ]
    }
   ],
   "source": [
    "# 답 참고\n",
    "from collections import deque\n",
    "\n",
    "\n",
    "def change(d, c):\n",
    "    # 상(0) 우(1) 하(2) 좌(3)\n",
    "    # 동쪽 회전: 상(0) -> 우(1) -> 하(2) -> 좌(3) -> 상(0) : +1 방향\n",
    "    # 왼쪽 회전: 상(0) -> 좌(3) -> 하(2) -> 우(1) -> 상(0) : -1 방향\n",
    "    if c == \"L\":\n",
    "        d = (d - 1) % 4\n",
    "    else:\n",
    "        d = (d + 1) % 4\n",
    "    return d\n",
    "\n",
    "\n",
    "# 상 우 하 좌\n",
    "dy = [-1, 0, 1, 0]\n",
    "dx = [0, 1, 0, -1]\n",
    "\n",
    "\n",
    "def start():\n",
    "    direction = 1  # 초기 방향\n",
    "    time = 1  # 시간\n",
    "    y, x = 0, 0  # 초기 뱀 위치\n",
    "    visited = deque([[y, x]])  # 방문 위치\n",
    "    arr[y][x] = 2\n",
    "    while True:\n",
    "        y, x = y + dy[direction], x + dx[direction]\n",
    "        if 0 <= y < N and 0 <= x < N and arr[y][x] != 2:\n",
    "            if not arr[y][x] == 1:  # 사과가 없는 경우\n",
    "                temp_y, temp_x = visited.popleft()\n",
    "                arr[temp_y][temp_x] = 0  # 꼬리 제거\n",
    "            arr[y][x] = 2\n",
    "            visited.append([y, x])\n",
    "            if time in times.keys():\n",
    "                direction = change(direction, times[time])\n",
    "            time += 1\n",
    "            print(visited)\n",
    "        else:  # 본인 몸에 부딪히거나, 벽에 부딪힌 경우\n",
    "            return time\n",
    "\n",
    "\n",
    "if __name__ == \"__main__\":\n",
    "\n",
    "    # input\n",
    "    N = int(input())\n",
    "    K = int(input())\n",
    "    arr = [[0] * N for _ in range(N)]\n",
    "    for _ in range(K):\n",
    "        a, b = map(int, input().split())\n",
    "        arr[a - 1][b - 1] = 1  # 사과 저장\n",
    "    L = int(input())\n",
    "    times = {}\n",
    "    for i in range(L):\n",
    "        X, C = input().split()\n",
    "        times[int(X)] = C\n",
    "    print(start())"
   ]
  },
  {
   "cell_type": "code",
   "execution_count": 112,
   "metadata": {},
   "outputs": [
    {
     "name": "stdout",
     "output_type": "stream",
     "text": [
      "19\n"
     ]
    }
   ],
   "source": [
    "# 풀다가 실패함\n",
    "n = int(input())\n",
    "apple_n = int(input())\n",
    "apple = [[i for i in map(int, input().split(\" \"))] for _ in range(apple_n)]\n",
    "\n",
    "shift_n = int(input())\n",
    "shift = {}\n",
    "for _ in range(shift_n):\n",
    "    x = input().split(\" \")\n",
    "    shift[int(x[0])] =x[1]\n",
    "\n",
    "apples = [[0 for i in range(n)] for _ in range(n)]\n",
    "for i in apple:\n",
    "    x = i[0]-1\n",
    "    y = i[1]-1\n",
    "\n",
    "    apples[x][y] = 1\n",
    "\n",
    "from collections import deque\n",
    "second = 1\n",
    "status = \"right\"\n",
    "row = 0\n",
    "col = 0\n",
    "tail = deque([[0,0]])\n",
    "\n",
    "\n",
    "while True:\n",
    "    \n",
    "    ## 방향 전환\n",
    "    if second in shift.keys():\n",
    "        direct = shift[second]\n",
    "\n",
    "        # 왼쪽 방향 전환인 경우\n",
    "        if direct == \"L\":\n",
    "            if status ==\"right\":\n",
    "                new_row = row-1\n",
    "                new_col = col\n",
    "                status = \"up\"\n",
    "\n",
    "            elif status == \"down\":\n",
    "                new_col = col+1\n",
    "                new_row = row\n",
    "                status = \"right\"\n",
    "\n",
    "            elif status == \"up\":\n",
    "                new_col = col-1\n",
    "                new_row = row\n",
    "                status = \"left\"\n",
    "\n",
    "            else:\n",
    "                new_row = row+1\n",
    "                new_col = col\n",
    "                status = \"down\"\n",
    "\n",
    "        # 오른쪽 방향 전환인 경우\n",
    "        else:\n",
    "            if status ==\"right\":\n",
    "                new_row = row+1\n",
    "                new_col = col\n",
    "                status = \"down\"\n",
    "\n",
    "            elif status == \"down\":\n",
    "                new_col = col-1\n",
    "                new_row = row\n",
    "                status = \"left\"\n",
    "\n",
    "            elif status == \"up\":\n",
    "                new_col = col+1\n",
    "                new_row = row\n",
    "                status = \"right\"\n",
    "\n",
    "            else:\n",
    "                new_row = row-1\n",
    "                new_col =col\n",
    "                status = \"up\"\n",
    "    \n",
    "    # 만약 방향 전환이 아니라면\n",
    "    else:\n",
    "\n",
    "        if status ==\"right\":\n",
    "            new_col = col+1\n",
    "            new_row = row\n",
    "\n",
    "        elif status == \"down\":\n",
    "            new_row = row+1\n",
    "            new_col =col\n",
    "\n",
    "        elif status == \"up\":\n",
    "            new_row = row-1\n",
    "            new_col = col\n",
    "\n",
    "        else:\n",
    "            new_col = col-1\n",
    "            new_row =row\n",
    "\n",
    "\n",
    "    if 0> new_row or new_row>=n or  0> new_col or new_col>=n:\n",
    "        break\n",
    "\n",
    "\n",
    "    \n",
    "    \n",
    "\n",
    "    # 사과가 없다면\n",
    "    if [new_row+1, new_col+1]  not in apple:\n",
    "        tail.popleft()\n",
    "    else:\n",
    "        apple.remove([new_row+1, new_col+1])\n",
    "\n",
    "    # 머리와 몸이 만난다면\n",
    "    if [new_row, new_col] in tail:\n",
    "        print(\" 끝남 : \", tail , [new_row, new_col])\n",
    "        break\n",
    "\n",
    "    tail.append([new_row, new_col])\n",
    "\n",
    "    # 업데이트\n",
    "    row = new_row\n",
    "    col = new_col\n",
    "    second +=1\n",
    "\n",
    "print(second)\n"
   ]
  },
  {
   "cell_type": "markdown",
   "metadata": {},
   "source": [
    "# 14499 : 주사위 돌리기"
   ]
  },
  {
   "cell_type": "markdown",
   "metadata": {},
   "source": [
    "- 문제 링크 : https://www.acmicpc.net/problem/14499\n",
    "- 난이도 : 골드4\n",
    "- 시간 제한 : 2초\n",
    "- 메모리 제한 : 512MB"
   ]
  },
  {
   "cell_type": "code",
   "execution_count": null,
   "metadata": {},
   "outputs": [],
   "source": [
    "# 답 참고\n",
    "n, m, x, y, k = map(int, input().split())\n",
    "\n",
    "board = []\n",
    "dx = [0, 0, -1, 1]\n",
    "dy = [1, -1, 0, 0]\n",
    "dice = [0, 0, 0, 0, 0, 0]\n",
    "\n",
    "def turn(dir):\n",
    "    a, b, c, d, e, f = dice[0], dice[1], dice[2], dice[3], dice[4], dice[5]\n",
    "    if dir == 1: #동\n",
    "        dice[0], dice[1], dice[2], dice[3], dice[4], dice[5] = d, b, a, f, e, c\n",
    "\n",
    "    elif dir == 2: #서\n",
    "        dice[0], dice[1], dice[2], dice[3], dice[4], dice[5] = c, b, f, a, e, d\n",
    "\n",
    "    elif dir == 3: #북\n",
    "        dice[0], dice[1], dice[2], dice[3], dice[4], dice[5] = e, a, c, d, f, b\n",
    "\n",
    "    else:\n",
    "        dice[0], dice[1], dice[2], dice[3], dice[4], dice[5] = b, f, c, d, a, e\n",
    "\n",
    "for i in range(n):\n",
    "    board.append(list(map(int, input().split())))\n",
    "\n",
    "comm = list(map(int, input().split()))\n",
    "\n",
    "nx, ny = x, y\n",
    "for i in comm:\n",
    "    nx += dx[i-1]\n",
    "    ny += dy[i-1]\n",
    "\n",
    "    if nx < 0 or nx >= n or ny < 0 or ny >= m:\n",
    "        nx -= dx[i-1]\n",
    "        ny -= dy[i-1]\n",
    "        continue\n",
    "    turn(i)\n",
    "    if board[nx][ny] == 0:\n",
    "        board[nx][ny] = dice[-1]\n",
    "    else:\n",
    "        dice[-1] = board[nx][ny]\n",
    "        board[nx][ny] = 0\n",
    "\n",
    "    print(dice[0])"
   ]
  }
 ],
 "metadata": {
  "kernelspec": {
   "display_name": "base",
   "language": "python",
   "name": "python3"
  },
  "language_info": {
   "codemirror_mode": {
    "name": "ipython",
    "version": 3
   },
   "file_extension": ".py",
   "mimetype": "text/x-python",
   "name": "python",
   "nbconvert_exporter": "python",
   "pygments_lexer": "ipython3",
   "version": "3.8.3"
  },
  "orig_nbformat": 4
 },
 "nbformat": 4,
 "nbformat_minor": 2
}
