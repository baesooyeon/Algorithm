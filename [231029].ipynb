{
 "cells": [
  {
   "cell_type": "markdown",
   "metadata": {},
   "source": [
    "# 14889 : 스타트와 링크"
   ]
  },
  {
   "cell_type": "markdown",
   "metadata": {},
   "source": [
    "- 문제 링크 : https://www.acmicpc.net/problem/14889\n",
    "- 난이도 : 실버1\n",
    "- 시간 제한 : 2초\n",
    "- 메모리 제한 : 512MB"
   ]
  },
  {
   "cell_type": "code",
   "execution_count": 1,
   "metadata": {},
   "outputs": [
    {
     "name": "stdout",
     "output_type": "stream",
     "text": [
      "1\n"
     ]
    }
   ],
   "source": [
    "# 답(완전탐색으로 품)\n",
    "import sys\n",
    "\n",
    "input = sys.stdin.readline\n",
    "\n",
    "\n",
    "n = int(input())\n",
    "team = list(range(n))\n",
    "score = [[int(i) for i in input().split()] for _ in range(n)]\n",
    "\n",
    "# 경우의 수수\n",
    "from itertools import combinations\n",
    "cases = []\n",
    "for i in combinations(team, len(team)//2):\n",
    "    team_star = list(set(team) - set(i))\n",
    "    team_link = list(i)\n",
    "    cases.append([team_star, team_link])\n",
    "\n",
    "min_gap = 1000\n",
    "\n",
    "for case in cases:\n",
    "    star = case[0]\n",
    "    link = case[1]\n",
    "\n",
    "    # star의 점수 합을 구한다.\n",
    "    star_score = 0\n",
    "    for star_idx in range(len(star)):\n",
    "        for star_idx2 in range(star_idx, len(star)):\n",
    "            if star_idx !=star_idx2:\n",
    "                star_score+=(score[star[star_idx]][star[star_idx2]]+score[star[star_idx2]][star[star_idx]])\n",
    "\n",
    "    # link의 점수 합을 구한다.\n",
    "    link_score = 0\n",
    "    for star_idx in range(len(link)):\n",
    "        for star_idx2 in range(star_idx, len(link)):\n",
    "            if star_idx !=star_idx2:\n",
    "                link_score+=(score[link[star_idx]][link[star_idx2]]+score[link[star_idx2]][link[star_idx]])\n",
    "\n",
    "\n",
    "    gap = abs(star_score-link_score)\n",
    "    min_gap = min(gap, min_gap)\n",
    "\n",
    "print(min_gap)"
   ]
  },
  {
   "cell_type": "code",
   "execution_count": 2,
   "metadata": {},
   "outputs": [],
   "source": [
    "### 백트래킹으로 한번 더 풀기... "
   ]
  },
  {
   "cell_type": "markdown",
   "metadata": {},
   "source": [
    "# 프로그래머스 : 주차 요금 계산"
   ]
  },
  {
   "cell_type": "markdown",
   "metadata": {},
   "source": [
    "- 문제 링크 : https://school.programmers.co.kr/learn/courses/30/lessons/92341\n",
    "- 난이도 : Lv.2/58%\n"
   ]
  },
  {
   "cell_type": "code",
   "execution_count": 8,
   "metadata": {},
   "outputs": [],
   "source": [
    "# 답!\n",
    "import math\n",
    "from collections import deque\n",
    "\n",
    "# 시간 차이 계산하는 함수\n",
    "def cal_time(a,b):\n",
    "    max_, min_ = max(a,b), min(a,b)\n",
    "    x = max_.split(\":\")\n",
    "    y = min_.split(\":\")\n",
    "\n",
    "    h_x , m_x = int(x[0]), int(x[1])\n",
    "    h_y, m_y = int(y[0]), int(y[1])\n",
    "\n",
    "    if m_x<m_y:\n",
    "        time = ((h_x-1) -h_y)*60 + (60+m_x-m_y)\n",
    "\n",
    "    else:\n",
    "        time = (h_x-h_y)*60 + (m_x-m_y)\n",
    "    return time\n",
    "\n",
    "\n",
    "def solution(fees, records):\n",
    "    new_rc = [[i for i in j.split(\" \")] for j in records]\n",
    "    new_rc.sort(key = lambda x: [x[1], x[0]])\n",
    "    new_rc = deque(new_rc)\n",
    "\n",
    "    result = []\n",
    "    car_num = \"0\"\n",
    "\n",
    "    while new_rc:\n",
    "        x = new_rc.popleft()\n",
    "        if car_num!=x[1]:\n",
    "            # 차 번호 업데이트\n",
    "            car_num = x[1]\n",
    "            time_ = [x[0]]\n",
    "            car_time=0\n",
    "\n",
    "        else:\n",
    "            if x[2]==\"IN\":\n",
    "                time_.append(x[0])\n",
    "            else:\n",
    "                car_time +=cal_time(time_.pop(), x[0])\n",
    "\n",
    "        \n",
    "\n",
    "        # 시간 정리하기\n",
    "        if (new_rc and car_num!=new_rc[0][1]) or not new_rc:\n",
    "            # 만약 아직 출차하지 못한 차가 있다면?\n",
    "            if time_:\n",
    "                # if car_num!=new_rc[0][1]:\n",
    "                car_time+=cal_time(time_.pop(), \"23:59\")\n",
    "            \n",
    "            # 시간 계산\n",
    "            if car_time>fees[0]:\n",
    "                \n",
    "                fee = fees[1]+(math.ceil((car_time - fees[0])/fees[2]))*fees[3]\n",
    "                result.append(fee)\n",
    "            else:\n",
    "                result.append(fees[1])\n",
    "            \n",
    "    return result"
   ]
  },
  {
   "cell_type": "code",
   "execution_count": 7,
   "metadata": {},
   "outputs": [
    {
     "name": "stdout",
     "output_type": "stream",
     "text": [
      "0000 334 14600\n",
      "0148 670 34400\n"
     ]
    },
    {
     "data": {
      "text/plain": [
       "[14600, 34400, 5000]"
      ]
     },
     "execution_count": 7,
     "metadata": {},
     "output_type": "execute_result"
    }
   ],
   "source": [
    "fees = [180, 5000, 10, 600]\n",
    "records =[\"05:34 5961 IN\", \"06:00 0000 IN\", \"06:34 0000 OUT\", \"07:59 5961 OUT\", \"07:59 0148 IN\", \"18:59 0000 IN\", \"19:09 0148 OUT\", \"22:59 5961 IN\", \"23:00 5961 OUT\"]\n",
    "solution(fees, records)"
   ]
  },
  {
   "cell_type": "markdown",
   "metadata": {},
   "source": [
    "# 프로그래머스 : 혼자서 하는 틱택토"
   ]
  },
  {
   "cell_type": "markdown",
   "metadata": {},
   "source": [
    "- 문제 링크 : https://school.programmers.co.kr/learn/courses/30/lessons/160585\n",
    "- 난이도 : Lv.2/35%"
   ]
  },
  {
   "cell_type": "code",
   "execution_count": 7,
   "metadata": {},
   "outputs": [],
   "source": [
    "board = [\"...\", \"...\", \"...\"]"
   ]
  },
  {
   "cell_type": "code",
   "execution_count": 8,
   "metadata": {},
   "outputs": [
    {
     "data": {
      "text/plain": [
       "1"
      ]
     },
     "execution_count": 8,
     "metadata": {},
     "output_type": "execute_result"
    }
   ],
   "source": [
    "# 답\n",
    "def solution(board):\n",
    "    new_board = [[i for i in j] for j in board]\n",
    "\n",
    "    cnt_o = 0\n",
    "    cnt_x = 0\n",
    "\n",
    "\n",
    "    # 'o' 및 'x'의 개수 카운트\n",
    "    for i in board:\n",
    "        cnt_o+=i.count('O')\n",
    "        cnt_x+= i.count('X')\n",
    "\n",
    "    bingo = [[[0,0], [0,1],[0,2]], [[1,0],[1,1],[1,2]],[[2,0],[2,1],[2,2]],[[0,0],[1,0],[2,0]],\\\n",
    "    [[0,1],[1,1],[2,1]],[[0,2],[1,2],[2,2]],[[0,0],[1,1],[2,2]],[[0,2],[1,1],[2,0]]\n",
    "]\n",
    "\n",
    "    # 완전히 규칙을 어긴 상황\n",
    "    if cnt_x>cnt_o:\n",
    "        return 0\n",
    "\n",
    "    elif cnt_o - cnt_x >=2:\n",
    "        return 0\n",
    "\n",
    "    # 빙고의 경우\n",
    "    # 흰돌의 빙고는 검은 돌이 흰 돌보다 무조건 한개 적어야 한다.(따라서 같거나 많으면 안됨)\n",
    "    elif cnt_o>=3 and cnt_x >=cnt_o:\n",
    "        # 빙고인지 거르기\n",
    "        for i in bingo:\n",
    "            a, b, c = i[0], i[1], i[2]\n",
    "            if board[a[0]][a[1]]==board[b[0]][b[1]]==board[c[0]][c[1]]==\"O\":\n",
    "                return 0\n",
    "\n",
    "    # 검은돌의 빙고는 흰돌과 무조건 같아야 한다.\n",
    "    elif cnt_x>=3 and cnt_o>cnt_x:\n",
    "        # 빙고인지 거르기\n",
    "        for i in bingo:\n",
    "            a, b, c = i[0], i[1], i[2]\n",
    "            if board[a[0]][a[1]]==board[b[0]][b[1]]==board[c[0]][c[1]]==\"X\":\n",
    "                return 0\n",
    "\n",
    "\n",
    "    # 규칙을 아무것도 어기지 않았을 때\n",
    "    return 1\n",
    "\n",
    "# solution(board)"
   ]
  }
 ],
 "metadata": {
  "kernelspec": {
   "display_name": "base",
   "language": "python",
   "name": "python3"
  },
  "language_info": {
   "codemirror_mode": {
    "name": "ipython",
    "version": 3
   },
   "file_extension": ".py",
   "mimetype": "text/x-python",
   "name": "python",
   "nbconvert_exporter": "python",
   "pygments_lexer": "ipython3",
   "version": "3.8.3"
  }
 },
 "nbformat": 4,
 "nbformat_minor": 2
}
