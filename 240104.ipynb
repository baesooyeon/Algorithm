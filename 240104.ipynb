{
 "cells": [
  {
   "cell_type": "markdown",
   "id": "b293f2e0",
   "metadata": {},
   "source": [
    "# 프로그래머스 : 후보키"
   ]
  },
  {
   "cell_type": "markdown",
   "id": "8ff8582b",
   "metadata": {},
   "source": [
    "- 문제 링크 : https://school.programmers.co.kr/learn/courses/30/lessons/42890?language=python3\n",
    "- 난이도 : 40%"
   ]
  },
  {
   "cell_type": "markdown",
   "id": "7c057177",
   "metadata": {},
   "source": [
    "# 프렌즈4블록"
   ]
  },
  {
   "cell_type": "markdown",
   "id": "64068742",
   "metadata": {},
   "source": [
    "- 문제 링크 : https://school.programmers.co.kr/learn/courses/30/lessons/17679\n",
    "- 난이도 : 56%"
   ]
  },
  {
   "cell_type": "code",
   "execution_count": 35,
   "id": "a1b57f9c",
   "metadata": {},
   "outputs": [],
   "source": [
    "m,n = 4,5"
   ]
  },
  {
   "cell_type": "code",
   "execution_count": 36,
   "id": "b11876c6",
   "metadata": {},
   "outputs": [],
   "source": [
    "board = [\"CCBDE\", \"AAADE\", \"AAABF\", \"CCBBF\"]\n",
    "board = [[i for i in j]for j in board]"
   ]
  },
  {
   "cell_type": "code",
   "execution_count": 38,
   "id": "2a93dd91",
   "metadata": {},
   "outputs": [],
   "source": [
    "# 한번 둘러보는 걸로 보자\n",
    "erase = set()\n",
    "for row in range(m):\n",
    "    for col in range(n):\n",
    "        if 0<=row+1<m and 0<=col+1<n:\n",
    "            if board[row][col]==board[row+1][col]==board[row][col+1]==board[row+1][col+1]:\n",
    "                erase.add((row,col))\n",
    "                erase.add((row+1,col))\n",
    "                erase.add((row,col+1))\n",
    "                erase.add((row+1,col+1))"
   ]
  },
  {
   "cell_type": "code",
   "execution_count": 39,
   "id": "839d16aa",
   "metadata": {},
   "outputs": [
    {
     "data": {
      "text/plain": [
       "{(1, 0), (1, 1), (1, 2), (2, 0), (2, 1), (2, 2)}"
      ]
     },
     "execution_count": 39,
     "metadata": {},
     "output_type": "execute_result"
    }
   ],
   "source": [
    "erase"
   ]
  },
  {
   "cell_type": "code",
   "execution_count": 40,
   "id": "a5ed308b",
   "metadata": {},
   "outputs": [],
   "source": [
    "# 지우기\n",
    "for idx in erase:\n",
    "    idx_row = idx[0]\n",
    "    idx_col = idx[1]\n",
    "    \n",
    "    board[idx_row][idx_col] = 0"
   ]
  },
  {
   "cell_type": "code",
   "execution_count": 41,
   "id": "a14ea695",
   "metadata": {},
   "outputs": [
    {
     "data": {
      "text/plain": [
       "[['C', 'C', 'B', 'D', 'E'],\n",
       " [0, 0, 0, 'D', 'E'],\n",
       " [0, 0, 0, 'B', 'F'],\n",
       " ['C', 'C', 'B', 'B', 'F']]"
      ]
     },
     "execution_count": 41,
     "metadata": {},
     "output_type": "execute_result"
    }
   ],
   "source": [
    "board"
   ]
  },
  {
   "cell_type": "code",
   "execution_count": 42,
   "id": "919096bf",
   "metadata": {},
   "outputs": [],
   "source": [
    "# 끌어내리기\n",
    "for row in range(m-1,-1,-1):\n",
    "    for col in range(n-1,-1,-1):\n",
    "        if board[row][col]==0:\n",
    "            origin_row = row\n",
    "            while row>0:\n",
    "                new_row = row-1\n",
    "                if board[new_row][col]!=0:\n",
    "                    board[origin_row][col] = board[new_row][col]\n",
    "                    break\n",
    "                row = new_row\n",
    "                    "
   ]
  },
  {
   "cell_type": "code",
   "execution_count": 43,
   "id": "a59f29bf",
   "metadata": {},
   "outputs": [
    {
     "data": {
      "text/plain": [
       "[['C', 'C', 'B', 'D', 'E'],\n",
       " ['C', 'C', 'B', 'D', 'E'],\n",
       " [0, 0, 'B', 'B', 'F'],\n",
       " ['C', 'C', 'B', 'B', 'F']]"
      ]
     },
     "execution_count": 43,
     "metadata": {},
     "output_type": "execute_result"
    }
   ],
   "source": [
    "board"
   ]
  },
  {
   "cell_type": "code",
   "execution_count": 31,
   "id": "82241922",
   "metadata": {},
   "outputs": [
    {
     "name": "stdout",
     "output_type": "stream",
     "text": [
      "3 4\n",
      "3 3\n",
      "3 2\n",
      "3 1\n",
      "3 0\n",
      "2 4\n",
      "2 3\n",
      "2 2\n",
      "2 1\n",
      "2 0\n",
      "1 4\n",
      "1 3\n",
      "1 2\n",
      "1 1\n",
      "1 0\n",
      "0 4\n",
      "0 3\n",
      "0 2\n",
      "0 1\n",
      "0 0\n"
     ]
    }
   ],
   "source": [
    "afor row in range(m-1,-1,-1):\n",
    "    for col in range(n-1,-1,-1):\n",
    "        print(row, col)"
   ]
  },
  {
   "cell_type": "code",
   "execution_count": null,
   "id": "5b6d5ca1",
   "metadata": {},
   "outputs": [],
   "source": []
  },
  {
   "cell_type": "code",
   "execution_count": null,
   "id": "c4150fcc",
   "metadata": {},
   "outputs": [],
   "source": []
  },
  {
   "cell_type": "code",
   "execution_count": null,
   "id": "2160d6fe",
   "metadata": {},
   "outputs": [],
   "source": []
  }
 ],
 "metadata": {
  "kernelspec": {
   "display_name": "Python 3 (ipykernel)",
   "language": "python",
   "name": "python3"
  },
  "language_info": {
   "codemirror_mode": {
    "name": "ipython",
    "version": 3
   },
   "file_extension": ".py",
   "mimetype": "text/x-python",
   "name": "python",
   "nbconvert_exporter": "python",
   "pygments_lexer": "ipython3",
   "version": "3.11.5"
  }
 },
 "nbformat": 4,
 "nbformat_minor": 5
}
