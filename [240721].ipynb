{
 "cells": [
  {
   "cell_type": "markdown",
   "id": "62f2005e",
   "metadata": {},
   "source": [
    "# 2292 : 벌집\n",
    "- 문제 분류 : DP"
   ]
  },
  {
   "cell_type": "code",
   "execution_count": 1,
   "id": "90553c3d",
   "metadata": {},
   "outputs": [
    {
     "name": "stdout",
     "output_type": "stream",
     "text": [
      "13\n",
      "3\n"
     ]
    }
   ],
   "source": [
    "# 답\n",
    "flag = False\n",
    "temp = [1]\n",
    "x = 2\n",
    "n = 2\n",
    "\n",
    "while True:\n",
    "    x = 2+3*(n-1)*(n-2)\n",
    "    if x>1000000000:\n",
    "        break\n",
    "    else:\n",
    "        temp.append(x)\n",
    "        n+=1\n",
    "\n",
    "\n",
    "a = int(input())\n",
    "if a in temp :\n",
    "    flag = True\n",
    "temp.append(a)\n",
    "temp.sort()\n",
    "\n",
    "if  flag:\n",
    "    print(temp.index(a)+1)\n",
    "else:\n",
    "    print(temp.index(a))"
   ]
  },
  {
   "cell_type": "markdown",
   "id": "5a4bced2",
   "metadata": {},
   "source": [
    "### 문제풀이"
   ]
  },
  {
   "cell_type": "code",
   "execution_count": 3,
   "id": "9e4bc372",
   "metadata": {},
   "outputs": [],
   "source": [
    "flag = False\n",
    "temp = [1]\n",
    "x = 2\n",
    "n = 2\n",
    "\n",
    "while True:\n",
    "    x = 2+3*(n-1)*(n-2)\n",
    "    if x>1000000000:\n",
    "        break\n",
    "    else:\n",
    "        temp.append(x)\n",
    "        n+=1"
   ]
  },
  {
   "cell_type": "markdown",
   "id": "9411127e",
   "metadata": {},
   "source": [
    "**새로운 방이 시작되는 수의 모음 > temp**"
   ]
  },
  {
   "cell_type": "code",
   "execution_count": 6,
   "id": "f0489162",
   "metadata": {},
   "outputs": [
    {
     "data": {
      "text/plain": [
       "[1,\n",
       " 2,\n",
       " 8,\n",
       " 20,\n",
       " 38,\n",
       " 62,\n",
       " 92,\n",
       " 128,\n",
       " 170,\n",
       " 218,\n",
       " 272,\n",
       " 332,\n",
       " 398,\n",
       " 470,\n",
       " 548,\n",
       " 632,\n",
       " 722,\n",
       " 818,\n",
       " 920,\n",
       " 1028]"
      ]
     },
     "execution_count": 6,
     "metadata": {},
     "output_type": "execute_result"
    }
   ],
   "source": [
    "temp[:20]"
   ]
  },
  {
   "cell_type": "markdown",
   "id": "a1acde76",
   "metadata": {},
   "source": [
    "**입력값을 temp에 append 시키고 오름차순으로 정렬함**\n",
    "- 입력값이 temp에 위치한 index값으로 답을 반환함"
   ]
  },
  {
   "cell_type": "code",
   "execution_count": 7,
   "id": "d3398bb4",
   "metadata": {},
   "outputs": [
    {
     "name": "stdout",
     "output_type": "stream",
     "text": [
      "13\n",
      "[1, 2, 8, 13, 20, 38, 62, 92, 128, 170, 218, 272, 332, 398, 470, 548, 632, 722, 818, 920]\n"
     ]
    }
   ],
   "source": [
    "a = int(input())\n",
    "if a in temp :\n",
    "    flag = True\n",
    "temp.append(a)\n",
    "temp.sort()\n",
    "print(temp[:20])"
   ]
  },
  {
   "cell_type": "markdown",
   "id": "21de3a80",
   "metadata": {},
   "source": [
    "**만약 input값이 temp에 있던 값일 경우 index값이 -1이 되므로 flag 변수를 통해 temp에 있는 값인지 확인**\n",
    "- 만약 존재한다면 index+1\n",
    "- 존재하지 않는다면 그대로 반환"
   ]
  },
  {
   "cell_type": "code",
   "execution_count": 10,
   "id": "ce453f5a",
   "metadata": {},
   "outputs": [
    {
     "name": "stdout",
     "output_type": "stream",
     "text": [
      "3\n"
     ]
    }
   ],
   "source": [
    "if  flag:\n",
    "    print(temp.index(a)+1)\n",
    "else:\n",
    "    print(temp.index(a))"
   ]
  },
  {
   "cell_type": "markdown",
   "id": "d2dbe71c",
   "metadata": {},
   "source": [
    "# 15989 : 1, 2, 3 더하기 4\n",
    "- 문제 분류 : DP"
   ]
  },
  {
   "cell_type": "code",
   "execution_count": null,
   "id": "e8546f4a",
   "metadata": {},
   "outputs": [],
   "source": [
    "# 답 > DP 사용\n",
    "import sys\n",
    "input = sys.stdin.readline\n",
    "dp = [1]*10001\n",
    "\n",
    "for i in range(2, 10001):\n",
    "    dp[i] +=dp[i-2]\n",
    "    \n",
    "for i in range(3, 10001):\n",
    "    dp[i] +=dp[i-3]\n",
    "    \n",
    "n = int(input())\n",
    "for _ in range(n):\n",
    "    t = int(input())\n",
    "    print(dp[t])"
   ]
  },
  {
   "cell_type": "code",
   "execution_count": 1,
   "id": "a8f7e807",
   "metadata": {},
   "outputs": [
    {
     "name": "stdout",
     "output_type": "stream",
     "text": [
      "3\n",
      "4\n",
      "4\n",
      "7\n",
      "8\n",
      "10\n",
      "14\n"
     ]
    }
   ],
   "source": [
    "# 백트래킹 > 시간초과...\n",
    "# 그럼 무슨 방법을 써야하지..?\n",
    "import sys\n",
    "input = sys.stdin.readline\n",
    "\n",
    "n = int(input())\n",
    "\n",
    "def backtracking(n, lst):\n",
    "    temp1 = lst[:]\n",
    "    temp2 = lst[:]\n",
    "    temp3 = lst[:]\n",
    "    \n",
    "    global answer\n",
    "#     print(sum(lst))\n",
    "    if sum(lst)==n:\n",
    "#         print(\"??\")\n",
    "        lst.sort()\n",
    "        if lst not in answer:\n",
    "            answer.append(lst)\n",
    "#             print(answer)\n",
    "            return\n",
    "    elif sum(lst)<n:\n",
    "        temp1.append(1)\n",
    "        backtracking(n, temp1)\n",
    "        temp2.append(2)\n",
    "        backtracking(n, temp2)\n",
    "        temp3.append(3)\n",
    "        backtracking(n, temp3)\n",
    "    elif sum(lst)>n:\n",
    "        return\n",
    "    \n",
    "for _ in range(n):\n",
    "    k = int(input())\n",
    "    answer = []\n",
    "    backtracking(k, [])\n",
    "    print(len(answer))"
   ]
  },
  {
   "cell_type": "markdown",
   "id": "0a434f55",
   "metadata": {},
   "source": [
    "# 2075 : N번째 큰 수\n",
    "- 분류 : heap\n",
    "- 메모리가 매우 작았던 문제 > 2차원 배열로 값을 받을 수 없다!"
   ]
  },
  {
   "cell_type": "code",
   "execution_count": 2,
   "id": "5c672e1b",
   "metadata": {},
   "outputs": [
    {
     "name": "stdout",
     "output_type": "stream",
     "text": [
      "5\n",
      "12 7 9 15 5\n",
      "13 8 11 19 6\n",
      "21 10 26 31 16\n",
      "48 14 28 35 25\n",
      "52 20 32 41 49\n",
      "35\n"
     ]
    }
   ],
   "source": [
    "# 코드 입력\n",
    "# 답\n",
    "import sys\n",
    "# input = sys.stdin.readline\n",
    "\n",
    "n = int(input())\n",
    "max_lst = []\n",
    "for _ in range(n):\n",
    "    # 입력값 받고 이전 max_lst와 합치기\n",
    "    max_lst+=list(map(int, input().split(\" \")))\n",
    "    \n",
    "    # 내림차순으로 정렬\n",
    "    max_lst.sort(reverse = True)\n",
    "    \n",
    "    # n번째 값까지만 split\n",
    "    max_lst = max_lst[:n]\n",
    "print(max_lst[n-1])"
   ]
  }
 ],
 "metadata": {
  "kernelspec": {
   "display_name": "Python 3 (ipykernel)",
   "language": "python",
   "name": "python3"
  },
  "language_info": {
   "codemirror_mode": {
    "name": "ipython",
    "version": 3
   },
   "file_extension": ".py",
   "mimetype": "text/x-python",
   "name": "python",
   "nbconvert_exporter": "python",
   "pygments_lexer": "ipython3",
   "version": "3.11.5"
  }
 },
 "nbformat": 4,
 "nbformat_minor": 5
}
