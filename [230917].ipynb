{
 "cells": [
  {
   "cell_type": "markdown",
   "metadata": {},
   "source": [
    "# 프로그래머스 : 순위검색"
   ]
  },
  {
   "cell_type": "markdown",
   "metadata": {},
   "source": [
    "- 문제 링크 : https://school.programmers.co.kr/learn/courses/30/lessons/72412\n",
    "- 난이도 : Lv.2"
   ]
  },
  {
   "cell_type": "code",
   "execution_count": 7,
   "metadata": {},
   "outputs": [
    {
     "data": {
      "text/plain": [
       "5000000000"
      ]
     },
     "execution_count": 7,
     "metadata": {},
     "output_type": "execute_result"
    }
   ],
   "source": [
    "50000*100000"
   ]
  },
  {
   "cell_type": "markdown",
   "metadata": {},
   "source": [
    "시간 초과 기준 : 대체로 1초\n",
    ">> 50억으로 이중 for문이 될 경우 시간초과가 나게됨"
   ]
  },
  {
   "cell_type": "code",
   "execution_count": 1,
   "metadata": {},
   "outputs": [],
   "source": [
    "infoes = [\"java backend junior pizza 150\",\"python frontend senior chicken 210\",\"python frontend senior chicken 150\",\"cpp backend senior pizza 260\",\"java backend junior chicken 80\",\"python backend senior chicken 50\"]\n",
    "query = [\"java and backend and junior and pizza 100\",\"python and frontend and senior and chicken 200\",\"cpp and - and senior and pizza 250\",\"- and backend and senior and - 150\",\"- and - and - and chicken 100\",\"- and - and - and - 150\"]"
   ]
  },
  {
   "cell_type": "code",
   "execution_count": 2,
   "metadata": {},
   "outputs": [
    {
     "data": {
      "text/plain": [
       "[1, 1, 1, 1, 2, 4]"
      ]
     },
     "execution_count": 2,
     "metadata": {},
     "output_type": "execute_result"
    }
   ],
   "source": [
    "### 답..!!!! 답 참고함 ㅠㅠㅠㅠ 힘들게 풂 ㅠㅠ\n",
    "\n",
    "from itertools import combinations\n",
    "from bisect import bisect_left\n",
    "from collections import defaultdict\n",
    "\n",
    "def solution(infoes, query):\n",
    "    case_score = defaultdict(list)\n",
    "    for info in infoes:\n",
    "        key = info.split(\" \")[:-1]\n",
    "        value = int(info.split(\" \")[-1])\n",
    "\n",
    "        for i in range(5):\n",
    "            for j in combinations([0,1,2,3], i):\n",
    "                temp = key[:]  # [:]를 해줘야 temp가 바뀌어도 key가 바뀌지 않는다.\n",
    "                for idx in j:\n",
    "                    temp[idx] = \"-\"\n",
    "\n",
    "                case_score[\"_\".join(temp)].append(value)\n",
    "\n",
    "\n",
    "    # 딕셔너리 내부에서 정렬을 해야 시간을 단축할 수 있음\n",
    "    ## info : 50000, query : 100000\n",
    "    for i in case_score.keys():\n",
    "        case_score[i].sort()\n",
    "\n",
    "    ## query\n",
    "    answer = []\n",
    "    new_query = []\n",
    "    for i in query:\n",
    "        temp = []\n",
    "        x = i.replace(\"and \",\"\").split()\n",
    "\n",
    "        key = \"_\".join(x[:-1])\n",
    "        standard_score = int(x[-1])\n",
    "\n",
    "\n",
    "    # 여기서 부터 이진탐색!! \n",
    "        # 만약 key값이 존재하면 개수 산출 가능\n",
    "        if key in case_score.keys():\n",
    "            scores = case_score[key]\n",
    "            if scores:\n",
    "                score_idx = bisect_left(scores, standard_score)  ## lower bound를 bisect를 이용해서 푼다.\n",
    "                answer.append(len(scores) - score_idx)\n",
    "        # key값이 존재하지 않으면 개수 산출 불가능 > 0\n",
    "        else:\n",
    "            answer.append(0)\n",
    "    return answer\n",
    "\n",
    "\n",
    "solution(infoes, query)\n",
    " "
   ]
  },
  {
   "cell_type": "markdown",
   "metadata": {},
   "source": [
    "# 프로그래머스 : 전화번호 목록"
   ]
  },
  {
   "cell_type": "code",
   "execution_count": 26,
   "metadata": {
    "ExecuteTime": {
     "end_time": "2023-09-16T04:39:14.335123Z",
     "start_time": "2023-09-16T04:39:14.319795Z"
    }
   },
   "outputs": [],
   "source": [
    "phone_book = [\"119\", \"97674223\", \"1195524421\"]"
   ]
  },
  {
   "cell_type": "code",
   "execution_count": 27,
   "metadata": {
    "ExecuteTime": {
     "end_time": "2023-09-16T04:39:14.696046Z",
     "start_time": "2023-09-16T04:39:14.686074Z"
    }
   },
   "outputs": [],
   "source": [
    "# 답\n",
    "# 딕셔너리에서 접두사 찾기 > 시간초과X\n",
    "def solution(phone_book):\n",
    "    # 해시 만들어주기\n",
    "    hash_map = {}\n",
    "    for i in phone_book:\n",
    "        hash_map[i] = 1\n",
    "    for idx in range(len(phone_book)):\n",
    "        num = phone_book[idx]\n",
    "        l = len(num)\n",
    "        pre =\"\"\n",
    "        for lens in range(l-1):\n",
    "            pre +=num[lens]\n",
    "            \n",
    "            # 리스트는 여기서 시간초과 발생함\n",
    "            if pre in hash_map.keys():\n",
    "                return False\n",
    "    return True"
   ]
  },
  {
   "cell_type": "code",
   "execution_count": 23,
   "metadata": {
    "ExecuteTime": {
     "end_time": "2023-09-16T04:37:46.068516Z",
     "start_time": "2023-09-16T04:37:46.059536Z"
    }
   },
   "outputs": [],
   "source": [
    "# 리스트에서 접두사 찾기 > 시간 초과발생\n",
    "def solution(phone_book):\n",
    "    for idx in range(len(phone_book)):\n",
    "        num = phone_book[idx]\n",
    "        l = len(num)\n",
    "        pre =\"\"\n",
    "        for lens in range(l-1):\n",
    "            pre +=num[lens]\n",
    "            \n",
    "            # 이부분 시간초과\n",
    "            if pre in phone_book:\n",
    "                return False\n",
    "    return True"
   ]
  },
  {
   "cell_type": "code",
   "execution_count": 28,
   "metadata": {
    "ExecuteTime": {
     "end_time": "2023-09-16T04:39:16.016715Z",
     "start_time": "2023-09-16T04:39:16.007739Z"
    }
   },
   "outputs": [
    {
     "data": {
      "text/plain": [
       "False"
      ]
     },
     "execution_count": 28,
     "metadata": {},
     "output_type": "execute_result"
    }
   ],
   "source": [
    "solution(phone_book)"
   ]
  },
  {
   "cell_type": "markdown",
   "metadata": {},
   "source": [
    "# 14500 : 테트로미노"
   ]
  },
  {
   "cell_type": "markdown",
   "metadata": {},
   "source": [
    "- 문제 링크 : https://www.acmicpc.net/problem/14500\n",
    "- 난이도 : 골드4\n",
    "- 시간 제한 : 2초\n",
    "- 메모리 제한 : 512MB"
   ]
  },
  {
   "cell_type": "code",
   "execution_count": 1,
   "metadata": {
    "ExecuteTime": {
     "end_time": "2023-09-17T13:52:29.558789Z",
     "start_time": "2023-09-17T13:52:28.582690Z"
    }
   },
   "outputs": [
    {
     "name": "stdout",
     "output_type": "stream",
     "text": [
      "5 5\n"
     ]
    }
   ],
   "source": [
    "n, m = map(int, input().split())"
   ]
  },
  {
   "cell_type": "code",
   "execution_count": 3,
   "metadata": {
    "ExecuteTime": {
     "end_time": "2023-09-17T13:53:57.942906Z",
     "start_time": "2023-09-17T13:53:39.271586Z"
    }
   },
   "outputs": [
    {
     "name": "stdout",
     "output_type": "stream",
     "text": [
      "1 2 3 4 5\n",
      "5 4 3 2 1\n",
      "2 3 4 5 6\n",
      "6 5 4 3 2\n",
      "1 2 1 2 1\n"
     ]
    }
   ],
   "source": [
    "square = [[int(i) for i in input().split()]  for _ in range(n)]"
   ]
  },
  {
   "cell_type": "code",
   "execution_count": 5,
   "metadata": {
    "ExecuteTime": {
     "end_time": "2023-09-17T13:54:45.266414Z",
     "start_time": "2023-09-17T13:54:45.250454Z"
    }
   },
   "outputs": [],
   "source": [
    "## y : 행, x : 열\n",
    "dx = [1,-1,0,0]\n",
    "dy = [0,0,1,-1]"
   ]
  },
  {
   "cell_type": "code",
   "execution_count": 6,
   "metadata": {
    "ExecuteTime": {
     "end_time": "2023-09-17T13:55:57.911986Z",
     "start_time": "2023-09-17T13:55:57.901018Z"
    }
   },
   "outputs": [],
   "source": [
    "start = [0,0]\n",
    "first = square[start[0]][start[1]]"
   ]
  },
  {
   "cell_type": "code",
   "execution_count": 14,
   "metadata": {
    "ExecuteTime": {
     "end_time": "2023-09-17T14:15:02.453358Z",
     "start_time": "2023-09-17T14:15:02.433411Z"
    }
   },
   "outputs": [
    {
     "data": {
      "text/plain": [
       "1"
      ]
     },
     "execution_count": 14,
     "metadata": {},
     "output_type": "execute_result"
    }
   ],
   "source": [
    "first"
   ]
  },
  {
   "cell_type": "code",
   "execution_count": 16,
   "metadata": {
    "ExecuteTime": {
     "end_time": "2023-09-17T14:15:23.355264Z",
     "start_time": "2023-09-17T14:15:23.330338Z"
    }
   },
   "outputs": [
    {
     "data": {
      "text/plain": [
       "[1, [0, 0]]"
      ]
     },
     "execution_count": 16,
     "metadata": {},
     "output_type": "execute_result"
    }
   ],
   "source": [
    "tet"
   ]
  },
  {
   "cell_type": "code",
   "execution_count": null,
   "metadata": {},
   "outputs": [],
   "source": []
  },
  {
   "cell_type": "code",
   "execution_count": 27,
   "metadata": {
    "ExecuteTime": {
     "end_time": "2023-09-17T14:21:46.177416Z",
     "start_time": "2023-09-17T14:21:46.154475Z"
    }
   },
   "outputs": [
    {
     "name": "stdout",
     "output_type": "stream",
     "text": [
      "[1, [0, 0]]\n",
      "[[3, [0, 1]], [6, [1, 0]]]\n",
      "\n",
      "[3, [0, 1]]\n",
      "[[6, [0, 2]], [4, [0, 0]], [7, [1, 1]]]\n",
      "\n",
      "[6, [1, 0]]\n",
      "[[6, [0, 2]], [4, [0, 0]], [7, [1, 1]], [10, [1, 1]], [8, [2, 0]], [7, [0, 0]]]\n",
      "\n",
      "[6, [0, 2]]\n",
      "[[10, [0, 3]], [8, [0, 1]], [9, [1, 2]]]\n",
      "\n",
      "[4, [0, 0]]\n",
      "[[10, [0, 3]], [8, [0, 1]], [9, [1, 2]], [6, [0, 1]], [9, [1, 0]]]\n",
      "\n",
      "[7, [1, 1]]\n",
      "[[10, [0, 3]], [8, [0, 1]], [9, [1, 2]], [6, [0, 1]], [9, [1, 0]], [10, [1, 2]], [12, [1, 0]], [10, [2, 1]], [9, [0, 1]]]\n",
      "\n",
      "[10, [1, 1]]\n",
      "[[10, [0, 3]], [8, [0, 1]], [9, [1, 2]], [6, [0, 1]], [9, [1, 0]], [10, [1, 2]], [12, [1, 0]], [10, [2, 1]], [9, [0, 1]], [13, [1, 2]], [15, [1, 0]], [13, [2, 1]], [12, [0, 1]]]\n",
      "\n",
      "[8, [2, 0]]\n",
      "[[10, [0, 3]], [8, [0, 1]], [9, [1, 2]], [6, [0, 1]], [9, [1, 0]], [10, [1, 2]], [12, [1, 0]], [10, [2, 1]], [9, [0, 1]], [13, [1, 2]], [15, [1, 0]], [13, [2, 1]], [12, [0, 1]], [11, [2, 1]], [14, [3, 0]], [13, [1, 0]]]\n",
      "\n",
      "[7, [0, 0]]\n",
      "[[10, [0, 3]], [8, [0, 1]], [9, [1, 2]], [6, [0, 1]], [9, [1, 0]], [10, [1, 2]], [12, [1, 0]], [10, [2, 1]], [9, [0, 1]], [13, [1, 2]], [15, [1, 0]], [13, [2, 1]], [12, [0, 1]], [11, [2, 1]], [14, [3, 0]], [13, [1, 0]]]\n",
      "\n"
     ]
    }
   ],
   "source": [
    "tet = [[first, start]]\n",
    "for _ in range(3):\n",
    "    temp = []\n",
    "    # tet : [value, [y,x]]\n",
    "    for i in tet:\n",
    "        print(i)\n",
    "        y = i[1][0]\n",
    "        x = i[1][1]\n",
    "        value =i[0]\n",
    "        for j in range(len(dx)):\n",
    "            new_x = x+dx[j]\n",
    "            new_y = y+dy[j]\n",
    "            new_value = value+square[new_y][new_x]\n",
    "            if 0<=new_y<n and 0<=new_x<m :\n",
    "                if [new_value, [new_y, new_x]] not in temp:\n",
    "                    temp.append([new_value, [new_y, new_x]])\n",
    "        print(temp)\n",
    "        print()\n",
    "    tet = temp\n",
    "            \n",
    "            \n",
    "            \n",
    "        "
   ]
  },
  {
   "cell_type": "code",
   "execution_count": 28,
   "metadata": {
    "ExecuteTime": {
     "end_time": "2023-09-17T14:21:48.768547Z",
     "start_time": "2023-09-17T14:21:48.748600Z"
    }
   },
   "outputs": [
    {
     "data": {
      "text/plain": [
       "[[10, [0, 3]],\n",
       " [8, [0, 1]],\n",
       " [9, [1, 2]],\n",
       " [6, [0, 1]],\n",
       " [9, [1, 0]],\n",
       " [10, [1, 2]],\n",
       " [12, [1, 0]],\n",
       " [10, [2, 1]],\n",
       " [9, [0, 1]],\n",
       " [13, [1, 2]],\n",
       " [15, [1, 0]],\n",
       " [13, [2, 1]],\n",
       " [12, [0, 1]],\n",
       " [11, [2, 1]],\n",
       " [14, [3, 0]],\n",
       " [13, [1, 0]]]"
      ]
     },
     "execution_count": 28,
     "metadata": {},
     "output_type": "execute_result"
    }
   ],
   "source": [
    "tet"
   ]
  },
  {
   "cell_type": "code",
   "execution_count": null,
   "metadata": {},
   "outputs": [],
   "source": []
  },
  {
   "cell_type": "code",
   "execution_count": null,
   "metadata": {},
   "outputs": [],
   "source": []
  },
  {
   "cell_type": "code",
   "execution_count": null,
   "metadata": {},
   "outputs": [],
   "source": []
  },
  {
   "cell_type": "code",
   "execution_count": null,
   "metadata": {},
   "outputs": [],
   "source": []
  },
  {
   "cell_type": "code",
   "execution_count": null,
   "metadata": {},
   "outputs": [],
   "source": []
  },
  {
   "cell_type": "code",
   "execution_count": null,
   "metadata": {},
   "outputs": [],
   "source": []
  },
  {
   "cell_type": "code",
   "execution_count": null,
   "metadata": {},
   "outputs": [],
   "source": []
  }
 ],
 "metadata": {
  "kernelspec": {
   "display_name": "Python 3",
   "language": "python",
   "name": "python3"
  },
  "language_info": {
   "codemirror_mode": {
    "name": "ipython",
    "version": 3
   },
   "file_extension": ".py",
   "mimetype": "text/x-python",
   "name": "python",
   "nbconvert_exporter": "python",
   "pygments_lexer": "ipython3",
   "version": "3.8.3"
  },
  "toc": {
   "base_numbering": 1,
   "nav_menu": {},
   "number_sections": true,
   "sideBar": true,
   "skip_h1_title": false,
   "title_cell": "Table of Contents",
   "title_sidebar": "Contents",
   "toc_cell": false,
   "toc_position": {},
   "toc_section_display": true,
   "toc_window_display": false
  }
 },
 "nbformat": 4,
 "nbformat_minor": 2
}
