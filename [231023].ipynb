{
 "cells": [
  {
   "cell_type": "markdown",
   "metadata": {},
   "source": [
    "# 프로그래머스 : 이모티콘 할인행사"
   ]
  },
  {
   "cell_type": "markdown",
   "metadata": {},
   "source": [
    "- 문제 링크 : https://school.programmers.co.kr/learn/courses/30/lessons/150368\n",
    "- 정답률 : 35%(Lv.2)"
   ]
  },
  {
   "cell_type": "code",
   "execution_count": 1,
   "metadata": {},
   "outputs": [
    {
     "data": {
      "text/plain": [
       "11468800"
      ]
     },
     "execution_count": 1,
     "metadata": {},
     "output_type": "execute_result"
    }
   ],
   "source": [
    "### 최대 길이 기준으로 계산했을 때\n",
    "100*7*16384"
   ]
  },
  {
   "cell_type": "code",
   "execution_count": 2,
   "metadata": {},
   "outputs": [],
   "source": [
    "# 답\n",
    "from itertools import product\n",
    "\n",
    "def solution(users, emoticons):\n",
    "\n",
    "    # 각 이모티콘이 가질 수 있는 모든 할인율에 대한 경우의 수를 뽑음\n",
    "    cases = []\n",
    "    for i in product([40, 30, 20, 10], repeat = len(emoticons)):\n",
    "        cases.append(i)\n",
    "\n",
    "\n",
    "    max_emt=0\n",
    "    max_join=0\n",
    "    answer = []\n",
    "\n",
    "    # 경우의 수 별로 탐색\n",
    "    for case_idx in range(len(cases)):\n",
    "        emoticons_total = 0\n",
    "        join_total = 0\n",
    "\n",
    "\n",
    "        for user_idx in range(len(users)):\n",
    "            total_ = 0\n",
    "            for emt_idx in range(len(emoticons)):\n",
    "                if users[user_idx][0]<=cases[case_idx][emt_idx]:\n",
    "                    total_+=(1-cases[case_idx][emt_idx]*0.01)*emoticons[emt_idx]\n",
    "            \n",
    "            # 만약 총 계가 제한 합계보다 크다면\n",
    "            if total_>=users[user_idx][1]:\n",
    "                join_total+=1\n",
    "\n",
    "            # 만약 총 계가 제한 합계보다 작다면\n",
    "            else:\n",
    "                emoticons_total+=total_\n",
    "\n",
    "        \n",
    "        # 플러스 가입자 수가 많은게 가장 우선\n",
    "        if join_total>max_join:\n",
    "            max_join = join_total\n",
    "            # 판매액 무조건 업데이트\n",
    "            max_emt = emoticons_total\n",
    "\n",
    "        \n",
    "        # 플러그 가입자 수가 같다면 판매액이 클 경우 판매액만 업데이트\n",
    "        elif join_total==max_join:\n",
    "            if emoticons_total>max_emt:\n",
    "                max_emt = int(emoticons_total)\n",
    "\n",
    "    return [max_join, int(max_emt)]\n"
   ]
  },
  {
   "cell_type": "markdown",
   "metadata": {},
   "source": [
    "# 프로그래머스 : [3차] n진수 게임"
   ]
  },
  {
   "cell_type": "markdown",
   "metadata": {},
   "source": [
    "- 문제 링크 : https://school.programmers.co.kr/learn/courses/30/lessons/17687\n",
    "- 난이도/정답률 : Lv.2/59%"
   ]
  },
  {
   "cell_type": "code",
   "execution_count": null,
   "metadata": {},
   "outputs": [],
   "source": [
    "# n : 진법의 수\n",
    "# t : 말해야 하는 숫자의 갯수\n",
    "# m : 같이 게임하는 인원\n",
    "# p : 말하는 순서"
   ]
  },
  {
   "cell_type": "code",
   "execution_count": 1,
   "metadata": {},
   "outputs": [],
   "source": [
    "# 답\n",
    "answer = []\n",
    "\n",
    "# n진수 구하기\n",
    "def nverse(num, n):\n",
    "    dict_ = {}\n",
    "    for i , j in zip([10,11,12,13,14,15], [\"A\",\"B\",\"C\",\"D\",\"E\",\"F\"]):\n",
    "        dict_[i] = j\n",
    "\n",
    "    result = \"\"\n",
    "    while True:\n",
    "        if num>=n:\n",
    "            rest = num%n\n",
    "            num = num//n\n",
    "\n",
    "            if rest in [10,11,12,13,14,15]:\n",
    "                result = dict_[rest]+result\n",
    "            else:\n",
    "                result = str(rest)+result\n",
    "        else:\n",
    "            if num in [10,11,12,13,14,15]:\n",
    "                result = dict_[num]+result\n",
    "            else:\n",
    "                result = str(num)+result\n",
    "            break\n",
    "    return result\n",
    "\n",
    "def solution(n,t,m,p):\n",
    "    answer = []\n",
    "    for i in range(100001):\n",
    "        temp = [j  for j in nverse(i, n)]\n",
    "        answer.extend(temp)\n",
    "\n",
    "    answers = []\n",
    "    for i in range(t):\n",
    "        idx = (p-1)+m*i\n",
    "        answers.append(answer[idx])\n",
    "    \n",
    "    return \"\".join(answers)\n"
   ]
  },
  {
   "cell_type": "markdown",
   "metadata": {},
   "source": [
    "# 14888 : 연산자 끼워넣기"
   ]
  },
  {
   "cell_type": "markdown",
   "metadata": {},
   "source": [
    "- 문제 링크 : https://www.acmicpc.net/problem/14888\n",
    "- 난이도 : 실버1\n",
    "- 시간 제한 : 2초\n",
    "- 메모리 제한 : 512MB"
   ]
  },
  {
   "cell_type": "code",
   "execution_count": 19,
   "metadata": {},
   "outputs": [],
   "source": [
    "# 0 : 덧셈\n",
    "# 1 : 뺄셈\n",
    "# 2 : 곱셈\n",
    "# 3 : 나눗셈"
   ]
  },
  {
   "cell_type": "code",
   "execution_count": 22,
   "metadata": {},
   "outputs": [
    {
     "data": {
      "text/plain": [
       "36288000"
      ]
     },
     "execution_count": 22,
     "metadata": {},
     "output_type": "execute_result"
    }
   ],
   "source": [
    "10*9*8*7*6*5*4*3*2*1*10"
   ]
  },
  {
   "cell_type": "code",
   "execution_count": 1,
   "metadata": {},
   "outputs": [
    {
     "name": "stdout",
     "output_type": "stream",
     "text": [
      "54\n",
      "-24\n"
     ]
    }
   ],
   "source": [
    "# 순열을 이용한 완전탐색(PyPI3에서만 가능)\n",
    "import sys\n",
    "\n",
    "input = sys.stdin.readline\n",
    "\n",
    "n = int(input())\n",
    "nums = [int(i) for i in input().split()]\n",
    "oper = [int(j) for j in input().split()]\n",
    "oper_sum = sum(oper)\n",
    "\n",
    "# 모든 연산자 리스트\n",
    "opers = []\n",
    "for idx in range(len(oper)):\n",
    "    opers+=[idx]*oper[idx]\n",
    "\n",
    "\n",
    "# 경우의 수\n",
    "from itertools import permutations as pm\n",
    "case_ = []\n",
    "for i in pm(opers, oper_sum):\n",
    "    case_.append(i)\n",
    "\n",
    "\n",
    "x = nums.pop(0)\n",
    "max_answer =-1000000000\n",
    "min_answer = 1000000000\n",
    "for i in case_:\n",
    "    answer = x\n",
    "    for idx in range(len(i)):\n",
    "\n",
    "        # 덧셈인 경우\n",
    "        if i[idx] == 0:\n",
    "            answer+=nums[idx]\n",
    "\n",
    "        # 뺄셈인 경우\n",
    "        elif i[idx]==1:\n",
    "            answer-=nums[idx]\n",
    "\n",
    "        # 곱셈인 경우\n",
    "        elif i[idx]==2:\n",
    "            answer*=nums[idx]\n",
    "        \n",
    "        # 나눗셈인 경우\n",
    "        else:\n",
    "            # 값이 음수일 때\n",
    "            if answer<0:\n",
    "                answer = -(abs(answer)//nums[idx])\n",
    "\n",
    "\n",
    "            # 양수일 때\n",
    "            else:\n",
    "                answer = answer//nums[idx]\n",
    "\n",
    "    # 최대 최소 업데이트\n",
    "    if answer>max_answer:\n",
    "        max_answer = answer\n",
    "\n",
    "    if min_answer>answer:\n",
    "        min_answer = answer\n",
    "          \n",
    "print(max_answer)\n",
    "print(min_answer)"
   ]
  },
  {
   "cell_type": "code",
   "execution_count": 2,
   "metadata": {},
   "outputs": [
    {
     "name": "stdout",
     "output_type": "stream",
     "text": [
      "54\n",
      "-24\n"
     ]
    }
   ],
   "source": [
    "# dfs로 풀어보기(답)\n",
    "import sys \n",
    "input = sys.stdin.readline\n",
    "\n",
    "\n",
    "n = int(input())\n",
    "nums = [int(i) for i in input().split()]\n",
    "oper = [int(j) for j in input().split()]\n",
    "\n",
    "max_answer =-1000000000\n",
    "min_answer = 1000000000\n",
    "\n",
    "def dfs(oper, idx, answer):\n",
    "    global max_answer, min_answer, n, nums\n",
    "\n",
    "    if idx==n-1:\n",
    "        if max_answer<answer:\n",
    "            max_answer = answer\n",
    "        if min_answer>answer:\n",
    "            min_answer = answer\n",
    "\n",
    "    else:\n",
    "        # 덧셈\n",
    "        if oper[0]>0:\n",
    "            oper[0]-=1\n",
    "            new_answer= answer + nums[idx]\n",
    "            dfs(oper, idx+1, new_answer)\n",
    "            oper[0]+=1\n",
    "        \n",
    "        # 뺄셈\n",
    "        if oper[1]>0:\n",
    "            oper[1]-=1\n",
    "            new_answer=answer - nums[idx]\n",
    "            dfs(oper, idx+1, new_answer)\n",
    "            oper[1]+=1\n",
    "\n",
    "        # 곱셈\n",
    "        if oper[2]>0:\n",
    "            oper[2]-=1\n",
    "            new_answer= answer * nums[idx]\n",
    "            dfs(oper, idx+1,new_answer)\n",
    "            oper[2]+=1\n",
    "            \n",
    "        # 나눗셈\n",
    "        if oper[3]>0:\n",
    "            # 값이 음수일 때\n",
    "            if answer<0:\n",
    "                new_answer = -(abs(answer)//nums[idx])\n",
    "\n",
    "\n",
    "            # 양수일 때\n",
    "            else:\n",
    "                new_answer = answer//nums[idx]\n",
    "\n",
    "            oper[3]-=1\n",
    "            dfs(oper, idx+1,new_answer)\n",
    "            oper[3]+=1\n",
    "    \n",
    "answer = nums.pop(0)\n",
    "dfs(oper, 0,answer)\n",
    "\n",
    "print(max_answer)\n",
    "print(min_answer)"
   ]
  }
 ],
 "metadata": {
  "kernelspec": {
   "display_name": "base",
   "language": "python",
   "name": "python3"
  },
  "language_info": {
   "codemirror_mode": {
    "name": "ipython",
    "version": 3
   },
   "file_extension": ".py",
   "mimetype": "text/x-python",
   "name": "python",
   "nbconvert_exporter": "python",
   "pygments_lexer": "ipython3",
   "version": "3.8.3"
  }
 },
 "nbformat": 4,
 "nbformat_minor": 2
}
