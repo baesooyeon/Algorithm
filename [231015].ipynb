{
 "cells": [
  {
   "cell_type": "code",
   "execution_count": 1,
   "metadata": {
    "ExecuteTime": {
     "end_time": "2023-10-14T13:11:38.414310Z",
     "start_time": "2023-10-14T13:11:38.389377Z"
    }
   },
   "outputs": [
    {
     "data": {
      "text/html": [
       "<style>.container {width:95% !important ; }</style>"
      ],
      "text/plain": [
       "<IPython.core.display.HTML object>"
      ]
     },
     "metadata": {},
     "output_type": "display_data"
    }
   ],
   "source": [
    "from IPython.display import display,HTML\n",
    "display(HTML(\"<style>.container {width:95% !important ; }</style>\"))"
   ]
  },
  {
   "cell_type": "markdown",
   "metadata": {},
   "source": [
    "# 14503 : 로봇 청소기"
   ]
  },
  {
   "cell_type": "markdown",
   "metadata": {},
   "source": [
    "- 문제 링크 : https://www.acmicpc.net/problem/14503\n",
    "- 난이도 : 골드 5\n",
    "- 시간 제한 : 2초\n",
    "- 메모리 제한 : 512MB"
   ]
  },
  {
   "cell_type": "code",
   "execution_count": 3,
   "metadata": {
    "ExecuteTime": {
     "end_time": "2023-10-15T02:05:50.617014Z",
     "start_time": "2023-10-15T02:04:58.334211Z"
    }
   },
   "outputs": [
    {
     "name": "stdout",
     "output_type": "stream",
     "text": [
      "11 10\n",
      "7 4 0\n",
      "1 1 1 1 1 1 1 1 1 1\n",
      "1 0 0 0 0 0 0 0 0 1\n",
      "1 0 0 0 1 1 1 1 0 1\n",
      "1 0 0 1 1 0 0 0 0 1\n",
      "1 0 1 1 0 0 0 0 0 1\n",
      "1 0 0 0 0 0 0 0 0 1\n",
      "1 0 0 0 0 0 0 1 0 1\n",
      "1 0 0 0 0 0 1 1 0 1\n",
      "1 0 0 0 0 0 1 1 0 1\n",
      "1 0 0 0 0 0 0 0 0 1\n",
      "1 1 1 1 1 1 1 1 1 1\n",
      "57\n"
     ]
    }
   ],
   "source": [
    "# 답\n",
    "# 0 : 북쪽, 1 : 동쪽, 2 : 남쪽, 3 : 서쪽\n",
    "from collections import deque\n",
    "import sys\n",
    "\n",
    "input = sys.stdin.readline\n",
    "\n",
    "# input\n",
    "n, m = map(int, input().split())\n",
    "r,c,d = map(int, input().split())\n",
    "\n",
    "# robot\n",
    "robot = [[int(i) for i in input().split()] for _ in range(n)]\n",
    "\n",
    "start = [r,c]\n",
    "q = deque([[start,d]])\n",
    "\n",
    "dx = [-1, 0, 1, 0]\n",
    "dy = [0, 1, 0, -1]\n",
    "answer = 0\n",
    "while q:\n",
    "    \n",
    "    # 청소할 방이 있는지 없는지 확인용\n",
    "    nonclean =True\n",
    "    \n",
    "    coor, drift = q.popleft()\n",
    "    x = coor[0]\n",
    "    y = coor[1]\n",
    "    \n",
    "    \n",
    "    if robot[x][y] ==0:\n",
    "        answer+=1\n",
    "        robot[x][y] =2\n",
    "    \n",
    "    for i in range(4+(drift-1), drift-1,-1):\n",
    "        ndrift = i%4\n",
    "#         print(drift, ndrift)\n",
    "        nx = x+dx[ndrift]\n",
    "        ny = y+dy[ndrift]\n",
    "        \n",
    "        # 만약 주변 4칸 중 청소되지 않은 빈칸이 존재하는 경우\n",
    "        if 0<=nx <n and 0<=ny<m and robot[nx][ny]==0:\n",
    "            nonclean = False\n",
    "            q.append([[nx,ny],ndrift])\n",
    "            break\n",
    "            \n",
    "        \n",
    "    # 만약 주변 4칸 중 청소되지 않은 빈칸이 없는 경우\n",
    "    if nonclean:\n",
    "        # drift+2를 하는 이유 : 후진하려구\n",
    "        nx2 = x+dx[(drift+2)%4]\n",
    "        ny2 = y+dy[(drift+2)%4]\n",
    "#         print(drift)\n",
    "#         print(x, nx2)\n",
    "#         print(y, ny2)\n",
    "#         print(robot[nx2][ny2])\n",
    "        \n",
    "        if 0<=nx2<n and 0<=ny2<m and robot[nx2][ny2]!=1:\n",
    "            q.append([[nx2, ny2],drift])\n",
    "            \n",
    "        elif (0>nx2 or nx2>=n) or (0>ny2 or ny2>=m) or robot[nx2][ny2] ==1:\n",
    "#             print(nx2, ny2)\n",
    "            break\n",
    "            \n",
    "#     print(x,y, drift, nonclean)\n",
    "print(answer)"
   ]
  }
 ],
 "metadata": {
  "kernelspec": {
   "display_name": "Python 3",
   "language": "python",
   "name": "python3"
  },
  "language_info": {
   "codemirror_mode": {
    "name": "ipython",
    "version": 3
   },
   "file_extension": ".py",
   "mimetype": "text/x-python",
   "name": "python",
   "nbconvert_exporter": "python",
   "pygments_lexer": "ipython3",
   "version": "3.8.3"
  },
  "toc": {
   "base_numbering": 1,
   "nav_menu": {},
   "number_sections": true,
   "sideBar": true,
   "skip_h1_title": false,
   "title_cell": "Table of Contents",
   "title_sidebar": "Contents",
   "toc_cell": false,
   "toc_position": {},
   "toc_section_display": true,
   "toc_window_display": false
  }
 },
 "nbformat": 4,
 "nbformat_minor": 4
}
