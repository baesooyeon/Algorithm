{
 "cells": [
  {
   "cell_type": "markdown",
   "id": "1a2a21df",
   "metadata": {},
   "source": [
    "# 13335 : 트럭\n",
    "- 난이도 : 실버1\n",
    "- 시간 제한 : 1초\n",
    "- 메모리 제한 : 512MB\n",
    "- 분류 : 구현"
   ]
  },
  {
   "cell_type": "code",
   "execution_count": 1,
   "id": "9d3839c8",
   "metadata": {},
   "outputs": [
    {
     "name": "stdout",
     "output_type": "stream",
     "text": [
      "4 2 10\n",
      "7 4 5 6\n",
      "8\n"
     ]
    }
   ],
   "source": [
    "# 답!\n",
    "from collections import deque\n",
    "import sys\n",
    "\n",
    "input = sys.stdin.readline\n",
    "\n",
    "n, w, l = map(int, input().split())\n",
    "truck = [int(i) for i in input().split()]\n",
    "\n",
    "bridge = deque([0]*w)\n",
    "\n",
    "idx = 0\n",
    "cnt = 0\n",
    "while idx <len(truck):\n",
    "    if idx ==0:\n",
    "        bridge.popleft()\n",
    "        bridge.append(truck[idx])\n",
    "        idx+=1\n",
    "        cnt+=1\n",
    "    else:\n",
    "        # bridge가 가득차지 않고 최대 하중 이하인가?\n",
    "        if len(bridge)<=w and sum(bridge)+truck[idx]-bridge[0]<=l:\n",
    "            # 왼쪽에서 빼내기\n",
    "            bridge.popleft()\n",
    "            # 오른쪽에서 집어넣기\n",
    "            bridge.append(truck[idx])\n",
    "            cnt+=1\n",
    "            idx+=1\n",
    "            \n",
    "        # 만약 만족시키지 못한다면?\n",
    "        else:\n",
    "            bridge.popleft()\n",
    "            bridge.append(0)\n",
    "            cnt+=1\n",
    "            \n",
    "# 마무리~\n",
    "if bridge!=deque([0]*w):\n",
    "    while bridge!=deque([0]*w):\n",
    "        bridge.popleft()\n",
    "        bridge.append(0)\n",
    "        cnt+=1\n",
    "        \n",
    "print(cnt)"
   ]
  },
  {
   "cell_type": "markdown",
   "id": "5670b970",
   "metadata": {},
   "source": [
    "# 1541 : 잃어버린 괄호\n",
    "- 난이도 : 실버2\n",
    "- 시간 제한 : 2초\n",
    "- 메모리 제한 : 128MB\n",
    "- 분류 : 구현, 문자열"
   ]
  },
  {
   "cell_type": "code",
   "execution_count": 11,
   "id": "b8ce6d4e",
   "metadata": {},
   "outputs": [
    {
     "name": "stdout",
     "output_type": "stream",
     "text": [
      "00009-00009\n",
      "9\n",
      "0\n"
     ]
    }
   ],
   "source": [
    "# 답!(chatgpt 답 참고함)\n",
    "expression = input()\n",
    "exp_list = expression.split(\"-\")\n",
    "\n",
    "min_result = sum(map(int, exp_list[0].split(\"+\")))\n",
    "\n",
    "for idx in range(1, len(exp_list)):\n",
    "    min_result -=sum(map(int, exp_list[idx].split(\"+\")))\n",
    "print(min_result)"
   ]
  },
  {
   "cell_type": "code",
   "execution_count": 3,
   "id": "93141526",
   "metadata": {},
   "outputs": [
    {
     "name": "stdout",
     "output_type": "stream",
     "text": [
      "6060-5500-00097\n",
      "463\n"
     ]
    }
   ],
   "source": [
    "# 모든 경우의 수 사용 > eval > TypeError 발생 ㅠ\n",
    "import sys\n",
    "\n",
    "#input = sys.stdin.readline()\n",
    "\n",
    "expression = input()\n",
    "exp = list(expression)\n",
    "new_exp = []\n",
    "temp_idx = 0\n",
    "for idx in range(len(exp)):\n",
    "    if exp[idx]==\"+\" or exp[idx]==\"-\":\n",
    "        new_exp.append(str(int(\"\".join(exp[temp_idx:idx]))))\n",
    "        new_exp.append(exp[idx])\n",
    "        temp_idx = idx+1   \n",
    "    elif idx == len(exp)-1:\n",
    "        new_exp.append(str(int(\"\".join(exp[temp_idx:]))))\n",
    "expression = \"\".join(new_exp)\n",
    "\n",
    "values = []\n",
    "for idx in range(len(expression)):\n",
    "    temp_exp = expression\n",
    "    if idx ==0:\n",
    "        temp_exp = \"(\"+temp_exp\n",
    "    else:\n",
    "        if not temp_exp[idx-1].isdigit() and temp_exp[idx].isdigit():\n",
    "            temp_exp = temp_exp[:idx]+\"(\"+temp_exp[idx:]\n",
    "        else:\n",
    "            continue\n",
    "    for idx_back in range(idx+1, len(expression)):\n",
    "        temp_exp2 = temp_exp\n",
    "        if idx_back == len(expression)-1:\n",
    "            temp_exp2 = temp_exp2+\")\"\n",
    "            value_ = eval(temp_exp2)\n",
    "            values.append(value_)\n",
    "        else:\n",
    "            if temp_exp2[idx_back-1].isdigit() and not temp_exp2[idx_back].isdigit():\n",
    "                temp_exp2 = temp_exp2[:idx_back]+\")\"+temp_exp2[idx_back:]\n",
    "                value_ = eval(temp_exp2)\n",
    "                values.append(value_)\n",
    "print(min(values))"
   ]
  },
  {
   "cell_type": "markdown",
   "id": "6f8fba9b",
   "metadata": {},
   "source": [
    "# 프로그래머스 : 리코쳇 로봇\n",
    "- 난이도 : lv2\n",
    "- 문제 분류 : bfs"
   ]
  },
  {
   "cell_type": "code",
   "execution_count": 1,
   "id": "c18a91d2",
   "metadata": {},
   "outputs": [],
   "source": [
    "board = [\"...D..R\", \".D.G...\", \"....D.D\", \"D....D.\", \"..D....\"]\t"
   ]
  },
  {
   "cell_type": "code",
   "execution_count": 8,
   "id": "9a09f312",
   "metadata": {},
   "outputs": [],
   "source": [
    "board_list = [[cell for cell in board_one] for board_one in board]\n",
    "rows = len(board_list)\n",
    "cols = len(board_list[0])\n",
    "visited = [[0 for _ in range(cols)] for _ in range(rows)]"
   ]
  },
  {
   "cell_type": "code",
   "execution_count": 9,
   "id": "3ce97b13",
   "metadata": {},
   "outputs": [
    {
     "data": {
      "text/plain": [
       "[[0, 0, 0, 0, 0, 0, 0],\n",
       " [0, 0, 0, 0, 0, 0, 0],\n",
       " [0, 0, 0, 0, 0, 0, 0],\n",
       " [0, 0, 0, 0, 0, 0, 0],\n",
       " [0, 0, 0, 0, 0, 0, 0]]"
      ]
     },
     "execution_count": 9,
     "metadata": {},
     "output_type": "execute_result"
    }
   ],
   "source": [
    "visited"
   ]
  },
  {
   "cell_type": "code",
   "execution_count": 11,
   "id": "d22cf383",
   "metadata": {},
   "outputs": [],
   "source": [
    "from collections import deque\n",
    "import copy"
   ]
  },
  {
   "cell_type": "code",
   "execution_count": 12,
   "id": "34dae311",
   "metadata": {},
   "outputs": [],
   "source": [
    "# x : 행\n",
    "# y : 열\n",
    "dx = [1, 0, 0, -1]\n",
    "dy = [0,1, -1, 0]"
   ]
  },
  {
   "cell_type": "code",
   "execution_count": null,
   "id": "9271d3b0",
   "metadata": {},
   "outputs": [],
   "source": [
    "# 잘 모르겠음...\n",
    "def dfs(row, col, n, visited):\n",
    "    if board_list[row][col]==\"G\":\n",
    "        return n\n",
    "    else:\n",
    "        visitied[row][col]=1\n",
    "        \n",
    "        for idx in range(4):\n",
    "            new_visit = copy.deepcopy(visited)\n",
    "            while True:\n",
    "                new_col = col+dy[idx]\n",
    "                new_row = row+dx[idx]\n",
    "                \n",
    "                # 만약 board 안이고 새로운 좌표가 장애물이 아니라면\n",
    "                if 0<=new_col<cols and 0<new_row<rows:\n",
    "                    if board_list[new_row][new_col]!=\"D\":\n",
    "                        # 이전에 방문한 적이 없는 곳이어야 함\n",
    "                        if new_visit[new_row][new_col]!=1:\n",
    "                            new_visit[new_row][new_col]=1\n",
    "                            \n",
    "                # 만약 범위에서 벗어난다면?\n",
    "                elif new_col<0 or new_col>=cols or new_row<0 or new_row>=row:\n",
    "                    if visited[new_row][new_col]!=1:\n",
    "                        new_visit[new_row][new_col] = 1\n",
    "                        dfs(col, row,n+1)\n",
    "                        "
   ]
  },
  {
   "cell_type": "code",
   "execution_count": null,
   "id": "0074f3c5",
   "metadata": {},
   "outputs": [],
   "source": [
    "# 답 참고\n",
    "from collections import deque\n",
    "def solution(board):\n",
    "    answer = -1\n",
    "    n, m = len(board), len(board[0])\n",
    "    direction = [(0, 1), (0, -1), (1, 0), (-1, 0)]\n",
    "    visited = [[False]*m for _ in range(n)]\n",
    "    q = deque()\n",
    "    \n",
    "    for x in range(n):\n",
    "        for y in range(m):\n",
    "            if board[x][y] == \"R\":\n",
    "                sx, sy = x, y\n",
    "    \n",
    "    q.append((sx, sy, 0))\n",
    "    \n",
    "    while q:\n",
    "        x, y, level = q.popleft()\n",
    "        \n",
    "        if board[x][y] == \"G\":\n",
    "            answer = level\n",
    "            break\n",
    "        \n",
    "        # 한방향으로 미끄러져 이동\n",
    "        for dx, dy in direction:\n",
    "            scope = 1\n",
    "            while 1:\n",
    "                nx, ny = x+dx*scope, y+dy*scope\n",
    "                if nx < 0 or nx >= n or ny < 0 or ny >= m or board[nx][ny] == \"D\":\n",
    "                    if visited[nx-dx][ny-dy] == False:\n",
    "                        visited[nx-dx][ny-dy] = True\n",
    "                        q.append((nx-dx, ny-dy, level+1))\n",
    "\n",
    "                    break\n",
    "                scope += 1\n",
    "    return answer"
   ]
  },
  {
   "cell_type": "markdown",
   "id": "f481a207",
   "metadata": {},
   "source": [
    "# 1842 : 함께 블록 쌓기\n",
    "- 난이도 : 골드4\n",
    "- 시간 제한 : 1초\n",
    "- 메모리 제한 : 256MB"
   ]
  },
  {
   "cell_type": "code",
   "execution_count": 19,
   "id": "acdfb429",
   "metadata": {},
   "outputs": [
    {
     "name": "stdout",
     "output_type": "stream",
     "text": [
      "3 3 5\n"
     ]
    }
   ],
   "source": [
    "# dp\n",
    "N, M, H = map(int, input().split())\n",
    "boxes = [list(map(int, input().split())) for _ in range(N) ]\n",
    "\n",
    "dp = [0]*(H+1)\n",
    "for box in boxes:\n",
    "    for idx in range(H, 0, -1):\n",
    "        if not dp[idx]:\n",
    "            continue\n",
    "        for num in box:\n",
    "            if idx+num>H:\n",
    "                continue\n",
    "            dp[idx+num]+=dp[idx]\n",
    "    for num in box:\n",
    "        dp[num]+=1\n",
    "        \n",
    "print(dp[-1]%10007)"
   ]
  },
  {
   "cell_type": "code",
   "execution_count": 17,
   "id": "1cec50b3",
   "metadata": {},
   "outputs": [
    {
     "name": "stdout",
     "output_type": "stream",
     "text": [
      "초기 세팅 :  [0, 0, 1, 0, 0, 0]\n",
      "초기 세팅 :  [0, 0, 1, 1, 0, 0]\n",
      "초기 세팅 :  [0, 0, 1, 1, 0, 1]\n",
      "추가적 경우의 수 : idx-2, num-3, [0, 0, 1, 1, 0, 2] \n",
      "\n",
      "초기 세팅 :  [0, 0, 1, 2, 0, 2]\n",
      "초기 세팅 :  [0, 0, 1, 2, 0, 3]\n",
      "추가적 경우의 수 : idx-3, num-1, [0, 0, 1, 2, 2, 3] \n",
      "\n",
      "추가적 경우의 수 : idx-3, num-2, [0, 0, 1, 2, 2, 5] \n",
      "\n",
      "추가적 경우의 수 : idx-2, num-1, [0, 0, 1, 3, 2, 5] \n",
      "\n",
      "추가적 경우의 수 : idx-2, num-2, [0, 0, 1, 3, 3, 5] \n",
      "\n",
      "추가적 경우의 수 : idx-2, num-3, [0, 0, 1, 3, 3, 6] \n",
      "\n",
      "초기 세팅 :  [0, 1, 1, 3, 3, 6]\n",
      "초기 세팅 :  [0, 1, 2, 3, 3, 6]\n",
      "초기 세팅 :  [0, 1, 2, 4, 3, 6]\n"
     ]
    }
   ],
   "source": [
    "dp = [0]*(H+1)\n",
    "for box in boxes:\n",
    "    for idx in range(H, 0 ,-1):\n",
    "        # 초기에 세팅을 하니까 스킵!\n",
    "        if not dp[idx]:\n",
    "#             print(idx)\n",
    "#             print(dp[idx])\n",
    "#             print(dp)\n",
    "#             print()\n",
    "            continue\n",
    "        for num in box:\n",
    "            if idx+num>H:\n",
    "                continue\n",
    "            dp[idx+num]+=dp[idx]\n",
    "            print(f\"추가적 경우의 수 : idx-{idx}, num-{num}, {dp} \")\n",
    "            print()\n",
    "    # 초기 세팅\n",
    "    for num in box:\n",
    "        dp[num]+=1\n",
    "        print(\"초기 세팅 : \", dp)"
   ]
  },
  {
   "cell_type": "code",
   "execution_count": 18,
   "id": "8e8b609a",
   "metadata": {},
   "outputs": [
    {
     "name": "stdout",
     "output_type": "stream",
     "text": [
      "초기 세팅 :  [0, 0, 1, 0, 0, 0]\n",
      "초기 세팅 :  [0, 0, 1, 1, 0, 0]\n",
      "초기 세팅 :  [0, 0, 1, 1, 0, 1]\n",
      "추가적 경우의 수 : idx-2, num-3, [0, 0, 1, 1, 0, 2] \n",
      "\n",
      "초기 세팅 :  [0, 0, 1, 2, 0, 2]\n",
      "초기 세팅 :  [0, 0, 1, 2, 0, 3]\n",
      "추가적 경우의 수 : idx-2, num-1, [0, 0, 1, 3, 0, 3] \n",
      "\n",
      "추가적 경우의 수 : idx-2, num-2, [0, 0, 1, 3, 1, 3] \n",
      "\n",
      "추가적 경우의 수 : idx-2, num-3, [0, 0, 1, 3, 1, 4] \n",
      "\n",
      "추가적 경우의 수 : idx-3, num-1, [0, 0, 1, 3, 4, 4] \n",
      "\n",
      "추가적 경우의 수 : idx-3, num-2, [0, 0, 1, 3, 4, 7] \n",
      "\n",
      "추가적 경우의 수 : idx-4, num-1, [0, 0, 1, 3, 4, 11] \n",
      "\n",
      "초기 세팅 :  [0, 1, 1, 3, 4, 11]\n",
      "초기 세팅 :  [0, 1, 2, 3, 4, 11]\n",
      "초기 세팅 :  [0, 1, 2, 4, 4, 11]\n"
     ]
    }
   ],
   "source": [
    "dp = [0]*(H+1)\n",
    "for box in boxes:\n",
    "    for idx in range(H):\n",
    "        if not dp[idx]:\n",
    "#             print(idx)\n",
    "#             print(dp[idx])\n",
    "#             print(dp)\n",
    "#             print()\n",
    "            continue\n",
    "        for num in box:\n",
    "            if idx+num>H:\n",
    "                continue\n",
    "            dp[idx+num]+=dp[idx]\n",
    "            print(f\"추가적 경우의 수 : idx-{idx}, num-{num}, {dp} \")\n",
    "            print()\n",
    "    for num in box:\n",
    "        dp[num]+=1\n",
    "        print(\"초기 세팅 : \", dp)"
   ]
  },
  {
   "cell_type": "code",
   "execution_count": 3,
   "id": "04c7caa4",
   "metadata": {},
   "outputs": [
    {
     "name": "stdout",
     "output_type": "stream",
     "text": [
      "3 3 5\n",
      "2 3 5\n",
      "3 5\n",
      "1 2 3\n",
      "6\n"
     ]
    }
   ],
   "source": [
    "# dfs : 시간 초과\n",
    "import sys\n",
    "input = sys.stdin.readline\n",
    "n, m, h = map(int, input().split())\n",
    "block = []\n",
    "for _ in range(n):\n",
    "    temp = list(map(int, input().split()))\n",
    "    temp = [0]+temp\n",
    "    block.append(temp)\n",
    "answer = 0\n",
    "def dfs(row, block, temp_list):\n",
    "    global answer\n",
    "    if sum(temp_list)>h:\n",
    "#         print(\"제외\", temp_list)\n",
    "        return\n",
    "    elif row==len(block) and sum(temp_list)==h:\n",
    "#         print(\"이거닷\", temp_list)\n",
    "        answer+=1\n",
    "        return answer\n",
    "    \n",
    "    elif row<len(block) and sum(temp_list)<=h:\n",
    "        for i in block[row]:\n",
    "            new_temp_list = temp_list[:]\n",
    "            new_temp_list.append(i)\n",
    "#             print('진행중',new_temp_list)\n",
    "#             print(new_temp_list)\n",
    "            dfs(row+1, block, new_temp_list)\n",
    "dfs(0, block, [])\n",
    "print(answer%10007)"
   ]
  },
  {
   "cell_type": "code",
   "execution_count": 51,
   "id": "fbdef0fd",
   "metadata": {},
   "outputs": [
    {
     "name": "stdout",
     "output_type": "stream",
     "text": [
      "6\n"
     ]
    }
   ],
   "source": [
    "answer = 0\n",
    "def dfs(row, block, temp_list):\n",
    "    global answer\n",
    "    if sum(temp_list)>h:\n",
    "#         print(\"제외\", temp_list)\n",
    "        return\n",
    "    elif row==len(block) and sum(temp_list)==h:\n",
    "#         print(\"이거닷\", temp_list)\n",
    "        answer+=1\n",
    "        return answer\n",
    "    \n",
    "    elif row<len(block) and sum(temp_list)<=h:\n",
    "        for i in block[row]:\n",
    "            new_temp_list = temp_list[:]\n",
    "            new_temp_list.append(i)\n",
    "#             print('진행중',new_temp_list)\n",
    "#             print(new_temp_list)\n",
    "            dfs(row+1, block, new_temp_list)\n",
    "dfs(0, block, [])\n",
    "print(answer)"
   ]
  },
  {
   "cell_type": "code",
   "execution_count": 48,
   "id": "e65fa049",
   "metadata": {},
   "outputs": [
    {
     "name": "stdout",
     "output_type": "stream",
     "text": [
      "진행중 [0]\n",
      "진행중 [0, 0]\n",
      "진행중 [0, 0, 0]\n",
      "진행중 [0, 0, 1]\n",
      "진행중 [0, 0, 2]\n",
      "진행중 [0, 0, 3]\n",
      "진행중 [0, 3]\n",
      "진행중 [0, 3, 0]\n",
      "진행중 [0, 3, 1]\n",
      "진행중 [0, 3, 2]\n",
      "이거닷 [0, 3, 2]\n",
      "진행중 [0, 3, 3]\n",
      "제외 [0, 3, 3]\n",
      "진행중 [0, 5]\n",
      "진행중 [0, 5, 0]\n",
      "이거닷 [0, 5, 0]\n",
      "진행중 [0, 5, 1]\n",
      "제외 [0, 5, 1]\n",
      "진행중 [0, 5, 2]\n",
      "제외 [0, 5, 2]\n",
      "진행중 [0, 5, 3]\n",
      "제외 [0, 5, 3]\n",
      "진행중 [2]\n",
      "진행중 [2, 0]\n",
      "진행중 [2, 0, 0]\n",
      "진행중 [2, 0, 1]\n",
      "진행중 [2, 0, 2]\n",
      "진행중 [2, 0, 3]\n",
      "이거닷 [2, 0, 3]\n",
      "진행중 [2, 3]\n",
      "진행중 [2, 3, 0]\n",
      "이거닷 [2, 3, 0]\n",
      "진행중 [2, 3, 1]\n",
      "제외 [2, 3, 1]\n",
      "진행중 [2, 3, 2]\n",
      "제외 [2, 3, 2]\n",
      "진행중 [2, 3, 3]\n",
      "제외 [2, 3, 3]\n",
      "진행중 [2, 5]\n",
      "제외 [2, 5]\n",
      "진행중 [3]\n",
      "진행중 [3, 0]\n",
      "진행중 [3, 0, 0]\n",
      "진행중 [3, 0, 1]\n",
      "진행중 [3, 0, 2]\n",
      "이거닷 [3, 0, 2]\n",
      "진행중 [3, 0, 3]\n",
      "제외 [3, 0, 3]\n",
      "진행중 [3, 3]\n",
      "제외 [3, 3]\n",
      "진행중 [3, 5]\n",
      "제외 [3, 5]\n",
      "진행중 [5]\n",
      "진행중 [5, 0]\n",
      "진행중 [5, 0, 0]\n",
      "이거닷 [5, 0, 0]\n",
      "진행중 [5, 0, 1]\n",
      "제외 [5, 0, 1]\n",
      "진행중 [5, 0, 2]\n",
      "제외 [5, 0, 2]\n",
      "진행중 [5, 0, 3]\n",
      "제외 [5, 0, 3]\n",
      "진행중 [5, 3]\n",
      "제외 [5, 3]\n",
      "진행중 [5, 5]\n",
      "제외 [5, 5]\n"
     ]
    }
   ],
   "source": [
    "dfs(0, block, [])"
   ]
  },
  {
   "cell_type": "code",
   "execution_count": null,
   "id": "6075005d",
   "metadata": {},
   "outputs": [],
   "source": []
  },
  {
   "cell_type": "code",
   "execution_count": null,
   "id": "c720654e",
   "metadata": {},
   "outputs": [],
   "source": []
  }
 ],
 "metadata": {
  "kernelspec": {
   "display_name": "Python 3 (ipykernel)",
   "language": "python",
   "name": "python3"
  },
  "language_info": {
   "codemirror_mode": {
    "name": "ipython",
    "version": 3
   },
   "file_extension": ".py",
   "mimetype": "text/x-python",
   "name": "python",
   "nbconvert_exporter": "python",
   "pygments_lexer": "ipython3",
   "version": "3.11.5"
  }
 },
 "nbformat": 4,
 "nbformat_minor": 5
}
