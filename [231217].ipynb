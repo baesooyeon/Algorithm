{
 "cells": [
  {
   "cell_type": "markdown",
   "id": "223df588",
   "metadata": {},
   "source": [
    "# 17144 : 미세먼지 안녕!"
   ]
  },
  {
   "cell_type": "markdown",
   "id": "a4d398a0",
   "metadata": {},
   "source": [
    "- 문제 링크 : https://www.acmicpc.net/problem/17144\n",
    "- 문제 난이도 : 골드 4\n",
    "- 시간 제한 : 1초\n",
    "- 메모리 제한 : 512MB"
   ]
  },
  {
   "cell_type": "markdown",
   "id": "d14d3eb7",
   "metadata": {},
   "source": [
    "# 프로그래머스 : 롤케이크 자르기"
   ]
  },
  {
   "cell_type": "markdown",
   "id": "6e79ded9",
   "metadata": {},
   "source": [
    "- 문제 링크 : https://school.programmers.co.kr/learn/courses/30/lessons/132265\n",
    "- 난이도 : Lv.2(56%)"
   ]
  },
  {
   "cell_type": "code",
   "execution_count": null,
   "id": "33276927",
   "metadata": {},
   "outputs": [],
   "source": [
    "# 답 >> 근데 다른건 왜 안되는지 이해가 안됨...;\n",
    "# for문을 돌리기 전에 애초에 set으로 바꿔버려야 한다.\n",
    "from collections import Counter\n",
    "def solution(topping):\n",
    "    topping_cnt = Counter(topping)\n",
    "    brother = set()\n",
    "\n",
    "    answer = 0\n",
    "    for i in topping:\n",
    "        topping_cnt[i]-=1\n",
    "        brother.add(i)\n",
    "        if topping_cnt[i]==0:\n",
    "            topping_cnt.pop(i)\n",
    "\n",
    "        if len(brother)==len(topping_cnt):\n",
    "            answer+=1\n",
    "    return answer"
   ]
  },
  {
   "cell_type": "code",
   "execution_count": null,
   "id": "a416372f",
   "metadata": {},
   "outputs": [],
   "source": [
    "# 시간초과\n",
    "def solution(topping):\n",
    "    temp1 = [False]*10001\n",
    "    temp2 = [False]*10001\n",
    "    temp1_cnt = [0]*10001\n",
    "    temp2_cnt = [0]*10001\n",
    "\n",
    "    # 초기 세팅\n",
    "    for top in topping :\n",
    "        temp2_cnt[top]+=1\n",
    "        temp2[top] = True\n",
    "\n",
    "    answer = 0\n",
    "    for i in topping:\n",
    "        temp1_cnt[i]+=1\n",
    "        temp2_cnt[i]-=1\n",
    "\n",
    "        if temp1_cnt[i]>0 and temp1[i] ==False:\n",
    "            temp1[i]=True\n",
    "\n",
    "        if temp2_cnt[i]==0 and temp2[i]==True:\n",
    "            temp2[i]=False\n",
    "        # sum > 시간복잡도 O(n)\n",
    "        if sum(temp1)== sum(temp2):\n",
    "            answer+=1\n",
    "    return answer"
   ]
  },
  {
   "cell_type": "code",
   "execution_count": 14,
   "id": "583d0db3",
   "metadata": {},
   "outputs": [],
   "source": [
    "# 시간 초과\n",
    "def solution(topping):\n",
    "    answer = 0\n",
    "    for idx in range(len(topping)):\n",
    "        temp1 = topping[:idx]\n",
    "        temp2 = topping[idx:]\n",
    "        if len(list(set(temp1)))==len(list(set(temp2))):\n",
    "            answer+=1\n",
    "    return answer\n"
   ]
  },
  {
   "cell_type": "code",
   "execution_count": null,
   "id": "c7e7f395",
   "metadata": {},
   "outputs": [],
   "source": [
    "# 시간 초과\n",
    "def solution(topping):\n",
    "    topping = deque([1, 2, 1, 3, 1, 4, 1, 2])\n",
    "    aa = defaultdict(list)\n",
    "    aa[\"topping\"] = topping\n",
    "    aa[\"stack\"] = []\n",
    "\n",
    "    answer = 0\n",
    "    while aa[\"topping\"]:\n",
    "        aa[\"stack\"].append(aa[\"topping\"].popleft())\n",
    "        # list>set O(n)의 시간복잡도를 가진다.\n",
    "        stack_cnt = len(set(aa[\"stack\"]))\n",
    "        topping_cnt = len(set(aa[\"topping\"]))\n",
    "        if stack_cnt == topping_cnt:\n",
    "            answer+=1\n",
    "    return answer"
   ]
  },
  {
   "cell_type": "code",
   "execution_count": null,
   "id": "0b68d126",
   "metadata": {},
   "outputs": [],
   "source": []
  },
  {
   "cell_type": "code",
   "execution_count": null,
   "id": "ce7bcd33",
   "metadata": {},
   "outputs": [],
   "source": []
  },
  {
   "cell_type": "code",
   "execution_count": null,
   "id": "1a5d3da2",
   "metadata": {},
   "outputs": [],
   "source": []
  },
  {
   "cell_type": "code",
   "execution_count": null,
   "id": "dd280297",
   "metadata": {},
   "outputs": [],
   "source": []
  },
  {
   "cell_type": "code",
   "execution_count": null,
   "id": "ca720d5d",
   "metadata": {},
   "outputs": [],
   "source": []
  },
  {
   "cell_type": "code",
   "execution_count": null,
   "id": "6016539c",
   "metadata": {},
   "outputs": [],
   "source": []
  },
  {
   "cell_type": "code",
   "execution_count": null,
   "id": "aaf8beeb",
   "metadata": {},
   "outputs": [],
   "source": []
  },
  {
   "cell_type": "code",
   "execution_count": null,
   "id": "1a02c3ca",
   "metadata": {},
   "outputs": [],
   "source": []
  },
  {
   "cell_type": "code",
   "execution_count": null,
   "id": "7f9d3060",
   "metadata": {},
   "outputs": [],
   "source": []
  },
  {
   "cell_type": "code",
   "execution_count": null,
   "id": "405969e2",
   "metadata": {},
   "outputs": [],
   "source": []
  },
  {
   "cell_type": "code",
   "execution_count": null,
   "id": "6f04413d",
   "metadata": {},
   "outputs": [],
   "source": []
  },
  {
   "cell_type": "code",
   "execution_count": null,
   "id": "1a91b1ad",
   "metadata": {},
   "outputs": [],
   "source": []
  },
  {
   "cell_type": "code",
   "execution_count": null,
   "id": "bb63d3e7",
   "metadata": {},
   "outputs": [],
   "source": []
  }
 ],
 "metadata": {
  "kernelspec": {
   "display_name": "Python 3 (ipykernel)",
   "language": "python",
   "name": "python3"
  },
  "language_info": {
   "codemirror_mode": {
    "name": "ipython",
    "version": 3
   },
   "file_extension": ".py",
   "mimetype": "text/x-python",
   "name": "python",
   "nbconvert_exporter": "python",
   "pygments_lexer": "ipython3",
   "version": "3.11.4"
  }
 },
 "nbformat": 4,
 "nbformat_minor": 5
}
