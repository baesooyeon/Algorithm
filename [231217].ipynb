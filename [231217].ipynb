{
 "cells": [
  {
   "cell_type": "code",
   "execution_count": 2,
   "metadata": {
    "ExecuteTime": {
     "end_time": "2023-12-16T10:18:22.764502Z",
     "start_time": "2023-12-16T10:18:22.744550Z"
    }
   },
   "outputs": [
    {
     "data": {
      "text/html": [
       "<style>.container {width:95% !important ; }</style>"
      ],
      "text/plain": [
       "<IPython.core.display.HTML object>"
      ]
     },
     "metadata": {},
     "output_type": "display_data"
    }
   ],
   "source": [
    "from IPython.display import display,HTML\n",
    "display(HTML(\"<style>.container {width:95% !important ; }</style>\"))"
   ]
  },
  {
   "cell_type": "markdown",
   "metadata": {},
   "source": [
    "# 17144 : 미세먼지 안녕!"
   ]
  },
  {
   "cell_type": "markdown",
   "metadata": {},
   "source": [
    "- 문제 링크 : https://www.acmicpc.net/problem/17144\n",
    "- 문제 난이도 : 골드 4\n",
    "- 시간 제한 : 1초\n",
    "- 메모리 제한 : 512MB"
   ]
  },
  {
   "cell_type": "code",
   "execution_count": 6,
   "metadata": {
    "ExecuteTime": {
     "end_time": "2023-12-16T12:21:10.838545Z",
     "start_time": "2023-12-16T12:20:37.364906Z"
    }
   },
   "outputs": [
    {
     "name": "stdout",
     "output_type": "stream",
     "text": [
      "0 0 0 0 0 0 0 9\n",
      "0 0 0 0 3 0 0 8\n",
      "-1 0 5 0 0 0 22 0\n",
      "-1 8 0 0 0 0 0 0\n",
      "0 0 0 0 0 10 43 0\n",
      "0 0 5 0 15 0 0 0\n",
      "0 0 40 0 0 0 20 0\n"
     ]
    }
   ],
   "source": [
    "# 정답!(내가 풂...)\n",
    "import sys\n",
    "# input = sys.stdin.readline\n",
    "\n",
    "\n",
    "# 모든 값 넣기\n",
    "r, c, t = map(int, input().split(\" \"))\n",
    "dust = [[int(i) for i in input().split(\" \")] for _ in range(r)]\n",
    "\n",
    "# 함수만들기\n",
    "def solution(r,c, dust):\n",
    "    finedust=[]\n",
    "    purifier = []\n",
    "    for row in range(r):\n",
    "        for col in range(c):\n",
    "            if dust[row][col]!=0 and dust[row][col]!=-1:\n",
    "                finedust.append([(row, col), dust[row][col]])\n",
    "            # 공기청정기\n",
    "            elif dust[row][col] ==-1:\n",
    "                purifier.append([row, col])\n",
    "    newdust = [[0 for i in range(c)] for _ in range(r)]\n",
    "\n",
    "    # 방향키 순서 오>위>왼>아\n",
    "    # 위 청정기 > 0부터 시작\n",
    "    # 아래 청정기 > 2부터 시작\n",
    "    dy = [1,0,-1,0]\n",
    "    dx = [0,-1,0,1]\n",
    "\n",
    "    # 미세먼지 확장\n",
    "    for i in finedust:\n",
    "        row = i[0][0]\n",
    "        col = i[0][1]\n",
    "        temp = i[1]//5\n",
    "        for idx in range(4):\n",
    "            newr = row+dy[idx]\n",
    "            newc = col+dx[idx]\n",
    "            if 0<=newr<r and 0<=newc<c and dust[newr][newc]!=-1:\n",
    "                newdust[newr][newc]+=temp\n",
    "                i[1] -=temp\n",
    "        newdust[row][col] += i[1]\n",
    "\n",
    "    # 공기청정기\n",
    "    for purifier_idx in range(len(purifier)):\n",
    "        direction = 0\n",
    "        # 윗칸의 공기청정기\n",
    "        if purifier_idx==1:\n",
    "            # 방향키 오>아>왼>위\n",
    "            dy = [1,0,-1,0]\n",
    "            dx = [0,1,0,-1]\n",
    "\n",
    "        # 현재 좌표\n",
    "        row = purifier[purifier_idx][0]\n",
    "        col = purifier[purifier_idx][1]\n",
    "        \n",
    "        now = newdust[row][col]\n",
    "        newdust[row][col]=-1\n",
    "\n",
    "        while True:\n",
    "            newr = row+dx[direction]\n",
    "            newc = col+dy[direction]\n",
    "\n",
    "            if newr == purifier[purifier_idx][0] and newc == purifier[purifier_idx][1]:\n",
    "                break\n",
    "\n",
    "            if newr<0 or r<=newr or newc<0 or c<=newc:\n",
    "                direction+=1\n",
    "                newr = row+dx[direction]\n",
    "                newc = col+dy[direction]\n",
    "\n",
    "            # 값업데이트\n",
    "            new = newdust[newr][newc]\n",
    "            newdust[newr][newc] = now\n",
    "            now = new\n",
    "\n",
    "            # \n",
    "            row = newr\n",
    "            col = newc\n",
    "            \n",
    "    return newdust\n",
    "    \n",
    "for _ in range(t):\n",
    "    dust = solution(r,c,dust)\n",
    "\n",
    "answer = 0\n",
    "for i in dust:\n",
    "    answer+=sum(i)\n",
    "print(answer+2)    "
   ]
  },
  {
   "cell_type": "markdown",
   "metadata": {},
   "source": [
    "# 프로그래머스 : 롤케이크 자르기"
   ]
  },
  {
   "cell_type": "markdown",
   "metadata": {},
   "source": [
    "- 문제 링크 : https://school.programmers.co.kr/learn/courses/30/lessons/132265\n",
    "- 난이도 : Lv.2(56%)"
   ]
  },
  {
   "cell_type": "code",
   "execution_count": null,
   "metadata": {},
   "outputs": [],
   "source": [
    "# 답 >> 근데 다른건 왜 안되는지 이해가 안됨...;\n",
    "# for문을 돌리기 전에 애초에 set으로 바꿔버려야 한다.\n",
    "from collections import Counter\n",
    "def solution(topping):\n",
    "    topping_cnt = Counter(topping)\n",
    "    brother = set()\n",
    "\n",
    "    answer = 0\n",
    "    for i in topping:\n",
    "        topping_cnt[i]-=1\n",
    "        brother.add(i)\n",
    "        if topping_cnt[i]==0:\n",
    "            topping_cnt.pop(i)\n",
    "\n",
    "        if len(brother)==len(topping_cnt):\n",
    "            answer+=1\n",
    "    return answer"
   ]
  },
  {
   "cell_type": "code",
   "execution_count": null,
   "metadata": {},
   "outputs": [],
   "source": [
    "# 시간초과\n",
    "def solution(topping):\n",
    "    temp1 = [False]*10001\n",
    "    temp2 = [False]*10001\n",
    "    temp1_cnt = [0]*10001\n",
    "    temp2_cnt = [0]*10001\n",
    "\n",
    "    # 초기 세팅\n",
    "    for top in topping :\n",
    "        temp2_cnt[top]+=1\n",
    "        temp2[top] = True\n",
    "\n",
    "    answer = 0\n",
    "    for i in topping:\n",
    "        temp1_cnt[i]+=1\n",
    "        temp2_cnt[i]-=1\n",
    "\n",
    "        if temp1_cnt[i]>0 and temp1[i] ==False:\n",
    "            temp1[i]=True\n",
    "\n",
    "        if temp2_cnt[i]==0 and temp2[i]==True:\n",
    "            temp2[i]=False\n",
    "        # sum > 시간복잡도 O(n)\n",
    "        if sum(temp1)== sum(temp2):\n",
    "            answer+=1\n",
    "    return answer"
   ]
  },
  {
   "cell_type": "code",
   "execution_count": 14,
   "metadata": {},
   "outputs": [],
   "source": [
    "# 시간 초과\n",
    "def solution(topping):\n",
    "    answer = 0\n",
    "    for idx in range(len(topping)):\n",
    "        temp1 = topping[:idx]\n",
    "        temp2 = topping[idx:]\n",
    "        if len(list(set(temp1)))==len(list(set(temp2))):\n",
    "            answer+=1\n",
    "    return answer\n"
   ]
  },
  {
   "cell_type": "code",
   "execution_count": null,
   "metadata": {},
   "outputs": [],
   "source": [
    "# 시간 초과\n",
    "def solution(topping):\n",
    "    topping = deque([1, 2, 1, 3, 1, 4, 1, 2])\n",
    "    aa = defaultdict(list)\n",
    "    aa[\"topping\"] = topping\n",
    "    aa[\"stack\"] = []\n",
    "\n",
    "    answer = 0\n",
    "    while aa[\"topping\"]:\n",
    "        aa[\"stack\"].append(aa[\"topping\"].popleft())\n",
    "        # list>set O(n)의 시간복잡도를 가진다.\n",
    "        stack_cnt = len(set(aa[\"stack\"]))\n",
    "        topping_cnt = len(set(aa[\"topping\"]))\n",
    "        if stack_cnt == topping_cnt:\n",
    "            answer+=1\n",
    "    return answer"
   ]
  },
  {
   "cell_type": "code",
   "execution_count": null,
   "metadata": {},
   "outputs": [],
   "source": []
  },
  {
   "cell_type": "markdown",
   "metadata": {},
   "source": [
    "# 프로그래머스 : 우박수열 정적분"
   ]
  },
  {
   "cell_type": "markdown",
   "metadata": {},
   "source": [
    "- 문제 링크 : https://school.programmers.co.kr/learn/courses/30/lessons/134239?language=python3\n",
    "- 난이도 : Lv.2(40%)\n",
    "- 문제 분류 : 구현"
   ]
  },
  {
   "cell_type": "code",
   "execution_count": null,
   "metadata": {},
   "outputs": [],
   "source": [
    "### 답\n",
    "def solution(k, ranges):\n",
    "    stack = [k]\n",
    "    width = []\n",
    "    result = []\n",
    "    \n",
    "    # 넓이 구현\n",
    "    while k!=1:\n",
    "        # 짝수일 때\n",
    "        if k%2 ==0:\n",
    "            k//=2\n",
    "        # 홀수일 때\n",
    "        else :\n",
    "            k = 3*k+1\n",
    "\n",
    "        width.append((stack[-1]+k)/2)\n",
    "        stack.append(k)\n",
    "        \n",
    "    for i in ranges:\n",
    "        i[1] = len(width)+i[1]\n",
    "        if i[0]<=i[1]:\n",
    "            result.append(float(sum(width[i[0]:i[1]])))\n",
    "        else:\n",
    "            result.append(float(-1))\n",
    "            \n",
    "    return result"
   ]
  },
  {
   "cell_type": "code",
   "execution_count": 3,
   "metadata": {
    "ExecuteTime": {
     "end_time": "2023-12-16T10:50:18.857983Z",
     "start_time": "2023-12-16T10:50:18.834079Z"
    }
   },
   "outputs": [
    {
     "data": {
      "text/plain": [
       "[47.0, 36.0, 12.0]"
      ]
     },
     "execution_count": 3,
     "metadata": {},
     "output_type": "execute_result"
    }
   ],
   "source": [
    "solution(k, ranges)"
   ]
  },
  {
   "cell_type": "code",
   "execution_count": null,
   "metadata": {},
   "outputs": [],
   "source": []
  },
  {
   "cell_type": "code",
   "execution_count": null,
   "metadata": {},
   "outputs": [],
   "source": []
  },
  {
   "cell_type": "code",
   "execution_count": null,
   "metadata": {},
   "outputs": [],
   "source": []
  },
  {
   "cell_type": "code",
   "execution_count": null,
   "metadata": {},
   "outputs": [],
   "source": []
  },
  {
   "cell_type": "code",
   "execution_count": null,
   "metadata": {},
   "outputs": [],
   "source": []
  },
  {
   "cell_type": "code",
   "execution_count": null,
   "metadata": {},
   "outputs": [],
   "source": []
  }
 ],
 "metadata": {
  "kernelspec": {
   "display_name": "Python 3",
   "language": "python",
   "name": "python3"
  },
  "language_info": {
   "codemirror_mode": {
    "name": "ipython",
    "version": 3
   },
   "file_extension": ".py",
   "mimetype": "text/x-python",
   "name": "python",
   "nbconvert_exporter": "python",
   "pygments_lexer": "ipython3",
   "version": "3.8.3"
  },
  "toc": {
   "base_numbering": 1,
   "nav_menu": {},
   "number_sections": true,
   "sideBar": true,
   "skip_h1_title": false,
   "title_cell": "Table of Contents",
   "title_sidebar": "Contents",
   "toc_cell": false,
   "toc_position": {},
   "toc_section_display": true,
   "toc_window_display": false
  }
 },
 "nbformat": 4,
 "nbformat_minor": 5
}
