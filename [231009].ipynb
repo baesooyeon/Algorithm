{
 "cells": [
  {
   "cell_type": "markdown",
   "metadata": {},
   "source": [
    "# 프로그래머스 : [3차]압축"
   ]
  },
  {
   "cell_type": "markdown",
   "metadata": {},
   "source": [
    "- 문제 링크 : https://school.programmers.co.kr/learn/courses/30/lessons/17684\n",
    "- 정답률 : 59%"
   ]
  },
  {
   "cell_type": "code",
   "execution_count": 53,
   "metadata": {},
   "outputs": [],
   "source": [
    "# 답\n",
    "def solution(msg):\n",
    "\n",
    "    msg = list(msg)\n",
    "\n",
    "    # 딕셔너리 셋팅\n",
    "    alphabet = \"ABCDEFGHIJKLMNOPQRSTUVWXYZ\"\n",
    "    alpha_dict = {}\n",
    "    for i, j in enumerate(alphabet):\n",
    "        alpha_dict[j] =i+1\n",
    "    answer = []\n",
    "\n",
    "    k = 0\n",
    "\n",
    "\n",
    "    while msg:\n",
    "        # 딕셔너리 키 값 중 길이가 가장 긴 값과 msg의 남아있는 값의 길이 중 최솟값을 k로 둔다.\n",
    "        k = min(len(msg), len(max(list(alpha_dict.keys()), key = len)))\n",
    "\n",
    "        while True:\n",
    "\n",
    "            # 만약 최대 길이에 해당하는 값이 딕셔너리의 키값으로 존재하는 경우\n",
    "            if \"\".join(msg[:k]) in alpha_dict.keys():\n",
    "                temp_string = \"\"\n",
    "                for _ in range(k):\n",
    "                    temp_string +=msg.pop(0)\n",
    "\n",
    "                # 키값에 해당하는 value를 answer에 넣는다.\n",
    "                answer.append(alpha_dict[temp_string])\n",
    "\n",
    "                # w+c 딕셔너리에 추가하기(msg에 값이 남아있는 경우만!)\n",
    "                if msg:\n",
    "                    alpha_dict[(temp_string+msg[0])] = len(alpha_dict)+1\n",
    "                break\n",
    "            \n",
    "            # 없는 경우\n",
    "            else:\n",
    "                k-=1\n",
    "    return answer\n",
    "            \n"
   ]
  },
  {
   "cell_type": "code",
   "execution_count": 76,
   "metadata": {},
   "outputs": [
    {
     "name": "stdout",
     "output_type": "stream",
     "text": [
      "예시 msg : ['K', 'A', 'K', 'A', 'O']\n",
      "\n",
      "초반에 정해진 k : 1\n",
      "문자열이 딕셔너리의 키값으로 존재하는 k : 1\n",
      "answer에 넣어지는 문자 : K\n",
      "딕셔너리에 넣어지는 문자 : KA\n",
      "msg상태 : ['A', 'K', 'A', 'O']\n",
      "\n",
      "\n",
      "초반에 정해진 k : 2\n",
      "문자열이 딕셔너리의 키값으로 존재하는 k : 1\n",
      "answer에 넣어지는 문자 : A\n",
      "딕셔너리에 넣어지는 문자 : AK\n",
      "msg상태 : ['K', 'A', 'O']\n",
      "\n",
      "\n",
      "초반에 정해진 k : 2\n",
      "문자열이 딕셔너리의 키값으로 존재하는 k : 2\n",
      "answer에 넣어지는 문자 : KA\n",
      "딕셔너리에 넣어지는 문자 : KAO\n",
      "msg상태 : ['O']\n",
      "\n",
      "\n",
      "초반에 정해진 k : 1\n",
      "문자열이 딕셔너리의 키값으로 존재하는 k : 1\n",
      "answer에 넣어지는 문자 : O\n",
      "msg상태 : []\n",
      "\n",
      "\n"
     ]
    }
   ],
   "source": [
    "# 예시\n",
    "msg = list('KAKAO')\n",
    "\n",
    "# 딕셔너리 셋팅\n",
    "alphabet = \"ABCDEFGHIJKLMNOPQRSTUVWXYZ\"\n",
    "alpha_dict = {}\n",
    "for i, j in enumerate(alphabet):\n",
    "    alpha_dict[j] =i+1\n",
    "answer = []\n",
    "\n",
    "k = 0\n",
    "print(f\"예시 msg : {msg}\")\n",
    "print()\n",
    "while msg:\n",
    "    # 딕셔너리 키 값 중 길이가 가장 긴 값과 msg의 남아있는 값의 길이 중 최솟값을 k로 둔다.\n",
    "    k = min(len(msg), len(max(list(alpha_dict.keys()), key = len)))\n",
    "    print(f\"초반에 정해진 k : {k}\")\n",
    "    while True:\n",
    "\n",
    "        # 만약 최대 길이에 해당하는 값이 딕셔너리의 키값으로 존재하는 경우\n",
    "        if \"\".join(msg[:k]) in alpha_dict.keys():\n",
    "            print(f\"문자열이 딕셔너리의 키값으로 존재하는 k : {k}\")\n",
    "            temp_string = \"\"\n",
    "            for _ in range(k):\n",
    "                temp_string +=msg.pop(0)\n",
    "\n",
    "            # 키값에 해당하는 value를 answer에 넣는다.\n",
    "            answer.append(alpha_dict[temp_string])\n",
    "            print(f\"answer에 넣어지는 문자 : {temp_string}\")\n",
    "\n",
    "            # w+c 딕셔너리에 추가하기(msg에 값이 남아있는 경우만!)\n",
    "            if msg:\n",
    "                alpha_dict[(temp_string+msg[0])] = len(alpha_dict)+1\n",
    "                print(f\"딕셔너리에 넣어지는 문자 : {temp_string+msg[0]}\")\n",
    "            break\n",
    "        \n",
    "        # 없는 경우\n",
    "        else:\n",
    "            k-=1\n",
    "    print(f\"msg상태 : {msg}\")\n",
    "\n",
    "    print()\n",
    "    print()"
   ]
  },
  {
   "cell_type": "markdown",
   "metadata": {},
   "source": [
    "# 14502 : 연구소"
   ]
  },
  {
   "cell_type": "markdown",
   "metadata": {},
   "source": [
    "- 문제 링크 : https://www.acmicpc.net/problem/14502\n",
    "- 난이도 : 골드 4\n",
    "- 시간제한 : 2초\n",
    "- 메모리 제한 : 512MB"
   ]
  },
  {
   "cell_type": "code",
   "execution_count": 4,
   "metadata": {},
   "outputs": [
    {
     "name": "stdout",
     "output_type": "stream",
     "text": [
      "27\n"
     ]
    }
   ],
   "source": [
    "# 답!! >> 나혼자 풂..!!!\n",
    "from itertools import combinations\n",
    "from copy import deepcopy\n",
    "from collections import deque\n",
    "import sys\n",
    "\n",
    "input = sys.stdin.readline\n",
    "\n",
    "\n",
    "n,m = map(int, input().split())\n",
    "virus_org = [[int(i) for i in input().split()] for _ in range(n)]\n",
    "\n",
    "\n",
    "# bfs 함수\n",
    "def bfs(n,m, virus, visited):\n",
    "    dx = [-1,1,0,0]\n",
    "    dy = [0,0,-1,1]\n",
    "\n",
    "    for row in range(n):\n",
    "        for col in range(m):\n",
    "            if virus[row][col]==2:\n",
    "                \n",
    "                start = (row, col)\n",
    "                q = deque([start])\n",
    "\n",
    "                while q:\n",
    "                    y, x = q.popleft()\n",
    "                    for _ in range(4):\n",
    "                        newy = y+dy[_]\n",
    "                        newx = x+dx[_]\n",
    "\n",
    "                        if 0<=newx<m and 0<= newy<n and visited[newy][newx]==0 and virus[newy][newx]==0:\n",
    "                            q.append([newy, newx])\n",
    "                            visited[newy][newx]=1\n",
    "                            virus[newy][newx]=2\n",
    "    return virus\n",
    "\n",
    "\n",
    "\n",
    "# virus값이 0인 인덱스 추출\n",
    "idx = []\n",
    "for row in range(n):\n",
    "    for col in range(m):\n",
    "        if virus_org[row][col] ==0:\n",
    "            idx.append((row, col))\n",
    "\n",
    "            \n",
    "# 1을 표시할 idx 추출\n",
    "idx_one = []\n",
    "for i in combinations(idx, 3):\n",
    "    idx_one.append(i)\n",
    "\n",
    "\n",
    "# answer 정의\n",
    "answer = 0\n",
    "\n",
    "for a in idx_one:\n",
    "\n",
    "    # virus reset\n",
    "    virus = deepcopy(virus_org)\n",
    "\n",
    "    # visited reset\n",
    "    visited = [[0 for _ in range(m)] for _ in range(n)]\n",
    "\n",
    "    # 1 3개 지정해주기\n",
    "    row1, col1 = a[0]\n",
    "    row2, col2 = a[1]\n",
    "    row3, col3 = a[2]\n",
    "\n",
    "    virus[row1][col1] = 1\n",
    "    virus[row2][col2] = 1\n",
    "    virus[row3][col3] = 1\n",
    "    \n",
    "    \n",
    "    virus = bfs(n,m,virus, visited)\n",
    "\n",
    "    # 0의 개수 세기\n",
    "    answer_temp = 0\n",
    "    for row in range(n):\n",
    "        for col in range(m):\n",
    "            if virus[row][col] ==0:\n",
    "                answer_temp+=1\n",
    "    \n",
    "    answer = max(answer, answer_temp)\n",
    "print(answer)"
   ]
  },
  {
   "cell_type": "markdown",
   "metadata": {},
   "source": [
    "# 프로그래머스 : 요격시스템"
   ]
  },
  {
   "cell_type": "markdown",
   "metadata": {},
   "source": [
    "- 문제 링크 : https://school.programmers.co.kr/learn/courses/30/lessons/181188\n",
    "- 난이도 : Lv.2\n",
    "- 정답률 : 34%"
   ]
  },
  {
   "cell_type": "code",
   "execution_count": 1,
   "metadata": {},
   "outputs": [],
   "source": [
    "targets = [[4,5],[4,8],[10,14],[11,13],[5,12],[3,7],[1,4]]"
   ]
  },
  {
   "cell_type": "code",
   "execution_count": 4,
   "metadata": {},
   "outputs": [],
   "source": [
    "# 답! (내가 풂..!)\n",
    "from collections import deque\n",
    "\n",
    "def solution(targets):\n",
    "    targets.sort()\n",
    "    targets = deque(targets)\n",
    "    \n",
    "    k=0\n",
    "    answer = []\n",
    "    while targets:\n",
    "        temp = targets.popleft()\n",
    "        while targets:\n",
    "            if temp[1]<=targets[k][0]:\n",
    "                break\n",
    "            else:\n",
    "                if temp[0]<targets[k][0]:\n",
    "                    temp[0] = targets[k][0]\n",
    "                if temp[1]>targets[k][1]:\n",
    "                    temp[1] = targets[k][1]\n",
    "                targets.popleft()\n",
    "        answer.append(temp)\n",
    "    return len(answer)\n"
   ]
  }
 ],
 "metadata": {
  "kernelspec": {
   "display_name": "base",
   "language": "python",
   "name": "python3"
  },
  "language_info": {
   "codemirror_mode": {
    "name": "ipython",
    "version": 3
   },
   "file_extension": ".py",
   "mimetype": "text/x-python",
   "name": "python",
   "nbconvert_exporter": "python",
   "pygments_lexer": "ipython3",
   "version": "3.8.3"
  }
 },
 "nbformat": 4,
 "nbformat_minor": 2
}
