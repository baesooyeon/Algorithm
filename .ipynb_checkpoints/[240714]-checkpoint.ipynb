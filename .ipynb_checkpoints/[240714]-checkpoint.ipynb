{
 "cells": [
  {
   "cell_type": "markdown",
   "id": "0e1d8aa5",
   "metadata": {},
   "source": [
    "# 1138 : 한 줄로 서기"
   ]
  },
  {
   "cell_type": "code",
   "execution_count": 50,
   "id": "f6915d81",
   "metadata": {},
   "outputs": [
    {
     "name": "stdout",
     "output_type": "stream",
     "text": [
      "6\n",
      "5 4 3 2 1 0\n"
     ]
    }
   ],
   "source": [
    "n = int(input())\n",
    "memory = {key+1 : int(value) for key, value in enumerate(input().split(\" \"))}"
   ]
  },
  {
   "cell_type": "code",
   "execution_count": 2,
   "id": "8ea1b1bc",
   "metadata": {},
   "outputs": [
    {
     "name": "stdout",
     "output_type": "stream",
     "text": [
      "7\n",
      "6 1 1 1 2 0 0\n",
      "6 2 3 4 7 5 1 "
     ]
    }
   ],
   "source": [
    "# 답!\n",
    "n = int(input())\n",
    "memory = {key+1 : int(value) for key, value in enumerate(input().split(\" \"))}\n",
    "\n",
    "answer = []\n",
    "# 왼쪽에 몇명이 있었는지 수에 따른 오름차순, 키의 내림차순을 기준으로 정렬\n",
    "for i,j in sorted(memory.items(), key = lambda x :[x[1], -x[0]]):\n",
    "    # 위치\n",
    "    idx = 0\n",
    "    \n",
    "    # 키가 큰 사람의 수\n",
    "    temp = 0\n",
    "    while True:\n",
    "        # answer가 비어있으면 break\n",
    "        if len(answer)==0:\n",
    "            break\n",
    "        # answer가 비어있지 않은 경우\n",
    "        else:\n",
    "            # 만약 temp가 j와 일치하면(키 큰 사람이 일치) break\n",
    "            if temp == j:\n",
    "                break \n",
    "            else:\n",
    "                if answer[idx]>i:\n",
    "                    temp+=1\n",
    "            idx+=1\n",
    "    answer.insert(idx, i)\n",
    "\n",
    "for i in answer:\n",
    "    print(i, end = \" \")"
   ]
  },
  {
   "cell_type": "markdown",
   "id": "b4df3347",
   "metadata": {},
   "source": [
    "# 5073 : 삼각형과 세 변\n",
    "- 구현"
   ]
  },
  {
   "cell_type": "code",
   "execution_count": 15,
   "id": "5c087db8",
   "metadata": {},
   "outputs": [
    {
     "name": "stdout",
     "output_type": "stream",
     "text": [
      "7 7 7\n",
      "Equilateral\n",
      "6 5 4\n",
      "Scalene\n",
      "3 2 5\n",
      "Invalid\n",
      "6 2 6\n",
      "Isosceles\n",
      "0 0 0\n"
     ]
    }
   ],
   "source": [
    "# 답\n",
    "while True:\n",
    "    triangle = sorted(list(map(int, input().split(\" \"))), reverse=True)\n",
    "    if triangle == [0,0,0]:\n",
    "        break\n",
    "    else:\n",
    "        # 삼각형 조건을 만족하는지 확인\n",
    "        # 만족 X\n",
    "        if triangle[0]>=sum(triangle[1:]):\n",
    "            print(\"Invalid\")\n",
    "        # 만족 O\n",
    "        else:\n",
    "            if len(set(triangle))==3:\n",
    "                print(\"Scalene\")\n",
    "            elif len(set(triangle))==2:\n",
    "                print(\"Isosceles\")\n",
    "            elif len(set(triangle))==1:\n",
    "                print(\"Equilateral\")\n",
    "        "
   ]
  },
  {
   "cell_type": "markdown",
   "id": "8891b426",
   "metadata": {},
   "source": [
    "# 20922 : 겹치는 건 싫어\n",
    "- 문제 유형 : 투포인터"
   ]
  },
  {
   "cell_type": "code",
   "execution_count": null,
   "id": "1747981d",
   "metadata": {},
   "outputs": [],
   "source": [
    "# 투포인터로 풀기 >> 정답!\n",
    "n, k = map(int, input().split(\" \"))\n",
    "\n",
    "sequence = list(map(int, input().split(\" \")))\n",
    "\n",
    "right, left = 0, 0\n",
    "stack = {}\n",
    "max_length = -999999\n",
    "while right < n:\n",
    "    # 값을 stack 딕셔너리에 넣어줌\n",
    "    if sequence[right] not in stack:\n",
    "        stack[sequence[right]] = 0\n",
    "        \n",
    "    if stack[sequence[right]]!=k:\n",
    "        stack[sequence[right]]+=1\n",
    "        right+=1\n",
    "    \n",
    "    else:\n",
    "        stack[sequence[left]]-=1\n",
    "        left+=1\n",
    "        \n",
    "    max_length = max(max_length, right - left)\n",
    "    \n",
    "print(max_length)"
   ]
  },
  {
   "cell_type": "code",
   "execution_count": 3,
   "id": "491f3d66",
   "metadata": {},
   "outputs": [
    {
     "name": "stdout",
     "output_type": "stream",
     "text": [
      "10 1\n",
      "1 2 3 4 5 6 6 7 8 9\n",
      "6\n"
     ]
    }
   ],
   "source": [
    "# 틀림 ㅠ\n",
    "n, k = map(int, input().split(\" \"))\n",
    "\n",
    "sequence = list(map(int, input().split(\" \")))\n",
    "\n",
    "stack = {}\n",
    "for i in list(set(sequence)):\n",
    "    stack[i] = 0\n",
    "    \n",
    "index_ = [-1]\n",
    "for idx, j in enumerate(sequence):\n",
    "    stack[j] += 1\n",
    "    if stack[j]>k:\n",
    "        index_.append(idx)\n",
    "        \n",
    "max_length = -999999\n",
    "for i in range(1, len(index_)):\n",
    "    temp = index_[i] - index_[i-1]-1\n",
    "    max_length = max(max_length, temp)\n",
    "    \n",
    "# 맨 마지막 부분 고려\n",
    "max_length = max(max_length, len(index_) - index_[-1]-1)\n",
    "    \n",
    "print(max_length)"
   ]
  }
 ],
 "metadata": {
  "kernelspec": {
   "display_name": "Python 3 (ipykernel)",
   "language": "python",
   "name": "python3"
  },
  "language_info": {
   "codemirror_mode": {
    "name": "ipython",
    "version": 3
   },
   "file_extension": ".py",
   "mimetype": "text/x-python",
   "name": "python",
   "nbconvert_exporter": "python",
   "pygments_lexer": "ipython3",
   "version": "3.11.5"
  }
 },
 "nbformat": 4,
 "nbformat_minor": 5
}
