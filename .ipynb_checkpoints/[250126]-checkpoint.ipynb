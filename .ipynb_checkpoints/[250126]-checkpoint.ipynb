{
 "cells": [
  {
   "cell_type": "markdown",
   "id": "5096a4e7",
   "metadata": {},
   "source": [
    "# 백준 : 21921\n",
    "- 난이도 : 실버3\n",
    "- 시간 제한 : 1초\n",
    "- 메모리 제한 : 512MB\n",
    "- 카테고리 분류 : dp"
   ]
  },
  {
   "cell_type": "code",
   "execution_count": 29,
   "id": "bef7caed",
   "metadata": {},
   "outputs": [
    {
     "name": "stdout",
     "output_type": "stream",
     "text": [
      "5 3\n",
      "0 0 0 0 0\n",
      "SAD\n"
     ]
    }
   ],
   "source": [
    "# 무한 for문? > 역시 시간초과 발생함\n",
    "n, x = map(int, input().split())\n",
    "visitors = list(map(int, input().split()))\n",
    "\n",
    "visit_lst = [-1]*len(visitors)\n",
    "\n",
    "cnt = 0\n",
    "max_visitor = 0\n",
    "for idx in range(len(visitors)-2):\n",
    "    visit_lst[idx] = sum(visitors[idx:idx+x])\n",
    "\n",
    "    \n",
    "if max(visit_lst) !=0:\n",
    "    print(max(visit_lst))\n",
    "    print(visit_lst.count(max(visit_lst)))\n",
    "else:\n",
    "    print(\"SAD\")"
   ]
  },
  {
   "cell_type": "code",
   "execution_count": 68,
   "id": "b828316a",
   "metadata": {},
   "outputs": [
    {
     "name": "stdout",
     "output_type": "stream",
     "text": [
      "5 3\n",
      "0 0 0 0 0\n",
      "SAD\n"
     ]
    }
   ],
   "source": [
    "# 정답!\n",
    "n, x = map(int, input().split())\n",
    "visitors = list(map(int, input().split()))\n",
    "\n",
    "# 누적합을 이용한다.\n",
    "cum_list = [0]*len(visitors)\n",
    "cum_list[0]=visitors[0]\n",
    "\n",
    "for idx in range(1, len(visitors)):\n",
    "    cum_list[idx] =cum_list[idx-1]+visitors[idx]\n",
    "    \n",
    "sub_cum = [0]*len(visitors)\n",
    "for i in range(x-1, len(visitors)):\n",
    "    if i==x-1:\n",
    "        sub_cum[i] = cum_list[i]\n",
    "    else:\n",
    "        sub_cum[i] = cum_list[i]-cum_list[i-x]\n",
    "        \n",
    "max_sub_cum = max(sub_cum)\n",
    "if max_sub_cum ==0:\n",
    "    print(\"SAD\")\n",
    "else:\n",
    "    print(max(sub_cum))\n",
    "    print(sub_cum.count(max(sub_cum)))"
   ]
  },
  {
   "cell_type": "markdown",
   "id": "464741ca",
   "metadata": {},
   "source": [
    "# 백준 : 4659\n",
    "- 난이도 : 실버5\n",
    "- 시간 제한 : 1초\n",
    "- 메모리 제한 : 128MB\n",
    "- 카테고리 분류 : 구현"
   ]
  },
  {
   "cell_type": "code",
   "execution_count": 70,
   "id": "5c539fa7",
   "metadata": {},
   "outputs": [],
   "source": [
    "test = \"a\""
   ]
  },
  {
   "cell_type": "code",
   "execution_count": 83,
   "id": "c94c91bb",
   "metadata": {},
   "outputs": [],
   "source": [
    "alphabet = \"abcdefghijklmnopqrstuvwxyz\""
   ]
  },
  {
   "cell_type": "code",
   "execution_count": 84,
   "id": "a99ad98e",
   "metadata": {},
   "outputs": [],
   "source": [
    "# 자음 : c\n",
    "# 모음 : v\n",
    "\n",
    "alphabet = \"abcdefghijklmnopqrstuvwxyz\"\n",
    "\n",
    "alpha_dict = {}\n",
    "for i in alphabet:\n",
    "    if i in [\"a\", \"e\", \"i\", \"o\", \"u\"]:\n",
    "        alpha_dict[i] = \"vowel\"\n",
    "    else:\n",
    "        alpha_dict[i] = \"cons\""
   ]
  },
  {
   "cell_type": "code",
   "execution_count": 85,
   "id": "7d5bce3c",
   "metadata": {},
   "outputs": [
    {
     "data": {
      "text/plain": [
       "{'a': 'vowel',\n",
       " 'b': 'cons',\n",
       " 'c': 'cons',\n",
       " 'd': 'cons',\n",
       " 'e': 'vowel',\n",
       " 'f': 'cons',\n",
       " 'g': 'cons',\n",
       " 'h': 'cons',\n",
       " 'i': 'vowel',\n",
       " 'j': 'cons',\n",
       " 'k': 'cons',\n",
       " 'l': 'cons',\n",
       " 'm': 'cons',\n",
       " 'n': 'cons',\n",
       " 'o': 'vowel',\n",
       " 'p': 'cons',\n",
       " 'q': 'cons',\n",
       " 'r': 'cons',\n",
       " 's': 'cons',\n",
       " 't': 'cons',\n",
       " 'u': 'vowel',\n",
       " 'v': 'cons',\n",
       " 'w': 'cons',\n",
       " 'x': 'cons',\n",
       " 'y': 'cons',\n",
       " 'z': 'cons'}"
      ]
     },
     "execution_count": 85,
     "metadata": {},
     "output_type": "execute_result"
    }
   ],
   "source": [
    "alpha_dict"
   ]
  },
  {
   "cell_type": "code",
   "execution_count": 95,
   "id": "d312a00d",
   "metadata": {},
   "outputs": [],
   "source": [
    "test = \"a\""
   ]
  },
  {
   "cell_type": "code",
   "execution_count": 100,
   "id": "86b299eb",
   "metadata": {},
   "outputs": [
    {
     "data": {
      "text/plain": [
       "'a'"
      ]
     },
     "execution_count": 100,
     "metadata": {},
     "output_type": "execute_result"
    }
   ],
   "source": [
    "test"
   ]
  },
  {
   "cell_type": "code",
   "execution_count": 101,
   "id": "939d31f3",
   "metadata": {},
   "outputs": [],
   "source": [
    "if \"a\" not in test:\n",
    "    print(\"aa\")"
   ]
  },
  {
   "cell_type": "code",
   "execution_count": 96,
   "id": "8a88a136",
   "metadata": {},
   "outputs": [
    {
     "name": "stdout",
     "output_type": "stream",
     "text": [
      "aa\n",
      "aa\n",
      "aa\n",
      "aa\n"
     ]
    }
   ],
   "source": [
    "for i in [\"a\", \"e\", \"i\", \"o\", \"u\"]:\n",
    "    if i not in test:\n",
    "        print(\"aa\")"
   ]
  },
  {
   "cell_type": "code",
   "execution_count": 108,
   "id": "697d872c",
   "metadata": {},
   "outputs": [],
   "source": [
    "test = \"a\""
   ]
  },
  {
   "cell_type": "code",
   "execution_count": 109,
   "id": "276614bd",
   "metadata": {},
   "outputs": [
    {
     "name": "stdout",
     "output_type": "stream",
     "text": [
      "e\n"
     ]
    }
   ],
   "source": [
    "for i in [\"a\", \"e\", \"i\", \"o\", \"u\"]:\n",
    "    if i not in test:\n",
    "        print(i)\n",
    "        break"
   ]
  },
  {
   "cell_type": "code",
   "execution_count": 9,
   "id": "689c817e",
   "metadata": {},
   "outputs": [
    {
     "name": "stdout",
     "output_type": "stream",
     "text": [
      "b\n",
      "<b> is not acceptable\n",
      "e\n",
      "<e> is acceptable\n",
      "ee\n",
      "<ee> is acceptable\n",
      "aa\n",
      "<aa> is not acceptable\n",
      "ooc\n",
      "<ooc> is acceptable\n",
      "ooe\n",
      "<ooe> is not acceptable\n",
      "dd\n",
      "<dd> is not acceptable\n",
      "ggg\n",
      "<ggg> is not acceptable\n",
      "gcd\n",
      "<gcd> is not acceptable\n",
      "eeegcd\n",
      "<eeegcd> is not acceptable\n",
      "end\n"
     ]
    }
   ],
   "source": [
    "# 자음 : c\n",
    "# 모음 : v\n",
    "\n",
    "alphabet = \"abcdefghijklmnopqrstuvwxyz\"\n",
    "\n",
    "alpha_dict = {}\n",
    "for i in alphabet:\n",
    "    if i in [\"a\", \"e\", \"i\", \"o\", \"u\"]:\n",
    "        alpha_dict[i] = \"vowel\"\n",
    "    else:\n",
    "        alpha_dict[i] = \"cons\"\n",
    "        \n",
    "        \n",
    "while True:\n",
    "    test = input().strip()\n",
    "    error_ = False\n",
    "#     print(test)\n",
    "    if test == \"end\":\n",
    "        break\n",
    "    \n",
    "    \n",
    "    # 모음 하나 반드시 포함\n",
    "    for i in [\"a\", \"e\", \"i\", \"o\", \"u\"]:\n",
    "        if i in test:\n",
    "#             print(\"모음 하나이상 포함 안함\")\n",
    "            error_ = True\n",
    "            break\n",
    "        \n",
    "        \n",
    "    if not error_:\n",
    "        print(f\"<{test}> is not acceptable\")\n",
    "        continue\n",
    "    \n",
    "    # 같은 글자 연속으로 두번 X\n",
    "    for idx in range(1, len(test)):\n",
    "        if test[idx]==test[idx-1]:\n",
    "            if test[idx]!=\"e\" and test[idx]!=\"o\":\n",
    "                error_ = False\n",
    "                break\n",
    "    \n",
    "    # 같은 글자가 연속으로 두 번 나온 경우\n",
    "    if not error_:\n",
    "        print(f\"<{test}> is not acceptable\")\n",
    "        continue\n",
    "        \n",
    "    # 모음 3개, 자음 3개 연속으로 오면 안됨\n",
    "    cnt = 0\n",
    "    for idx in range(1, len(test)):\n",
    "        alpha_ = test[idx]\n",
    "        alpha_before = test[idx-1]\n",
    "        \n",
    "        if alpha_dict[alpha_] == alpha_dict[alpha_before]:\n",
    "            cnt+=1\n",
    "            if cnt == 2:\n",
    "#                 print(\"모음이나 자음 연속\")\n",
    "                error_ = False\n",
    "                break\n",
    "        else:\n",
    "            cnt=0\n",
    "            \n",
    "    # 모음이나 자음이 연속3번 나온 경우\n",
    "    if not error_:\n",
    "        print(f\"<{test}> is not acceptable\")\n",
    "        continue\n",
    "        \n",
    "    # 모두 통과했을 때\n",
    "    if error_:\n",
    "        print(f\"<{test}> is acceptable\")\n",
    "        \n"
   ]
  },
  {
   "cell_type": "code",
   "execution_count": 2,
   "id": "c6e30444",
   "metadata": {},
   "outputs": [],
   "source": [
    "test = \"aaa\""
   ]
  },
  {
   "cell_type": "code",
   "execution_count": 4,
   "id": "238d3a5e",
   "metadata": {},
   "outputs": [],
   "source": [
    "cnt = 0\n",
    "for idx in range(1, len(test)):\n",
    "    alpha_ = test[idx]\n",
    "    alpha_before = test[idx-1]\n",
    "\n",
    "    if alpha_dict[alpha_] == alpha_dict[alpha_before]:\n",
    "        cnt+=1\n",
    "        if cnt == 2:\n",
    "#                 print(\"모음이나 자음 연속\")\n",
    "            error_ = False\n",
    "            break\n",
    "    else:\n",
    "        cnt=0"
   ]
  },
  {
   "cell_type": "code",
   "execution_count": 5,
   "id": "8bc664e5",
   "metadata": {},
   "outputs": [
    {
     "data": {
      "text/plain": [
       "False"
      ]
     },
     "execution_count": 5,
     "metadata": {},
     "output_type": "execute_result"
    }
   ],
   "source": [
    "error_"
   ]
  },
  {
   "cell_type": "code",
   "execution_count": 118,
   "id": "ca98438c",
   "metadata": {},
   "outputs": [
    {
     "data": {
      "text/plain": [
       "True"
      ]
     },
     "execution_count": 118,
     "metadata": {},
     "output_type": "execute_result"
    }
   ],
   "source": [
    "error_"
   ]
  },
  {
   "cell_type": "code",
   "execution_count": 119,
   "id": "e14467bc",
   "metadata": {},
   "outputs": [
    {
     "data": {
      "text/plain": [
       "'cons'"
      ]
     },
     "execution_count": 119,
     "metadata": {},
     "output_type": "execute_result"
    }
   ],
   "source": [
    "alpha_dict[alpha_]"
   ]
  },
  {
   "cell_type": "code",
   "execution_count": 120,
   "id": "76f76a6e",
   "metadata": {},
   "outputs": [
    {
     "data": {
      "text/plain": [
       "'e'"
      ]
     },
     "execution_count": 120,
     "metadata": {},
     "output_type": "execute_result"
    }
   ],
   "source": [
    "alpha_before"
   ]
  },
  {
   "cell_type": "code",
   "execution_count": null,
   "id": "e6e6e40d",
   "metadata": {},
   "outputs": [],
   "source": []
  }
 ],
 "metadata": {
  "kernelspec": {
   "display_name": "Python 3 (ipykernel)",
   "language": "python",
   "name": "python3"
  },
  "language_info": {
   "codemirror_mode": {
    "name": "ipython",
    "version": 3
   },
   "file_extension": ".py",
   "mimetype": "text/x-python",
   "name": "python",
   "nbconvert_exporter": "python",
   "pygments_lexer": "ipython3",
   "version": "3.11.5"
  }
 },
 "nbformat": 4,
 "nbformat_minor": 5
}
