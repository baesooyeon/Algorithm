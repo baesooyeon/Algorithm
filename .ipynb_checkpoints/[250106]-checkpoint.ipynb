{
 "cells": [
  {
   "cell_type": "markdown",
   "id": "a1f0c232",
   "metadata": {},
   "source": [
    "# 프로그래머스 : 두 큐 합 같게 만들기\n",
    "- 난이도 : Lv2"
   ]
  },
  {
   "cell_type": "code",
   "execution_count": 17,
   "id": "0b910e5a",
   "metadata": {},
   "outputs": [
    {
     "ename": "NameError",
     "evalue": "name 'q1' is not defined",
     "output_type": "error",
     "traceback": [
      "\u001b[1;31m---------------------------------------------------------------------------\u001b[0m",
      "\u001b[1;31mNameError\u001b[0m                                 Traceback (most recent call last)",
      "Cell \u001b[1;32mIn[17], line 2\u001b[0m\n\u001b[0;32m      1\u001b[0m \u001b[38;5;66;03m#q1->q2로 다 옮기고, q2->q1으로 다 옮기는 횟수가 len(q1)*3이 된다.\u001b[39;00m\n\u001b[1;32m----> 2\u001b[0m limit \u001b[38;5;241m=\u001b[39m \u001b[38;5;28mlen\u001b[39m(q1)\u001b[38;5;241m*\u001b[39m\u001b[38;5;241m3\u001b[39m\n",
      "\u001b[1;31mNameError\u001b[0m: name 'q1' is not defined"
     ]
    }
   ],
   "source": [
    "#q1->q2로 다 옮기고, q2->q1으로 다 옮기는 횟수가 len(q1)*3이 된다.\n",
    "limit = len(q1)*3"
   ]
  },
  {
   "cell_type": "code",
   "execution_count": 52,
   "id": "426c6511",
   "metadata": {},
   "outputs": [],
   "source": [
    "from collections import deque\n",
    "def solution(queue1, queue2):\n",
    "\n",
    "    q1 = deque(queue1)\n",
    "    q2 = deque(queue2)\n",
    "\n",
    "    sum1 = sum(q1)\n",
    "    sum2 = sum(q2)\n",
    "    \n",
    "    limit = len(q1)*3\n",
    "    \n",
    "    cnt = 0\n",
    "    \n",
    "    while sum1!=sum2:\n",
    "        if sum1>sum2:\n",
    "            x = q1.popleft()\n",
    "            q2.append(x)\n",
    "            sum1-=x\n",
    "            sum2+=x\n",
    "\n",
    "        elif sum1< sum2:\n",
    "            x = q2.popleft()\n",
    "            q1.append(x)\n",
    "            sum1+=x\n",
    "            sum2-=x\n",
    "            \n",
    "        cnt+=1\n",
    "        if cnt==limit:\n",
    "            return -1\n",
    "    return cnt"
   ]
  },
  {
   "cell_type": "code",
   "execution_count": 53,
   "id": "523b02af",
   "metadata": {},
   "outputs": [
    {
     "data": {
      "text/plain": [
       "7"
      ]
     },
     "execution_count": 53,
     "metadata": {},
     "output_type": "execute_result"
    }
   ],
   "source": [
    "solution(queue1, queue2)"
   ]
  },
  {
   "cell_type": "markdown",
   "id": "a4ee113b",
   "metadata": {},
   "source": [
    "# 프로그래머스 : 파괴되지 않은 건물\n",
    "- 난이도 : Lv.3"
   ]
  },
  {
   "cell_type": "code",
   "execution_count": 84,
   "id": "ffd21455",
   "metadata": {},
   "outputs": [],
   "source": [
    "board = [[5,5,5,5,5],[5,5,5,5,5],[5,5,5,5,5],[5,5,5,5,5]]\n",
    "skill = [[1,0,0,3,4,4],[1,2,0,2,3,2],[2,1,0,3,1,2],[1,0,1,3,3,1]]"
   ]
  },
  {
   "cell_type": "code",
   "execution_count": 80,
   "id": "83158d23",
   "metadata": {},
   "outputs": [],
   "source": [
    "# 정확성은 맞지만 효율성에서 모두 틀림\n",
    "def solution(board, skill):\n",
    "    for i in skill:\n",
    "        type_ = i[0]\n",
    "        r1 = i[1]\n",
    "        c1 = i[2]\n",
    "        r2 = i[3]\n",
    "        c2 = i[4]\n",
    "        degree = i[5]\n",
    "\n",
    "        # type : 1 = 적의 공격\n",
    "        # type : 2 = 아군의 회복\n",
    "        if type_==1:\n",
    "            for r in range(r1, r2+1):\n",
    "                for c in range(c1, c2+1):\n",
    "                    board[r][c]-=degree\n",
    "        elif type_==2:\n",
    "            for r in range(r1, r2+1):\n",
    "                for c in range(c1, c2+1):\n",
    "                    board[r][c]+=degree\n",
    "\n",
    "    cnt = 0\n",
    "    for i in board:\n",
    "        for j in i:\n",
    "            if j>=1:\n",
    "                cnt+=1\n",
    "                \n",
    "    return cnt"
   ]
  },
  {
   "cell_type": "code",
   "execution_count": 81,
   "id": "14fd5d88",
   "metadata": {},
   "outputs": [
    {
     "data": {
      "text/plain": [
       "10"
      ]
     },
     "execution_count": 81,
     "metadata": {},
     "output_type": "execute_result"
    }
   ],
   "source": [
    "solution(board, skill)"
   ]
  },
  {
   "cell_type": "code",
   "execution_count": 82,
   "id": "23e104aa",
   "metadata": {},
   "outputs": [],
   "source": [
    "# 효율성 어떻게 해야하지..?! \n",
    "def solution(board, skill):\n",
    "    tmp = [[0]*(len(board[0])+1) for _ in range(len(board)+1)]\n",
    "\n",
    "    for type_, r1, c1, r2, c2, degree in skill:\n",
    "        if type_==2:\n",
    "            tmp[r1][c1]+=degree\n",
    "            tmp[r1][c2+1]-=degree\n",
    "            tmp[r2+1][c1]-=degree\n",
    "            tmp[r2+1][c2+1]+=degree\n",
    "        else:\n",
    "            tmp[r1][c1]-=degree\n",
    "            tmp[r1][c2+1]+=degree\n",
    "            tmp[r2+1][c1]+=degree\n",
    "            tmp[r2+1][c2+1]-=degree\n",
    "\n",
    "\n",
    "    # 행 계산\n",
    "    for i in range(len(tmp)):\n",
    "        for j in range(1, len(tmp[0])):\n",
    "            tmp[i][j] +=tmp[i][j-1]\n",
    "\n",
    "    # 열 계산\n",
    "    for i in range(1, len(tmp)):\n",
    "        for j in range(len(tmp[0])):\n",
    "            tmp[i][j]+=tmp[i-1][j]\n",
    "\n",
    "    answer = 0\n",
    "    # board와 합쳐주기\n",
    "    for r in range(len(board)):\n",
    "        for c in range(len(board[0])):\n",
    "            board[r][c]+=tmp[r][c]\n",
    "            if board[r][c]>=1:\n",
    "                answer+=1\n",
    "\n",
    "    return answer"
   ]
  },
  {
   "cell_type": "code",
   "execution_count": 85,
   "id": "3e6c70e8",
   "metadata": {},
   "outputs": [
    {
     "data": {
      "text/plain": [
       "10"
      ]
     },
     "execution_count": 85,
     "metadata": {},
     "output_type": "execute_result"
    }
   ],
   "source": [
    "solution(board, skill)"
   ]
  },
  {
   "cell_type": "markdown",
   "id": "5175efcd",
   "metadata": {},
   "source": [
    "# 프로그래머스 : 거리두기 확인하기\n",
    "- 난이도 : Lv2\n",
    "- 분류 : 구현"
   ]
  },
  {
   "cell_type": "code",
   "execution_count": 2,
   "id": "4bb147aa",
   "metadata": {},
   "outputs": [],
   "source": [
    "# places[0]만 확인하기\n",
    "def solution(places):\n",
    "    result = []\n",
    "    for place in places:\n",
    "        tmp = [[i for i in j] for j in place]\n",
    "        flag = True\n",
    "\n",
    "        for r in range(5):\n",
    "            for c in range(5):\n",
    "                if tmp[r][c]==\"P\":\n",
    "                    \n",
    "                    # 위반한 경우의 수 위반한 경우의 수\n",
    "                    if c+1<5 and tmp[r][c+1]!=\"X\":\n",
    "                        if (c+2<5 and tmp[r][c+2]==\"P\"):\n",
    "                            result.append(0)\n",
    "                            flag = False\n",
    "                            break\n",
    "\n",
    "                    if r+1<5 and tmp[r+1][c]!=\"X\":\n",
    "                        if (r+2<5 and tmp[r+2][c]==\"P\"):\n",
    "                            result.append(0)\n",
    "                            flag = False\n",
    "                            break\n",
    "                    \n",
    "                    if (r+1<5 and tmp[r+1][c]==\"P\") or (c+1<5 and tmp[r][c+1]==\"P\"):\n",
    "                        result.append(0)\n",
    "                        flag = False\n",
    "                        break\n",
    "                        \n",
    "                    if r+1<5 and c+1<5:\n",
    "                        if tmp[r+1][c]==\"O\" or tmp[r][c+1]==\"O\":\n",
    "                            if tmp[r+1][c+1]==\"P\":\n",
    "                                result.append(0)\n",
    "                                flag = False\n",
    "                                break\n",
    "                    \n",
    "                    if r+1<5 and c-1>=0:\n",
    "                        if tmp[r+1][c]==\"O\" or tmp[r][c-1]==\"O\":\n",
    "                            if tmp[r+1][c-1]==\"P\":\n",
    "                                result.append(0)\n",
    "                                flag = False\n",
    "                                break\n",
    "                        \n",
    "            if flag==False:\n",
    "                break\n",
    "\n",
    "        if flag:\n",
    "            result.append(1)\n",
    "            \n",
    "    return result"
   ]
  },
  {
   "cell_type": "code",
   "execution_count": 3,
   "id": "665a2d8a",
   "metadata": {},
   "outputs": [
    {
     "data": {
      "text/plain": [
       "[1, 0, 1, 1, 1]"
      ]
     },
     "execution_count": 3,
     "metadata": {},
     "output_type": "execute_result"
    }
   ],
   "source": [
    "solution(places)"
   ]
  }
 ],
 "metadata": {
  "kernelspec": {
   "display_name": "Python 3 (ipykernel)",
   "language": "python",
   "name": "python3"
  },
  "language_info": {
   "codemirror_mode": {
    "name": "ipython",
    "version": 3
   },
   "file_extension": ".py",
   "mimetype": "text/x-python",
   "name": "python",
   "nbconvert_exporter": "python",
   "pygments_lexer": "ipython3",
   "version": "3.11.5"
  }
 },
 "nbformat": 4,
 "nbformat_minor": 5
}
